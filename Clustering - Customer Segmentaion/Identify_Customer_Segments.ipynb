{
 "cells": [
  {
   "cell_type": "markdown",
   "metadata": {},
   "source": [
    "# Project: Identify Customer Segments\n",
    "\n",
    "In this project, you will apply unsupervised learning techniques to identify segments of the population that form the core customer base for a mail-order sales company in Germany. These segments can then be used to direct marketing campaigns towards audiences that will have the highest expected rate of returns. The data that you will use has been provided by our partners at Bertelsmann Arvato Analytics, and represents a real-life data science task.\n",
    "\n",
    "This notebook will help you complete this task by providing a framework within which you will perform your analysis steps. In each step of the project, you will see some text describing the subtask that you will perform, followed by one or more code cells for you to complete your work. **Feel free to add additional code and markdown cells as you go along so that you can explore everything in precise chunks.** The code cells provided in the base template will outline only the major tasks, and will usually not be enough to cover all of the minor tasks that comprise it.\n",
    "\n",
    "It should be noted that while there will be precise guidelines on how you should handle certain tasks in the project, there will also be places where an exact specification is not provided. **There will be times in the project where you will need to make and justify your own decisions on how to treat the data.** These are places where there may not be only one way to handle the data. In real-life tasks, there may be many valid ways to approach an analysis task. One of the most important things you can do is clearly document your approach so that other scientists can understand the decisions you've made.\n",
    "\n",
    "At the end of most sections, there will be a Markdown cell labeled **Discussion**. In these cells, you will report your findings for the completed section, as well as document the decisions that you made in your approach to each subtask. **Your project will be evaluated not just on the code used to complete the tasks outlined, but also your communication about your observations and conclusions at each stage.**"
   ]
  },
  {
   "cell_type": "code",
   "execution_count": 1,
   "metadata": {},
   "outputs": [],
   "source": [
    "# import libraries here; add more as necessary\n",
    "import numpy as np\n",
    "import pandas as pd\n",
    "import matplotlib.pyplot as plt\n",
    "import seaborn as sns\n",
    "\n",
    "# magic word for producing visualizations in notebook\n",
    "%matplotlib inline"
   ]
  },
  {
   "cell_type": "markdown",
   "metadata": {},
   "source": [
    "### Step 0: Load the Data\n",
    "\n",
    "There are four files associated with this project (not including this one):\n",
    "\n",
    "- `Udacity_AZDIAS_Subset.csv`: Demographics data for the general population of Germany; 891211 persons (rows) x 85 features (columns).\n",
    "- `Udacity_CUSTOMERS_Subset.csv`: Demographics data for customers of a mail-order company; 191652 persons (rows) x 85 features (columns).\n",
    "- `Data_Dictionary.md`: Detailed information file about the features in the provided datasets.\n",
    "- `AZDIAS_Feature_Summary.csv`: Summary of feature attributes for demographics data; 85 features (rows) x 4 columns\n",
    "\n",
    "Each row of the demographics files represents a single person, but also includes information outside of individuals, including information about their household, building, and neighborhood. You will use this information to cluster the general population into groups with similar demographic properties. Then, you will see how the people in the customers dataset fit into those created clusters. The hope here is that certain clusters are over-represented in the customers data, as compared to the general population; those over-represented clusters will be assumed to be part of the core userbase. This information can then be used for further applications, such as targeting for a marketing campaign.\n",
    "\n",
    "To start off with, load in the demographics data for the general population into a pandas DataFrame, and do the same for the feature attributes summary. Note for all of the `.csv` data files in this project: they're semicolon (`;`) delimited, so you'll need an additional argument in your [`read_csv()`](https://pandas.pydata.org/pandas-docs/stable/generated/pandas.read_csv.html) call to read in the data properly. Also, considering the size of the main dataset, it may take some time for it to load completely.\n",
    "\n",
    "Once the dataset is loaded, it's recommended that you take a little bit of time just browsing the general structure of the dataset and feature summary file. You'll be getting deep into the innards of the cleaning in the first major step of the project, so gaining some general familiarity can help you get your bearings."
   ]
  },
  {
   "cell_type": "code",
   "execution_count": 2,
   "metadata": {},
   "outputs": [],
   "source": [
    "# Load in the general demographics data.\n",
    "azdias = pd.read_csv('Udacity_AZDIAS_Subset.csv',sep=';')\n",
    "\n",
    "# Load in the feature summary file.\n",
    "feat_info = pd.read_csv('AZDIAS_Feature_Summary.csv',sep=';')"
   ]
  },
  {
   "cell_type": "code",
   "execution_count": 3,
   "metadata": {},
   "outputs": [
    {
     "data": {
      "text/html": [
       "<div>\n",
       "<style scoped>\n",
       "    .dataframe tbody tr th:only-of-type {\n",
       "        vertical-align: middle;\n",
       "    }\n",
       "\n",
       "    .dataframe tbody tr th {\n",
       "        vertical-align: top;\n",
       "    }\n",
       "\n",
       "    .dataframe thead th {\n",
       "        text-align: right;\n",
       "    }\n",
       "</style>\n",
       "<table border=\"1\" class=\"dataframe\">\n",
       "  <thead>\n",
       "    <tr style=\"text-align: right;\">\n",
       "      <th></th>\n",
       "      <th>AGER_TYP</th>\n",
       "      <th>ALTERSKATEGORIE_GROB</th>\n",
       "      <th>ANREDE_KZ</th>\n",
       "      <th>CJT_GESAMTTYP</th>\n",
       "      <th>FINANZ_MINIMALIST</th>\n",
       "      <th>FINANZ_SPARER</th>\n",
       "      <th>FINANZ_VORSORGER</th>\n",
       "      <th>FINANZ_ANLEGER</th>\n",
       "      <th>FINANZ_UNAUFFAELLIGER</th>\n",
       "      <th>FINANZ_HAUSBAUER</th>\n",
       "      <th>...</th>\n",
       "      <th>PLZ8_ANTG1</th>\n",
       "      <th>PLZ8_ANTG2</th>\n",
       "      <th>PLZ8_ANTG3</th>\n",
       "      <th>PLZ8_ANTG4</th>\n",
       "      <th>PLZ8_BAUMAX</th>\n",
       "      <th>PLZ8_HHZ</th>\n",
       "      <th>PLZ8_GBZ</th>\n",
       "      <th>ARBEIT</th>\n",
       "      <th>ORTSGR_KLS9</th>\n",
       "      <th>RELAT_AB</th>\n",
       "    </tr>\n",
       "  </thead>\n",
       "  <tbody>\n",
       "    <tr>\n",
       "      <th>0</th>\n",
       "      <td>-1</td>\n",
       "      <td>2</td>\n",
       "      <td>1</td>\n",
       "      <td>2.0</td>\n",
       "      <td>3</td>\n",
       "      <td>4</td>\n",
       "      <td>3</td>\n",
       "      <td>5</td>\n",
       "      <td>5</td>\n",
       "      <td>3</td>\n",
       "      <td>...</td>\n",
       "      <td>NaN</td>\n",
       "      <td>NaN</td>\n",
       "      <td>NaN</td>\n",
       "      <td>NaN</td>\n",
       "      <td>NaN</td>\n",
       "      <td>NaN</td>\n",
       "      <td>NaN</td>\n",
       "      <td>NaN</td>\n",
       "      <td>NaN</td>\n",
       "      <td>NaN</td>\n",
       "    </tr>\n",
       "    <tr>\n",
       "      <th>1</th>\n",
       "      <td>-1</td>\n",
       "      <td>1</td>\n",
       "      <td>2</td>\n",
       "      <td>5.0</td>\n",
       "      <td>1</td>\n",
       "      <td>5</td>\n",
       "      <td>2</td>\n",
       "      <td>5</td>\n",
       "      <td>4</td>\n",
       "      <td>5</td>\n",
       "      <td>...</td>\n",
       "      <td>2.0</td>\n",
       "      <td>3.0</td>\n",
       "      <td>2.0</td>\n",
       "      <td>1.0</td>\n",
       "      <td>1.0</td>\n",
       "      <td>5.0</td>\n",
       "      <td>4.0</td>\n",
       "      <td>3.0</td>\n",
       "      <td>5.0</td>\n",
       "      <td>4.0</td>\n",
       "    </tr>\n",
       "    <tr>\n",
       "      <th>2</th>\n",
       "      <td>-1</td>\n",
       "      <td>3</td>\n",
       "      <td>2</td>\n",
       "      <td>3.0</td>\n",
       "      <td>1</td>\n",
       "      <td>4</td>\n",
       "      <td>1</td>\n",
       "      <td>2</td>\n",
       "      <td>3</td>\n",
       "      <td>5</td>\n",
       "      <td>...</td>\n",
       "      <td>3.0</td>\n",
       "      <td>3.0</td>\n",
       "      <td>1.0</td>\n",
       "      <td>0.0</td>\n",
       "      <td>1.0</td>\n",
       "      <td>4.0</td>\n",
       "      <td>4.0</td>\n",
       "      <td>3.0</td>\n",
       "      <td>5.0</td>\n",
       "      <td>2.0</td>\n",
       "    </tr>\n",
       "    <tr>\n",
       "      <th>3</th>\n",
       "      <td>2</td>\n",
       "      <td>4</td>\n",
       "      <td>2</td>\n",
       "      <td>2.0</td>\n",
       "      <td>4</td>\n",
       "      <td>2</td>\n",
       "      <td>5</td>\n",
       "      <td>2</td>\n",
       "      <td>1</td>\n",
       "      <td>2</td>\n",
       "      <td>...</td>\n",
       "      <td>2.0</td>\n",
       "      <td>2.0</td>\n",
       "      <td>2.0</td>\n",
       "      <td>0.0</td>\n",
       "      <td>1.0</td>\n",
       "      <td>3.0</td>\n",
       "      <td>4.0</td>\n",
       "      <td>2.0</td>\n",
       "      <td>3.0</td>\n",
       "      <td>3.0</td>\n",
       "    </tr>\n",
       "    <tr>\n",
       "      <th>4</th>\n",
       "      <td>-1</td>\n",
       "      <td>3</td>\n",
       "      <td>1</td>\n",
       "      <td>5.0</td>\n",
       "      <td>4</td>\n",
       "      <td>3</td>\n",
       "      <td>4</td>\n",
       "      <td>1</td>\n",
       "      <td>3</td>\n",
       "      <td>2</td>\n",
       "      <td>...</td>\n",
       "      <td>2.0</td>\n",
       "      <td>4.0</td>\n",
       "      <td>2.0</td>\n",
       "      <td>1.0</td>\n",
       "      <td>2.0</td>\n",
       "      <td>3.0</td>\n",
       "      <td>3.0</td>\n",
       "      <td>4.0</td>\n",
       "      <td>6.0</td>\n",
       "      <td>5.0</td>\n",
       "    </tr>\n",
       "  </tbody>\n",
       "</table>\n",
       "<p>5 rows × 85 columns</p>\n",
       "</div>"
      ],
      "text/plain": [
       "   AGER_TYP  ALTERSKATEGORIE_GROB  ANREDE_KZ  CJT_GESAMTTYP  \\\n",
       "0        -1                     2          1            2.0   \n",
       "1        -1                     1          2            5.0   \n",
       "2        -1                     3          2            3.0   \n",
       "3         2                     4          2            2.0   \n",
       "4        -1                     3          1            5.0   \n",
       "\n",
       "   FINANZ_MINIMALIST  FINANZ_SPARER  FINANZ_VORSORGER  FINANZ_ANLEGER  \\\n",
       "0                  3              4                 3               5   \n",
       "1                  1              5                 2               5   \n",
       "2                  1              4                 1               2   \n",
       "3                  4              2                 5               2   \n",
       "4                  4              3                 4               1   \n",
       "\n",
       "   FINANZ_UNAUFFAELLIGER  FINANZ_HAUSBAUER    ...     PLZ8_ANTG1  PLZ8_ANTG2  \\\n",
       "0                      5                 3    ...            NaN         NaN   \n",
       "1                      4                 5    ...            2.0         3.0   \n",
       "2                      3                 5    ...            3.0         3.0   \n",
       "3                      1                 2    ...            2.0         2.0   \n",
       "4                      3                 2    ...            2.0         4.0   \n",
       "\n",
       "   PLZ8_ANTG3  PLZ8_ANTG4  PLZ8_BAUMAX  PLZ8_HHZ  PLZ8_GBZ  ARBEIT  \\\n",
       "0         NaN         NaN          NaN       NaN       NaN     NaN   \n",
       "1         2.0         1.0          1.0       5.0       4.0     3.0   \n",
       "2         1.0         0.0          1.0       4.0       4.0     3.0   \n",
       "3         2.0         0.0          1.0       3.0       4.0     2.0   \n",
       "4         2.0         1.0          2.0       3.0       3.0     4.0   \n",
       "\n",
       "   ORTSGR_KLS9  RELAT_AB  \n",
       "0          NaN       NaN  \n",
       "1          5.0       4.0  \n",
       "2          5.0       2.0  \n",
       "3          3.0       3.0  \n",
       "4          6.0       5.0  \n",
       "\n",
       "[5 rows x 85 columns]"
      ]
     },
     "execution_count": 3,
     "metadata": {},
     "output_type": "execute_result"
    }
   ],
   "source": [
    "# Check the structure of the data after it's loaded (e.g. print the number of\n",
    "# rows and columns, print the first few rows).\n",
    "azdias.head()"
   ]
  },
  {
   "cell_type": "code",
   "execution_count": 4,
   "metadata": {},
   "outputs": [
    {
     "data": {
      "text/plain": [
       "(891221, 85)"
      ]
     },
     "execution_count": 4,
     "metadata": {},
     "output_type": "execute_result"
    }
   ],
   "source": [
    "azdias.shape"
   ]
  },
  {
   "cell_type": "code",
   "execution_count": 5,
   "metadata": {},
   "outputs": [
    {
     "data": {
      "text/html": [
       "<div>\n",
       "<style scoped>\n",
       "    .dataframe tbody tr th:only-of-type {\n",
       "        vertical-align: middle;\n",
       "    }\n",
       "\n",
       "    .dataframe tbody tr th {\n",
       "        vertical-align: top;\n",
       "    }\n",
       "\n",
       "    .dataframe thead th {\n",
       "        text-align: right;\n",
       "    }\n",
       "</style>\n",
       "<table border=\"1\" class=\"dataframe\">\n",
       "  <thead>\n",
       "    <tr style=\"text-align: right;\">\n",
       "      <th></th>\n",
       "      <th>attribute</th>\n",
       "      <th>information_level</th>\n",
       "      <th>type</th>\n",
       "      <th>missing_or_unknown</th>\n",
       "    </tr>\n",
       "  </thead>\n",
       "  <tbody>\n",
       "    <tr>\n",
       "      <th>50</th>\n",
       "      <td>ANZ_HAUSHALTE_AKTIV</td>\n",
       "      <td>building</td>\n",
       "      <td>numeric</td>\n",
       "      <td>[0]</td>\n",
       "    </tr>\n",
       "    <tr>\n",
       "      <th>51</th>\n",
       "      <td>ANZ_HH_TITEL</td>\n",
       "      <td>building</td>\n",
       "      <td>numeric</td>\n",
       "      <td>[]</td>\n",
       "    </tr>\n",
       "    <tr>\n",
       "      <th>52</th>\n",
       "      <td>GEBAEUDETYP</td>\n",
       "      <td>building</td>\n",
       "      <td>categorical</td>\n",
       "      <td>[-1,0]</td>\n",
       "    </tr>\n",
       "    <tr>\n",
       "      <th>53</th>\n",
       "      <td>KONSUMNAEHE</td>\n",
       "      <td>building</td>\n",
       "      <td>ordinal</td>\n",
       "      <td>[]</td>\n",
       "    </tr>\n",
       "    <tr>\n",
       "      <th>54</th>\n",
       "      <td>MIN_GEBAEUDEJAHR</td>\n",
       "      <td>building</td>\n",
       "      <td>numeric</td>\n",
       "      <td>[0]</td>\n",
       "    </tr>\n",
       "    <tr>\n",
       "      <th>55</th>\n",
       "      <td>OST_WEST_KZ</td>\n",
       "      <td>building</td>\n",
       "      <td>categorical</td>\n",
       "      <td>[-1]</td>\n",
       "    </tr>\n",
       "    <tr>\n",
       "      <th>56</th>\n",
       "      <td>WOHNLAGE</td>\n",
       "      <td>building</td>\n",
       "      <td>mixed</td>\n",
       "      <td>[-1]</td>\n",
       "    </tr>\n",
       "    <tr>\n",
       "      <th>57</th>\n",
       "      <td>CAMEO_DEUG_2015</td>\n",
       "      <td>microcell_rr4</td>\n",
       "      <td>categorical</td>\n",
       "      <td>[-1,X]</td>\n",
       "    </tr>\n",
       "    <tr>\n",
       "      <th>58</th>\n",
       "      <td>CAMEO_DEU_2015</td>\n",
       "      <td>microcell_rr4</td>\n",
       "      <td>categorical</td>\n",
       "      <td>[XX]</td>\n",
       "    </tr>\n",
       "    <tr>\n",
       "      <th>59</th>\n",
       "      <td>CAMEO_INTL_2015</td>\n",
       "      <td>microcell_rr4</td>\n",
       "      <td>mixed</td>\n",
       "      <td>[-1,XX]</td>\n",
       "    </tr>\n",
       "    <tr>\n",
       "      <th>60</th>\n",
       "      <td>KBA05_ANTG1</td>\n",
       "      <td>microcell_rr3</td>\n",
       "      <td>ordinal</td>\n",
       "      <td>[-1]</td>\n",
       "    </tr>\n",
       "    <tr>\n",
       "      <th>61</th>\n",
       "      <td>KBA05_ANTG2</td>\n",
       "      <td>microcell_rr3</td>\n",
       "      <td>ordinal</td>\n",
       "      <td>[-1]</td>\n",
       "    </tr>\n",
       "    <tr>\n",
       "      <th>62</th>\n",
       "      <td>KBA05_ANTG3</td>\n",
       "      <td>microcell_rr3</td>\n",
       "      <td>ordinal</td>\n",
       "      <td>[-1]</td>\n",
       "    </tr>\n",
       "    <tr>\n",
       "      <th>63</th>\n",
       "      <td>KBA05_ANTG4</td>\n",
       "      <td>microcell_rr3</td>\n",
       "      <td>ordinal</td>\n",
       "      <td>[-1]</td>\n",
       "    </tr>\n",
       "    <tr>\n",
       "      <th>64</th>\n",
       "      <td>KBA05_BAUMAX</td>\n",
       "      <td>microcell_rr3</td>\n",
       "      <td>mixed</td>\n",
       "      <td>[-1,0]</td>\n",
       "    </tr>\n",
       "    <tr>\n",
       "      <th>65</th>\n",
       "      <td>KBA05_GBZ</td>\n",
       "      <td>microcell_rr3</td>\n",
       "      <td>ordinal</td>\n",
       "      <td>[-1,0]</td>\n",
       "    </tr>\n",
       "    <tr>\n",
       "      <th>66</th>\n",
       "      <td>BALLRAUM</td>\n",
       "      <td>postcode</td>\n",
       "      <td>ordinal</td>\n",
       "      <td>[-1]</td>\n",
       "    </tr>\n",
       "    <tr>\n",
       "      <th>67</th>\n",
       "      <td>EWDICHTE</td>\n",
       "      <td>postcode</td>\n",
       "      <td>ordinal</td>\n",
       "      <td>[-1]</td>\n",
       "    </tr>\n",
       "    <tr>\n",
       "      <th>68</th>\n",
       "      <td>INNENSTADT</td>\n",
       "      <td>postcode</td>\n",
       "      <td>ordinal</td>\n",
       "      <td>[-1]</td>\n",
       "    </tr>\n",
       "    <tr>\n",
       "      <th>69</th>\n",
       "      <td>GEBAEUDETYP_RASTER</td>\n",
       "      <td>region_rr1</td>\n",
       "      <td>ordinal</td>\n",
       "      <td>[]</td>\n",
       "    </tr>\n",
       "    <tr>\n",
       "      <th>70</th>\n",
       "      <td>KKK</td>\n",
       "      <td>region_rr1</td>\n",
       "      <td>ordinal</td>\n",
       "      <td>[-1,0]</td>\n",
       "    </tr>\n",
       "    <tr>\n",
       "      <th>71</th>\n",
       "      <td>MOBI_REGIO</td>\n",
       "      <td>region_rr1</td>\n",
       "      <td>ordinal</td>\n",
       "      <td>[]</td>\n",
       "    </tr>\n",
       "    <tr>\n",
       "      <th>72</th>\n",
       "      <td>ONLINE_AFFINITAET</td>\n",
       "      <td>region_rr1</td>\n",
       "      <td>ordinal</td>\n",
       "      <td>[]</td>\n",
       "    </tr>\n",
       "    <tr>\n",
       "      <th>73</th>\n",
       "      <td>REGIOTYP</td>\n",
       "      <td>region_rr1</td>\n",
       "      <td>ordinal</td>\n",
       "      <td>[-1,0]</td>\n",
       "    </tr>\n",
       "    <tr>\n",
       "      <th>74</th>\n",
       "      <td>KBA13_ANZAHL_PKW</td>\n",
       "      <td>macrocell_plz8</td>\n",
       "      <td>numeric</td>\n",
       "      <td>[]</td>\n",
       "    </tr>\n",
       "    <tr>\n",
       "      <th>75</th>\n",
       "      <td>PLZ8_ANTG1</td>\n",
       "      <td>macrocell_plz8</td>\n",
       "      <td>ordinal</td>\n",
       "      <td>[-1]</td>\n",
       "    </tr>\n",
       "    <tr>\n",
       "      <th>76</th>\n",
       "      <td>PLZ8_ANTG2</td>\n",
       "      <td>macrocell_plz8</td>\n",
       "      <td>ordinal</td>\n",
       "      <td>[-1]</td>\n",
       "    </tr>\n",
       "    <tr>\n",
       "      <th>77</th>\n",
       "      <td>PLZ8_ANTG3</td>\n",
       "      <td>macrocell_plz8</td>\n",
       "      <td>ordinal</td>\n",
       "      <td>[-1]</td>\n",
       "    </tr>\n",
       "    <tr>\n",
       "      <th>78</th>\n",
       "      <td>PLZ8_ANTG4</td>\n",
       "      <td>macrocell_plz8</td>\n",
       "      <td>ordinal</td>\n",
       "      <td>[-1]</td>\n",
       "    </tr>\n",
       "    <tr>\n",
       "      <th>79</th>\n",
       "      <td>PLZ8_BAUMAX</td>\n",
       "      <td>macrocell_plz8</td>\n",
       "      <td>mixed</td>\n",
       "      <td>[-1,0]</td>\n",
       "    </tr>\n",
       "    <tr>\n",
       "      <th>80</th>\n",
       "      <td>PLZ8_HHZ</td>\n",
       "      <td>macrocell_plz8</td>\n",
       "      <td>ordinal</td>\n",
       "      <td>[-1]</td>\n",
       "    </tr>\n",
       "    <tr>\n",
       "      <th>81</th>\n",
       "      <td>PLZ8_GBZ</td>\n",
       "      <td>macrocell_plz8</td>\n",
       "      <td>ordinal</td>\n",
       "      <td>[-1]</td>\n",
       "    </tr>\n",
       "    <tr>\n",
       "      <th>82</th>\n",
       "      <td>ARBEIT</td>\n",
       "      <td>community</td>\n",
       "      <td>ordinal</td>\n",
       "      <td>[-1,9]</td>\n",
       "    </tr>\n",
       "    <tr>\n",
       "      <th>83</th>\n",
       "      <td>ORTSGR_KLS9</td>\n",
       "      <td>community</td>\n",
       "      <td>ordinal</td>\n",
       "      <td>[-1,0]</td>\n",
       "    </tr>\n",
       "    <tr>\n",
       "      <th>84</th>\n",
       "      <td>RELAT_AB</td>\n",
       "      <td>community</td>\n",
       "      <td>ordinal</td>\n",
       "      <td>[-1,9]</td>\n",
       "    </tr>\n",
       "  </tbody>\n",
       "</table>\n",
       "</div>"
      ],
      "text/plain": [
       "              attribute information_level         type missing_or_unknown\n",
       "50  ANZ_HAUSHALTE_AKTIV          building      numeric                [0]\n",
       "51         ANZ_HH_TITEL          building      numeric                 []\n",
       "52          GEBAEUDETYP          building  categorical             [-1,0]\n",
       "53          KONSUMNAEHE          building      ordinal                 []\n",
       "54     MIN_GEBAEUDEJAHR          building      numeric                [0]\n",
       "55          OST_WEST_KZ          building  categorical               [-1]\n",
       "56             WOHNLAGE          building        mixed               [-1]\n",
       "57      CAMEO_DEUG_2015     microcell_rr4  categorical             [-1,X]\n",
       "58       CAMEO_DEU_2015     microcell_rr4  categorical               [XX]\n",
       "59      CAMEO_INTL_2015     microcell_rr4        mixed            [-1,XX]\n",
       "60          KBA05_ANTG1     microcell_rr3      ordinal               [-1]\n",
       "61          KBA05_ANTG2     microcell_rr3      ordinal               [-1]\n",
       "62          KBA05_ANTG3     microcell_rr3      ordinal               [-1]\n",
       "63          KBA05_ANTG4     microcell_rr3      ordinal               [-1]\n",
       "64         KBA05_BAUMAX     microcell_rr3        mixed             [-1,0]\n",
       "65            KBA05_GBZ     microcell_rr3      ordinal             [-1,0]\n",
       "66             BALLRAUM          postcode      ordinal               [-1]\n",
       "67             EWDICHTE          postcode      ordinal               [-1]\n",
       "68           INNENSTADT          postcode      ordinal               [-1]\n",
       "69   GEBAEUDETYP_RASTER        region_rr1      ordinal                 []\n",
       "70                  KKK        region_rr1      ordinal             [-1,0]\n",
       "71           MOBI_REGIO        region_rr1      ordinal                 []\n",
       "72    ONLINE_AFFINITAET        region_rr1      ordinal                 []\n",
       "73             REGIOTYP        region_rr1      ordinal             [-1,0]\n",
       "74     KBA13_ANZAHL_PKW    macrocell_plz8      numeric                 []\n",
       "75           PLZ8_ANTG1    macrocell_plz8      ordinal               [-1]\n",
       "76           PLZ8_ANTG2    macrocell_plz8      ordinal               [-1]\n",
       "77           PLZ8_ANTG3    macrocell_plz8      ordinal               [-1]\n",
       "78           PLZ8_ANTG4    macrocell_plz8      ordinal               [-1]\n",
       "79          PLZ8_BAUMAX    macrocell_plz8        mixed             [-1,0]\n",
       "80             PLZ8_HHZ    macrocell_plz8      ordinal               [-1]\n",
       "81             PLZ8_GBZ    macrocell_plz8      ordinal               [-1]\n",
       "82               ARBEIT         community      ordinal             [-1,9]\n",
       "83          ORTSGR_KLS9         community      ordinal             [-1,0]\n",
       "84             RELAT_AB         community      ordinal             [-1,9]"
      ]
     },
     "execution_count": 5,
     "metadata": {},
     "output_type": "execute_result"
    }
   ],
   "source": [
    "feat_info[50:] #.head(30)"
   ]
  },
  {
   "cell_type": "code",
   "execution_count": 6,
   "metadata": {},
   "outputs": [
    {
     "data": {
      "text/plain": [
       "(85, 4)"
      ]
     },
     "execution_count": 6,
     "metadata": {},
     "output_type": "execute_result"
    }
   ],
   "source": [
    "feat_info.shape"
   ]
  },
  {
   "cell_type": "markdown",
   "metadata": {},
   "source": [
    "> **Tip**: Add additional cells to keep everything in reasonably-sized chunks! Keyboard shortcut `esc --> a` (press escape to enter command mode, then press the 'A' key) adds a new cell before the active cell, and `esc --> b` adds a new cell after the active cell. If you need to convert an active cell to a markdown cell, use `esc --> m` and to convert to a code cell, use `esc --> y`. \n",
    "\n",
    "## Step 1: Preprocessing\n",
    "\n",
    "### Step 1.1: Assess Missing Data\n",
    "\n",
    "The feature summary file contains a summary of properties for each demographics data column. You will use this file to help you make cleaning decisions during this stage of the project. First of all, you should assess the demographics data in terms of missing data. Pay attention to the following points as you perform your analysis, and take notes on what you observe. Make sure that you fill in the **Discussion** cell with your findings and decisions at the end of each step that has one!\n",
    "\n",
    "#### Step 1.1.1: Convert Missing Value Codes to NaNs\n",
    "The fourth column of the feature attributes summary (loaded in above as `feat_info`) documents the codes from the data dictionary that indicate missing or unknown data. While the file encodes this as a list (e.g. `[-1,0]`), this will get read in as a string object. You'll need to do a little bit of parsing to make use of it to identify and clean the data. Convert data that matches a 'missing' or 'unknown' value code into a numpy NaN value. You might want to see how much data takes on a 'missing' or 'unknown' code, and how much data is naturally missing, as a point of interest.\n",
    "\n",
    "**As one more reminder, you are encouraged to add additional cells to break up your analysis into manageable chunks.**"
   ]
  },
  {
   "cell_type": "code",
   "execution_count": 7,
   "metadata": {},
   "outputs": [],
   "source": [
    "azdias_2 = azdias.copy()"
   ]
  },
  {
   "cell_type": "code",
   "execution_count": 8,
   "metadata": {},
   "outputs": [
    {
     "data": {
      "text/plain": [
       "AGER_TYP                      0\n",
       "ALTERSKATEGORIE_GROB          0\n",
       "ANREDE_KZ                     0\n",
       "CJT_GESAMTTYP              4854\n",
       "FINANZ_MINIMALIST             0\n",
       "FINANZ_SPARER                 0\n",
       "FINANZ_VORSORGER              0\n",
       "FINANZ_ANLEGER                0\n",
       "FINANZ_UNAUFFAELLIGER         0\n",
       "FINANZ_HAUSBAUER              0\n",
       "FINANZTYP                     0\n",
       "GEBURTSJAHR                   0\n",
       "GFK_URLAUBERTYP            4854\n",
       "GREEN_AVANTGARDE              0\n",
       "HEALTH_TYP                    0\n",
       "LP_LEBENSPHASE_FEIN        4854\n",
       "LP_LEBENSPHASE_GROB        4854\n",
       "LP_FAMILIE_FEIN            4854\n",
       "LP_FAMILIE_GROB            4854\n",
       "LP_STATUS_FEIN             4854\n",
       "LP_STATUS_GROB             4854\n",
       "NATIONALITAET_KZ              0\n",
       "PRAEGENDE_JUGENDJAHRE         0\n",
       "RETOURTYP_BK_S             4854\n",
       "SEMIO_SOZ                     0\n",
       "SEMIO_FAM                     0\n",
       "SEMIO_REL                     0\n",
       "SEMIO_MAT                     0\n",
       "SEMIO_VERT                    0\n",
       "SEMIO_LUST                    0\n",
       "                          ...  \n",
       "OST_WEST_KZ               93148\n",
       "WOHNLAGE                  93148\n",
       "CAMEO_DEUG_2015           98979\n",
       "CAMEO_DEU_2015            98979\n",
       "CAMEO_INTL_2015           98979\n",
       "KBA05_ANTG1              133324\n",
       "KBA05_ANTG2              133324\n",
       "KBA05_ANTG3              133324\n",
       "KBA05_ANTG4              133324\n",
       "KBA05_BAUMAX             133324\n",
       "KBA05_GBZ                133324\n",
       "BALLRAUM                  93740\n",
       "EWDICHTE                  93740\n",
       "INNENSTADT                93740\n",
       "GEBAEUDETYP_RASTER        93155\n",
       "KKK                      121196\n",
       "MOBI_REGIO               133324\n",
       "ONLINE_AFFINITAET          4854\n",
       "REGIOTYP                 121196\n",
       "KBA13_ANZAHL_PKW         105800\n",
       "PLZ8_ANTG1               116515\n",
       "PLZ8_ANTG2               116515\n",
       "PLZ8_ANTG3               116515\n",
       "PLZ8_ANTG4               116515\n",
       "PLZ8_BAUMAX              116515\n",
       "PLZ8_HHZ                 116515\n",
       "PLZ8_GBZ                 116515\n",
       "ARBEIT                    97216\n",
       "ORTSGR_KLS9               97216\n",
       "RELAT_AB                  97216\n",
       "Length: 85, dtype: int64"
      ]
     },
     "execution_count": 8,
     "metadata": {},
     "output_type": "execute_result"
    }
   ],
   "source": [
    "azdias_2.isnull().sum() # age does not have null before converting "
   ]
  },
  {
   "cell_type": "code",
   "execution_count": 9,
   "metadata": {},
   "outputs": [
    {
     "data": {
      "text/plain": [
       "array(['[-1,0]'], dtype=object)"
      ]
     },
     "execution_count": 9,
     "metadata": {},
     "output_type": "execute_result"
    }
   ],
   "source": [
    "feat_info.loc[feat_info['attribute']=='AGER_TYP','missing_or_unknown'].values\n",
    "#values are string not list"
   ]
  },
  {
   "cell_type": "code",
   "execution_count": 10,
   "metadata": {},
   "outputs": [],
   "source": [
    "#test one col\n",
    "azdias.loc[azdias.iloc[:,0].isin([-1,0]),'AGER_TYP'] = np.nan"
   ]
  },
  {
   "cell_type": "code",
   "execution_count": 11,
   "metadata": {},
   "outputs": [
    {
     "name": "stderr",
     "output_type": "stream",
     "text": [
      "/Users/lalago31/anaconda3/lib/python3.6/site-packages/ipykernel_launcher.py:9: SettingWithCopyWarning: \n",
      "A value is trying to be set on a copy of a slice from a DataFrame\n",
      "\n",
      "See the caveats in the documentation: http://pandas.pydata.org/pandas-docs/stable/indexing.html#indexing-view-versus-copy\n",
      "  if __name__ == '__main__':\n"
     ]
    }
   ],
   "source": [
    "# Identify missing or unknown data values and convert them to NaNs.\n",
    "import ast\n",
    "for col, vals in enumerate(feat_info['missing_or_unknown']):\n",
    "    if 'XX' not in vals and \"X\" not in vals:\n",
    "        #print (col, ast.literal_eval(vals))\n",
    "        vals = ast.literal_eval(vals) \n",
    "        ## a very handy function to convert string list to real list, only work when list contains the same data type\n",
    "        ## first convert all numeric values in the list to NA\n",
    "        azdias.iloc[:,col][azdias.iloc[:,col].isin(vals)] = np.nan"
   ]
  },
  {
   "cell_type": "code",
   "execution_count": 12,
   "metadata": {},
   "outputs": [],
   "source": [
    "## deal with list that contains \"XX\" separately\n",
    "#azdias.loc[azdias['AGER_TYP'].isin([-1,0]),'AGER_TYP']= np.nan\n",
    "azdias.loc[azdias['CAMEO_DEUG_2015'].isin([-1,'X']),'CAMEO_DEUG_2015']= np.nan\n",
    "azdias.loc[azdias['CAMEO_DEU_2015'].isin(['XX']),'CAMEO_DEU_2015']= np.nan\n",
    "azdias.loc[azdias['CAMEO_INTL_2015'].isin([-1,'XX']),'CAMEO_INTL_2015']= np.nan"
   ]
  },
  {
   "cell_type": "markdown",
   "metadata": {},
   "source": [
    "#### Step 1.1.2: Assess Missing Data in Each Column\n",
    "\n",
    "How much missing data is present in each column? There are a few columns that are outliers in terms of the proportion of values that are missing. You will want to use matplotlib's [`hist()`](https://matplotlib.org/api/_as_gen/matplotlib.pyplot.hist.html) function to visualize the distribution of missing value counts to find these columns. Identify and document these columns. While some of these columns might have justifications for keeping or re-encoding the data, for this project you should just remove them from the dataframe. (Feel free to make remarks about these outlier columns in the discussion, however!)\n",
    "\n",
    "For the remaining features, are there any patterns in which columns have, or share, missing data?"
   ]
  },
  {
   "cell_type": "code",
   "execution_count": 13,
   "metadata": {},
   "outputs": [
    {
     "data": {
      "text/plain": [
       "AGER_TYP                 685843\n",
       "ALTERSKATEGORIE_GROB       2881\n",
       "ANREDE_KZ                     0\n",
       "CJT_GESAMTTYP              4854\n",
       "FINANZ_MINIMALIST             0\n",
       "FINANZ_SPARER                 0\n",
       "FINANZ_VORSORGER              0\n",
       "FINANZ_ANLEGER                0\n",
       "FINANZ_UNAUFFAELLIGER         0\n",
       "FINANZ_HAUSBAUER              0\n",
       "FINANZTYP                     0\n",
       "GEBURTSJAHR              392318\n",
       "GFK_URLAUBERTYP            4854\n",
       "GREEN_AVANTGARDE              0\n",
       "HEALTH_TYP               111196\n",
       "LP_LEBENSPHASE_FEIN       97632\n",
       "LP_LEBENSPHASE_GROB       94572\n",
       "LP_FAMILIE_FEIN           77792\n",
       "LP_FAMILIE_GROB           77792\n",
       "LP_STATUS_FEIN             4854\n",
       "LP_STATUS_GROB             4854\n",
       "NATIONALITAET_KZ         108315\n",
       "PRAEGENDE_JUGENDJAHRE    108164\n",
       "RETOURTYP_BK_S             4854\n",
       "SEMIO_SOZ                     0\n",
       "SEMIO_FAM                     0\n",
       "SEMIO_REL                     0\n",
       "SEMIO_MAT                     0\n",
       "SEMIO_VERT                    0\n",
       "SEMIO_LUST                    0\n",
       "                          ...  \n",
       "OST_WEST_KZ               93148\n",
       "WOHNLAGE                  93148\n",
       "CAMEO_DEUG_2015           99352\n",
       "CAMEO_DEU_2015            99352\n",
       "CAMEO_INTL_2015           99352\n",
       "KBA05_ANTG1              133324\n",
       "KBA05_ANTG2              133324\n",
       "KBA05_ANTG3              133324\n",
       "KBA05_ANTG4              133324\n",
       "KBA05_BAUMAX             476524\n",
       "KBA05_GBZ                133324\n",
       "BALLRAUM                  93740\n",
       "EWDICHTE                  93740\n",
       "INNENSTADT                93740\n",
       "GEBAEUDETYP_RASTER        93155\n",
       "KKK                      158064\n",
       "MOBI_REGIO               133324\n",
       "ONLINE_AFFINITAET          4854\n",
       "REGIOTYP                 158064\n",
       "KBA13_ANZAHL_PKW         105800\n",
       "PLZ8_ANTG1               116515\n",
       "PLZ8_ANTG2               116515\n",
       "PLZ8_ANTG3               116515\n",
       "PLZ8_ANTG4               116515\n",
       "PLZ8_BAUMAX              116515\n",
       "PLZ8_HHZ                 116515\n",
       "PLZ8_GBZ                 116515\n",
       "ARBEIT                    97375\n",
       "ORTSGR_KLS9               97274\n",
       "RELAT_AB                  97375\n",
       "Length: 85, dtype: int64"
      ]
     },
     "execution_count": 13,
     "metadata": {},
     "output_type": "execute_result"
    }
   ],
   "source": [
    "# Perform an assessment of how much missing data there is in each column of the\n",
    "# dataset.\n",
    "azdias.isnull().sum()"
   ]
  },
  {
   "cell_type": "code",
   "execution_count": 14,
   "metadata": {},
   "outputs": [
    {
     "data": {
      "text/plain": [
       "<matplotlib.axes._subplots.AxesSubplot at 0x1097e3390>"
      ]
     },
     "execution_count": 14,
     "metadata": {},
     "output_type": "execute_result"
    },
    {
     "data": {
      "image/png": "[encoded data removed]",
      "text/plain": [
       "<Figure size 720x1080 with 1 Axes>"
      ]
     },
     "metadata": {},
     "output_type": "display_data"
    }
   ],
   "source": [
    "# Investigate patterns in the amount of missing data in each column.\n",
    "na_values=azdias.isnull().sum()\n",
    "plt.figure(figsize=(10,15))\n",
    "na_values[azdias.isnull().sum()>0].sort_values().plot.barh()"
   ]
  },
  {
   "cell_type": "markdown",
   "metadata": {},
   "source": [
    "#### * missing values definitely have some patterns. they appear in the same count for a group of related features. for example, attributes starting with \"KBA\" have the same NA count, \"PLZ8\" feature group also has the same NA count. etc. from the feature name, I can tell they are clusters of features that give information about the same aspects/topics."
   ]
  },
  {
   "cell_type": "code",
   "execution_count": 15,
   "metadata": {},
   "outputs": [
    {
     "data": {
      "text/plain": [
       "TITEL_KZ                 0.997576\n",
       "AGER_TYP                 0.769554\n",
       "KK_KUNDENTYP             0.655967\n",
       "KBA05_BAUMAX             0.534687\n",
       "GEBURTSJAHR              0.440203\n",
       "ALTER_HH                 0.348137\n",
       "REGIOTYP                 0.177357\n",
       "KKK                      0.177357\n",
       "W_KEIT_KIND_HH           0.166051\n",
       "KBA05_ANTG4              0.149597\n",
       "KBA05_GBZ                0.149597\n",
       "MOBI_REGIO               0.149597\n",
       "KBA05_ANTG1              0.149597\n",
       "KBA05_ANTG2              0.149597\n",
       "KBA05_ANTG3              0.149597\n",
       "PLZ8_GBZ                 0.130736\n",
       "PLZ8_HHZ                 0.130736\n",
       "PLZ8_BAUMAX              0.130736\n",
       "PLZ8_ANTG4               0.130736\n",
       "PLZ8_ANTG1               0.130736\n",
       "PLZ8_ANTG3               0.130736\n",
       "PLZ8_ANTG2               0.130736\n",
       "SHOPPER_TYP              0.124768\n",
       "VERS_TYP                 0.124768\n",
       "HEALTH_TYP               0.124768\n",
       "NATIONALITAET_KZ         0.121536\n",
       "PRAEGENDE_JUGENDJAHRE    0.121366\n",
       "KBA13_ANZAHL_PKW         0.118714\n",
       "ANZ_HAUSHALTE_AKTIV      0.111769\n",
       "CAMEO_INTL_2015          0.111479\n",
       "                           ...   \n",
       "CAMEO_DEUG_2015          0.111479\n",
       "LP_LEBENSPHASE_FEIN      0.109549\n",
       "RELAT_AB                 0.109260\n",
       "ARBEIT                   0.109260\n",
       "ORTSGR_KLS9              0.109147\n",
       "ANZ_HH_TITEL             0.108848\n",
       "LP_LEBENSPHASE_GROB      0.106115\n",
       "INNENSTADT               0.105182\n",
       "BALLRAUM                 0.105182\n",
       "EWDICHTE                 0.105182\n",
       "GEBAEUDETYP_RASTER       0.104525\n",
       "MIN_GEBAEUDEJAHR         0.104517\n",
       "OST_WEST_KZ              0.104517\n",
       "WOHNLAGE                 0.104517\n",
       "GEBAEUDETYP              0.104517\n",
       "LP_FAMILIE_FEIN          0.087287\n",
       "LP_FAMILIE_GROB          0.087287\n",
       "KONSUMNAEHE              0.082997\n",
       "WOHNDAUER_2008           0.082470\n",
       "ANZ_TITEL                0.082470\n",
       "SOHO_KZ                  0.082470\n",
       "ANZ_PERSONEN             0.082470\n",
       "HH_EINKOMMEN_SCORE       0.020587\n",
       "LP_STATUS_GROB           0.005446\n",
       "LP_STATUS_FEIN           0.005446\n",
       "RETOURTYP_BK_S           0.005446\n",
       "ONLINE_AFFINITAET        0.005446\n",
       "GFK_URLAUBERTYP          0.005446\n",
       "CJT_GESAMTTYP            0.005446\n",
       "ALTERSKATEGORIE_GROB     0.003233\n",
       "Length: 61, dtype: float64"
      ]
     },
     "execution_count": 15,
     "metadata": {},
     "output_type": "execute_result"
    }
   ],
   "source": [
    "# Remove the outlier columns from the dataset. (You'll perform other data\n",
    "# engineering tasks such as re-encoding and imputation later.)\n",
    "pd.Series(na_values[azdias.isnull().sum()>0]/azdias.shape[0]).sort_values(ascending=False)"
   ]
  },
  {
   "cell_type": "code",
   "execution_count": 16,
   "metadata": {},
   "outputs": [
    {
     "data": {
      "text/plain": [
       "<matplotlib.axes._subplots.AxesSubplot at 0x1a10ebd8d0>"
      ]
     },
     "execution_count": 16,
     "metadata": {},
     "output_type": "execute_result"
    },
    {
     "data": {
      "image/png": "[encoded data removed]",
      "text/plain": [
       "<Figure size 432x288 with 1 Axes>"
      ]
     },
     "metadata": {},
     "output_type": "display_data"
    }
   ],
   "source": [
    "azdias.AGER_TYP.plot.hist()"
   ]
  },
  {
   "cell_type": "markdown",
   "metadata": {},
   "source": [
    "#### * most of the features have less than 20% missing values. \"TITEL_KZ\" has more than 99% NA values.  AGER_TYP and KK_KUNDENTYP also have more than 60% NAs. Three other columns have NA between 30% to 60%. I will remove top 6 columns with highest NA% from the dataset.     "
   ]
  },
  {
   "cell_type": "code",
   "execution_count": 17,
   "metadata": {},
   "outputs": [],
   "source": [
    "azdias_3= azdias.copy()"
   ]
  },
  {
   "cell_type": "code",
   "execution_count": 18,
   "metadata": {},
   "outputs": [],
   "source": [
    "azdias.drop('TITEL_KZ',axis=1,inplace= True)"
   ]
  },
  {
   "cell_type": "code",
   "execution_count": 19,
   "metadata": {},
   "outputs": [],
   "source": [
    "azdias.drop(['AGER_TYP','KK_KUNDENTYP','KBA05_BAUMAX','GEBURTSJAHR','ALTER_HH'],axis=1,inplace= True)"
   ]
  },
  {
   "cell_type": "code",
   "execution_count": 20,
   "metadata": {},
   "outputs": [
    {
     "data": {
      "text/plain": [
       "Index(['ALTERSKATEGORIE_GROB', 'ANREDE_KZ', 'CJT_GESAMTTYP',\n",
       "       'FINANZ_MINIMALIST', 'FINANZ_SPARER', 'FINANZ_VORSORGER',\n",
       "       'FINANZ_ANLEGER', 'FINANZ_UNAUFFAELLIGER', 'FINANZ_HAUSBAUER',\n",
       "       'FINANZTYP', 'GFK_URLAUBERTYP', 'GREEN_AVANTGARDE', 'HEALTH_TYP',\n",
       "       'LP_LEBENSPHASE_FEIN', 'LP_LEBENSPHASE_GROB', 'LP_FAMILIE_FEIN',\n",
       "       'LP_FAMILIE_GROB', 'LP_STATUS_FEIN', 'LP_STATUS_GROB',\n",
       "       'NATIONALITAET_KZ', 'PRAEGENDE_JUGENDJAHRE', 'RETOURTYP_BK_S',\n",
       "       'SEMIO_SOZ', 'SEMIO_FAM', 'SEMIO_REL', 'SEMIO_MAT', 'SEMIO_VERT',\n",
       "       'SEMIO_LUST', 'SEMIO_ERL', 'SEMIO_KULT', 'SEMIO_RAT', 'SEMIO_KRIT',\n",
       "       'SEMIO_DOM', 'SEMIO_KAEM', 'SEMIO_PFLICHT', 'SEMIO_TRADV',\n",
       "       'SHOPPER_TYP', 'SOHO_KZ', 'VERS_TYP', 'ZABEOTYP', 'ANZ_PERSONEN',\n",
       "       'ANZ_TITEL', 'HH_EINKOMMEN_SCORE', 'W_KEIT_KIND_HH', 'WOHNDAUER_2008',\n",
       "       'ANZ_HAUSHALTE_AKTIV', 'ANZ_HH_TITEL', 'GEBAEUDETYP', 'KONSUMNAEHE',\n",
       "       'MIN_GEBAEUDEJAHR', 'OST_WEST_KZ', 'WOHNLAGE', 'CAMEO_DEUG_2015',\n",
       "       'CAMEO_DEU_2015', 'CAMEO_INTL_2015', 'KBA05_ANTG1', 'KBA05_ANTG2',\n",
       "       'KBA05_ANTG3', 'KBA05_ANTG4', 'KBA05_GBZ', 'BALLRAUM', 'EWDICHTE',\n",
       "       'INNENSTADT', 'GEBAEUDETYP_RASTER', 'KKK', 'MOBI_REGIO',\n",
       "       'ONLINE_AFFINITAET', 'REGIOTYP', 'KBA13_ANZAHL_PKW', 'PLZ8_ANTG1',\n",
       "       'PLZ8_ANTG2', 'PLZ8_ANTG3', 'PLZ8_ANTG4', 'PLZ8_BAUMAX', 'PLZ8_HHZ',\n",
       "       'PLZ8_GBZ', 'ARBEIT', 'ORTSGR_KLS9', 'RELAT_AB'],\n",
       "      dtype='object')"
      ]
     },
     "execution_count": 20,
     "metadata": {},
     "output_type": "execute_result"
    }
   ],
   "source": [
    "azdias.columns"
   ]
  },
  {
   "cell_type": "markdown",
   "metadata": {},
   "source": [
    "#### Discussion 1.1.2: Assess Missing Data in Each Column\n",
    "\n",
    "Missing values definitely have some patterns. they appear with the same count for a group of related features. for example, attributes starting with \"KBA\" have the same na count, \"PLZ8\" feature group has the same missing value count. etc. from the feature name, I can tell they are clusters of features that give information about the same aspects/topics. According to the bar chart, most of the features have less than 20% missing values, except 6 columns - 'AGER_TYP','KK_KUNDENTYP','KBA05_BAUMAX','GEBURTSJAHR','ALTER_HH', 'TITEL_KZ'. These 6 have removed from the dataset."
   ]
  },
  {
   "cell_type": "markdown",
   "metadata": {},
   "source": [
    "#### Step 1.1.3: Assess Missing Data in Each Row\n",
    "\n",
    "Now, you'll perform a similar assessment for the rows of the dataset. How much data is missing in each row? As with the columns, you should see some groups of points that have a very different numbers of missing values. Divide the data into two subsets: one for data points that are above some threshold for missing values, and a second subset for points below that threshold.\n",
    "\n",
    "In order to know what to do with the outlier rows, we should see if the distribution of data values on columns that are not missing data (or are missing very little data) are similar or different between the two groups. Select at least five of these columns and compare the distribution of values.\n",
    "- You can use seaborn's [`countplot()`](https://seaborn.pydata.org/generated/seaborn.countplot.html) function to create a bar chart of code frequencies and matplotlib's [`subplot()`](https://matplotlib.org/api/_as_gen/matplotlib.pyplot.subplot.html) function to put bar charts for the two subplots side by side.\n",
    "- To reduce repeated code, you might want to write a function that can perform this comparison, taking as one of its arguments a column to be compared.\n",
    "\n",
    "Depending on what you observe in your comparison, this will have implications on how you approach your conclusions later in the analysis. If the distributions of non-missing features look similar between the data with many missing values and the data with few or no missing values, then we could argue that simply dropping those points from the analysis won't present a major issue. On the other hand, if the data with many missing values looks very different from the data with few or no missing values, then we should make a note on those data as special. We'll revisit these data later on. **Either way, you should continue your analysis for now using just the subset of the data with few or no missing values.**"
   ]
  },
  {
   "cell_type": "code",
   "execution_count": 21,
   "metadata": {},
   "outputs": [
    {
     "data": {
      "text/plain": [
       "643174    49\n",
       "732775    49\n",
       "472919    48\n",
       "183108    47\n",
       "139316    47\n",
       "691141    47\n",
       "691142    47\n",
       "691171    47\n",
       "691183    47\n",
       "139332    47\n",
       "691197    47\n",
       "139323    47\n",
       "691212    47\n",
       "691122    47\n",
       "139267    47\n",
       "139255    47\n",
       "139250    47\n",
       "139248    47\n",
       "139245    47\n",
       "139243    47\n",
       "691317    47\n",
       "691129    47\n",
       "691118    47\n",
       "139236    47\n",
       "139478    47\n",
       "690871    47\n",
       "690876    47\n",
       "690878    47\n",
       "690887    47\n",
       "139521    47\n",
       "          ..\n",
       "691467    47\n",
       "691470    47\n",
       "139555    47\n",
       "690845    47\n",
       "689751    47\n",
       "140063    47\n",
       "689969    47\n",
       "689985    47\n",
       "689986    47\n",
       "689991    47\n",
       "689992    47\n",
       "689996    47\n",
       "690001    47\n",
       "690007    47\n",
       "690016    47\n",
       "690018    47\n",
       "690024    47\n",
       "690026    47\n",
       "690027    47\n",
       "690102    47\n",
       "690111    47\n",
       "690115    47\n",
       "690126    47\n",
       "140181    47\n",
       "689943    47\n",
       "689942    47\n",
       "689832    47\n",
       "689760    47\n",
       "689764    47\n",
       "689765    47\n",
       "Length: 110, dtype: int64"
      ]
     },
     "execution_count": 21,
     "metadata": {},
     "output_type": "execute_result"
    }
   ],
   "source": [
    "# How much data is missing in each row of the dataset?\n",
    "pd.Series(azdias.isnull().sum(axis=1).sort_values(ascending=False)).head(110) \n",
    "#collapse column-> sum by row, default is by column(axis=0)"
   ]
  },
  {
   "cell_type": "code",
   "execution_count": 22,
   "metadata": {},
   "outputs": [
    {
     "data": {
      "text/plain": [
       "(891221, 79)"
      ]
     },
     "execution_count": 22,
     "metadata": {},
     "output_type": "execute_result"
    }
   ],
   "source": [
    "azdias.shape"
   ]
  },
  {
   "cell_type": "code",
   "execution_count": 23,
   "metadata": {},
   "outputs": [
    {
     "data": {
      "text/plain": [
       "(array([ 0,  1,  2,  3,  4,  5,  6,  7,  8,  9, 10, 11, 12, 13, 14, 15, 16,\n",
       "        17, 18, 19, 20, 21, 22, 23, 24, 25, 26, 27, 28, 29, 30, 31, 32, 33,\n",
       "        34, 35, 36, 37, 38, 39, 40, 41, 42, 43, 44, 45, 47, 48, 49]),\n",
       " array([623209,  15738,  27926,  17629,  12607,  22515,  13771,  13714,\n",
       "         24592,   3042,   5410,   1127,    766,   3255,   2243,   4743,\n",
       "          2505,    677,    428,   1180,    349,    150,    129,    132,\n",
       "            69,     55,     59,     24,      5,     12,      6,      3,\n",
       "           206,   2985,  10816,   3911,     84,    538,    421,     77,\n",
       "           137,    356,     21,  27369,    155,    494,  45578,      1,\n",
       "             2]))"
      ]
     },
     "execution_count": 23,
     "metadata": {},
     "output_type": "execute_result"
    }
   ],
   "source": [
    "np.unique(azdias.isnull().sum(axis=1),return_counts=True)"
   ]
  },
  {
   "cell_type": "markdown",
   "metadata": {},
   "source": [
    "#### * out of remaining 79 columns, records that have missing values in more than 50% of the columnns can be allocated to a separate group. I am going to set a threshold of 30. rows that have NA in more than 30 columns will be selected into a separate dataset and I will work with the subset with NA in <=30 columns."
   ]
  },
  {
   "cell_type": "code",
   "execution_count": 24,
   "metadata": {},
   "outputs": [],
   "source": [
    "# Write code to divide the data into two subsets based on the number of missing\n",
    "# values in each row.\n",
    "azdias_4 = azdias.copy()\n",
    "azdias_fewNA = azdias[azdias.isnull().sum(axis=1)<=30]\n",
    "azdias_lotsNA = azdias[azdias.isnull().sum(axis=1)>30]"
   ]
  },
  {
   "cell_type": "code",
   "execution_count": 25,
   "metadata": {},
   "outputs": [
    {
     "data": {
      "text/plain": [
       "(798067, 79)"
      ]
     },
     "execution_count": 25,
     "metadata": {},
     "output_type": "execute_result"
    }
   ],
   "source": [
    "azdias_fewNA.shape"
   ]
  },
  {
   "cell_type": "code",
   "execution_count": 26,
   "metadata": {},
   "outputs": [
    {
     "data": {
      "text/plain": [
       "(93154, 79)"
      ]
     },
     "execution_count": 26,
     "metadata": {},
     "output_type": "execute_result"
    }
   ],
   "source": [
    "azdias_lotsNA.shape"
   ]
  },
  {
   "cell_type": "code",
   "execution_count": 27,
   "metadata": {},
   "outputs": [
    {
     "data": {
      "text/plain": [
       "ZABEOTYP      0\n",
       "SEMIO_REL     0\n",
       "SEMIO_MAT     0\n",
       "SEMIO_VERT    0\n",
       "SEMIO_LUST    0\n",
       "SEMIO_ERL     0\n",
       "SEMIO_KULT    0\n",
       "SEMIO_RAT     0\n",
       "dtype: int64"
      ]
     },
     "execution_count": 27,
     "metadata": {},
     "output_type": "execute_result"
    }
   ],
   "source": [
    "# Compare the distribution of values for at least five columns where there are\n",
    "# no or few missing values, between the two subsets.\n",
    "pd.Series(azdias.isnull().sum(axis=0).sort_values()).head(8) \n",
    "# plot on these 5 columns"
   ]
  },
  {
   "cell_type": "code",
   "execution_count": 28,
   "metadata": {},
   "outputs": [],
   "source": [
    "plot_columns=pd.Series(azdias.isnull().sum(axis=0).sort_values()).head(5).index"
   ]
  },
  {
   "cell_type": "code",
   "execution_count": 29,
   "metadata": {},
   "outputs": [
    {
     "data": {
      "text/plain": [
       "Text(0.5,1,'ZABEOTYP in lots of NA Dataset')"
      ]
     },
     "execution_count": 29,
     "metadata": {},
     "output_type": "execute_result"
    },
    {
     "data": {
      "image/png": "[encoded data removed]",
      "text/plain": [
       "<Figure size 720x360 with 2 Axes>"
      ]
     },
     "metadata": {},
     "output_type": "display_data"
    }
   ],
   "source": [
    "# sample \n",
    "f, axs = plt.subplots(1,2, sharex = True, sharey=True, figsize = (10,5))\n",
    "ax1,ax2= axs.flatten()\n",
    "ax1.hist(azdias_fewNA['ZABEOTYP'])\n",
    "ax2.hist(azdias_lotsNA['ZABEOTYP'])\n",
    "ax1.set_title('ZABEOTYP in Few NA Dataset')\n",
    "ax2.set_title('ZABEOTYP in lots of NA Dataset')"
   ]
  },
  {
   "cell_type": "code",
   "execution_count": 30,
   "metadata": {},
   "outputs": [
    {
     "data": {
      "image/png": "[encoded data removed]",
      "text/plain": [
       "<Figure size 1440x4320 with 10 Axes>"
      ]
     },
     "metadata": {},
     "output_type": "display_data"
    }
   ],
   "source": [
    "f, axes = plt.subplots(5,2,  figsize = (20,60))\n",
    "ax0, ax1, ax2, ax3, ax4, ax5, ax6, ax7, ax8, ax9 = axes.flatten()\n",
    "ax = [i for i in axes.flatten()]\n",
    "for i in range(len(plot_columns)):\n",
    "    col = plot_columns[i]\n",
    "    i = i + i\n",
    "    j = i + 1\n",
    "    azdias_fewNA[col].hist(ax=ax[i])\n",
    "    azdias_lotsNA[col].hist(ax=ax[j])\n",
    "    ax[i].set_title(col + ' of few NA dataset')\n",
    "    ax[j].set_title(col + ' of lots of NA dataset')"
   ]
  },
  {
   "cell_type": "markdown",
   "metadata": {},
   "source": [
    "#### Discussion 1.1.3: Assess Missing Data in Each Row\n",
    "\n",
    "#### * It shows clearly different patterns between the dataset with few NA (A) and dataset with lots of NA(B)- A usually has a variety of values and counts of values are well distributed while data points in B usually concentrates on one single value. I think it's necessary to revisit the subset B later but I will work with the subset A for now."
   ]
  },
  {
   "cell_type": "markdown",
   "metadata": {},
   "source": [
    "### Step 1.2: Select and Re-Encode Features\n",
    "\n",
    "Checking for missing data isn't the only way in which you can prepare a dataset for analysis. Since the unsupervised learning techniques to be used will only work on data that is encoded numerically, you need to make a few encoding changes or additional assumptions to be able to make progress. In addition, while almost all of the values in the dataset are encoded using numbers, not all of them represent numeric values. Check the third column of the feature summary (`feat_info`) for a summary of types of measurement.\n",
    "- For numeric and interval data, these features can be kept without changes.\n",
    "- Most of the variables in the dataset are ordinal in nature. While ordinal values may technically be non-linear in spacing, make the simplifying assumption that the ordinal variables can be treated as being interval in nature (that is, kept without any changes).\n",
    "- Special handling may be necessary for the remaining two variable types: categorical, and 'mixed'.\n",
    "\n",
    "In the first two parts of this sub-step, you will perform an investigation of the categorical and mixed-type features and make a decision on each of them, whether you will keep, drop, or re-encode each. Then, in the last part, you will create a new data frame with only the selected and engineered columns.\n",
    "\n",
    "Data wrangling is often the trickiest part of the data analysis process, and there's a lot of it to be done here. But stick with it: once you're done with this step, you'll be ready to get to the machine learning parts of the project!"
   ]
  },
  {
   "cell_type": "code",
   "execution_count": 31,
   "metadata": {},
   "outputs": [
    {
     "data": {
      "text/plain": [
       "array(['categorical', 'ordinal', 'numeric', 'mixed', 'interval'],\n",
       "      dtype=object)"
      ]
     },
     "execution_count": 31,
     "metadata": {},
     "output_type": "execute_result"
    }
   ],
   "source": [
    "feat_info.type.unique()"
   ]
  },
  {
   "cell_type": "code",
   "execution_count": 32,
   "metadata": {},
   "outputs": [
    {
     "name": "stdout",
     "output_type": "stream",
     "text": [
      "there are 21 categorical features\n",
      "there are 7 numeric features\n",
      "there are 1 interval features\n",
      "there are 49 ordinal features\n",
      "there are 7 mixed features\n"
     ]
    }
   ],
   "source": [
    "# How many features are there of each data type?\n",
    "print('there are {} categorical features'.format(feat_info.loc[feat_info.type=='categorical',:].shape[0]) )\n",
    "print('there are {} numeric features'.format(feat_info.loc[feat_info.type=='numeric',:].shape[0]) )\n",
    "print('there are {} interval features'.format(feat_info.loc[feat_info.type=='interval',:].shape[0]) )\n",
    "print('there are {} ordinal features'.format(feat_info.loc[feat_info.type=='ordinal',:].shape[0]) )\n",
    "print('there are {} mixed features'.format(feat_info.loc[feat_info.type=='mixed',:].shape[0]) )"
   ]
  },
  {
   "cell_type": "code",
   "execution_count": 197,
   "metadata": {},
   "outputs": [
    {
     "data": {
      "text/html": [
       "<div>\n",
       "<style scoped>\n",
       "    .dataframe tbody tr th:only-of-type {\n",
       "        vertical-align: middle;\n",
       "    }\n",
       "\n",
       "    .dataframe tbody tr th {\n",
       "        vertical-align: top;\n",
       "    }\n",
       "\n",
       "    .dataframe thead th {\n",
       "        text-align: right;\n",
       "    }\n",
       "</style>\n",
       "<table border=\"1\" class=\"dataframe\">\n",
       "  <thead>\n",
       "    <tr style=\"text-align: right;\">\n",
       "      <th></th>\n",
       "      <th>attribute</th>\n",
       "      <th>information_level</th>\n",
       "      <th>type</th>\n",
       "      <th>missing_or_unknown</th>\n",
       "    </tr>\n",
       "  </thead>\n",
       "  <tbody>\n",
       "    <tr>\n",
       "      <th>1</th>\n",
       "      <td>ALTERSKATEGORIE_GROB</td>\n",
       "      <td>person</td>\n",
       "      <td>ordinal</td>\n",
       "      <td>[-1,0,9]</td>\n",
       "    </tr>\n",
       "    <tr>\n",
       "      <th>4</th>\n",
       "      <td>FINANZ_MINIMALIST</td>\n",
       "      <td>person</td>\n",
       "      <td>ordinal</td>\n",
       "      <td>[-1]</td>\n",
       "    </tr>\n",
       "    <tr>\n",
       "      <th>5</th>\n",
       "      <td>FINANZ_SPARER</td>\n",
       "      <td>person</td>\n",
       "      <td>ordinal</td>\n",
       "      <td>[-1]</td>\n",
       "    </tr>\n",
       "    <tr>\n",
       "      <th>6</th>\n",
       "      <td>FINANZ_VORSORGER</td>\n",
       "      <td>person</td>\n",
       "      <td>ordinal</td>\n",
       "      <td>[-1]</td>\n",
       "    </tr>\n",
       "    <tr>\n",
       "      <th>7</th>\n",
       "      <td>FINANZ_ANLEGER</td>\n",
       "      <td>person</td>\n",
       "      <td>ordinal</td>\n",
       "      <td>[-1]</td>\n",
       "    </tr>\n",
       "    <tr>\n",
       "      <th>8</th>\n",
       "      <td>FINANZ_UNAUFFAELLIGER</td>\n",
       "      <td>person</td>\n",
       "      <td>ordinal</td>\n",
       "      <td>[-1]</td>\n",
       "    </tr>\n",
       "    <tr>\n",
       "      <th>9</th>\n",
       "      <td>FINANZ_HAUSBAUER</td>\n",
       "      <td>person</td>\n",
       "      <td>ordinal</td>\n",
       "      <td>[-1]</td>\n",
       "    </tr>\n",
       "    <tr>\n",
       "      <th>14</th>\n",
       "      <td>HEALTH_TYP</td>\n",
       "      <td>person</td>\n",
       "      <td>ordinal</td>\n",
       "      <td>[-1,0]</td>\n",
       "    </tr>\n",
       "    <tr>\n",
       "      <th>23</th>\n",
       "      <td>RETOURTYP_BK_S</td>\n",
       "      <td>person</td>\n",
       "      <td>ordinal</td>\n",
       "      <td>[0]</td>\n",
       "    </tr>\n",
       "    <tr>\n",
       "      <th>24</th>\n",
       "      <td>SEMIO_SOZ</td>\n",
       "      <td>person</td>\n",
       "      <td>ordinal</td>\n",
       "      <td>[-1,9]</td>\n",
       "    </tr>\n",
       "    <tr>\n",
       "      <th>25</th>\n",
       "      <td>SEMIO_FAM</td>\n",
       "      <td>person</td>\n",
       "      <td>ordinal</td>\n",
       "      <td>[-1,9]</td>\n",
       "    </tr>\n",
       "    <tr>\n",
       "      <th>26</th>\n",
       "      <td>SEMIO_REL</td>\n",
       "      <td>person</td>\n",
       "      <td>ordinal</td>\n",
       "      <td>[-1,9]</td>\n",
       "    </tr>\n",
       "    <tr>\n",
       "      <th>27</th>\n",
       "      <td>SEMIO_MAT</td>\n",
       "      <td>person</td>\n",
       "      <td>ordinal</td>\n",
       "      <td>[-1,9]</td>\n",
       "    </tr>\n",
       "    <tr>\n",
       "      <th>28</th>\n",
       "      <td>SEMIO_VERT</td>\n",
       "      <td>person</td>\n",
       "      <td>ordinal</td>\n",
       "      <td>[-1,9]</td>\n",
       "    </tr>\n",
       "    <tr>\n",
       "      <th>29</th>\n",
       "      <td>SEMIO_LUST</td>\n",
       "      <td>person</td>\n",
       "      <td>ordinal</td>\n",
       "      <td>[-1,9]</td>\n",
       "    </tr>\n",
       "    <tr>\n",
       "      <th>30</th>\n",
       "      <td>SEMIO_ERL</td>\n",
       "      <td>person</td>\n",
       "      <td>ordinal</td>\n",
       "      <td>[-1,9]</td>\n",
       "    </tr>\n",
       "    <tr>\n",
       "      <th>31</th>\n",
       "      <td>SEMIO_KULT</td>\n",
       "      <td>person</td>\n",
       "      <td>ordinal</td>\n",
       "      <td>[-1,9]</td>\n",
       "    </tr>\n",
       "    <tr>\n",
       "      <th>32</th>\n",
       "      <td>SEMIO_RAT</td>\n",
       "      <td>person</td>\n",
       "      <td>ordinal</td>\n",
       "      <td>[-1,9]</td>\n",
       "    </tr>\n",
       "    <tr>\n",
       "      <th>33</th>\n",
       "      <td>SEMIO_KRIT</td>\n",
       "      <td>person</td>\n",
       "      <td>ordinal</td>\n",
       "      <td>[-1,9]</td>\n",
       "    </tr>\n",
       "    <tr>\n",
       "      <th>34</th>\n",
       "      <td>SEMIO_DOM</td>\n",
       "      <td>person</td>\n",
       "      <td>ordinal</td>\n",
       "      <td>[-1,9]</td>\n",
       "    </tr>\n",
       "    <tr>\n",
       "      <th>35</th>\n",
       "      <td>SEMIO_KAEM</td>\n",
       "      <td>person</td>\n",
       "      <td>ordinal</td>\n",
       "      <td>[-1,9]</td>\n",
       "    </tr>\n",
       "    <tr>\n",
       "      <th>36</th>\n",
       "      <td>SEMIO_PFLICHT</td>\n",
       "      <td>person</td>\n",
       "      <td>ordinal</td>\n",
       "      <td>[-1,9]</td>\n",
       "    </tr>\n",
       "    <tr>\n",
       "      <th>37</th>\n",
       "      <td>SEMIO_TRADV</td>\n",
       "      <td>person</td>\n",
       "      <td>ordinal</td>\n",
       "      <td>[-1,9]</td>\n",
       "    </tr>\n",
       "    <tr>\n",
       "      <th>46</th>\n",
       "      <td>HH_EINKOMMEN_SCORE</td>\n",
       "      <td>household</td>\n",
       "      <td>ordinal</td>\n",
       "      <td>[-1,0]</td>\n",
       "    </tr>\n",
       "    <tr>\n",
       "      <th>48</th>\n",
       "      <td>W_KEIT_KIND_HH</td>\n",
       "      <td>household</td>\n",
       "      <td>ordinal</td>\n",
       "      <td>[-1,0]</td>\n",
       "    </tr>\n",
       "    <tr>\n",
       "      <th>49</th>\n",
       "      <td>WOHNDAUER_2008</td>\n",
       "      <td>household</td>\n",
       "      <td>ordinal</td>\n",
       "      <td>[-1,0]</td>\n",
       "    </tr>\n",
       "    <tr>\n",
       "      <th>53</th>\n",
       "      <td>KONSUMNAEHE</td>\n",
       "      <td>building</td>\n",
       "      <td>ordinal</td>\n",
       "      <td>[]</td>\n",
       "    </tr>\n",
       "    <tr>\n",
       "      <th>60</th>\n",
       "      <td>KBA05_ANTG1</td>\n",
       "      <td>microcell_rr3</td>\n",
       "      <td>ordinal</td>\n",
       "      <td>[-1]</td>\n",
       "    </tr>\n",
       "    <tr>\n",
       "      <th>61</th>\n",
       "      <td>KBA05_ANTG2</td>\n",
       "      <td>microcell_rr3</td>\n",
       "      <td>ordinal</td>\n",
       "      <td>[-1]</td>\n",
       "    </tr>\n",
       "    <tr>\n",
       "      <th>62</th>\n",
       "      <td>KBA05_ANTG3</td>\n",
       "      <td>microcell_rr3</td>\n",
       "      <td>ordinal</td>\n",
       "      <td>[-1]</td>\n",
       "    </tr>\n",
       "    <tr>\n",
       "      <th>63</th>\n",
       "      <td>KBA05_ANTG4</td>\n",
       "      <td>microcell_rr3</td>\n",
       "      <td>ordinal</td>\n",
       "      <td>[-1]</td>\n",
       "    </tr>\n",
       "    <tr>\n",
       "      <th>65</th>\n",
       "      <td>KBA05_GBZ</td>\n",
       "      <td>microcell_rr3</td>\n",
       "      <td>ordinal</td>\n",
       "      <td>[-1,0]</td>\n",
       "    </tr>\n",
       "    <tr>\n",
       "      <th>66</th>\n",
       "      <td>BALLRAUM</td>\n",
       "      <td>postcode</td>\n",
       "      <td>ordinal</td>\n",
       "      <td>[-1]</td>\n",
       "    </tr>\n",
       "    <tr>\n",
       "      <th>67</th>\n",
       "      <td>EWDICHTE</td>\n",
       "      <td>postcode</td>\n",
       "      <td>ordinal</td>\n",
       "      <td>[-1]</td>\n",
       "    </tr>\n",
       "    <tr>\n",
       "      <th>68</th>\n",
       "      <td>INNENSTADT</td>\n",
       "      <td>postcode</td>\n",
       "      <td>ordinal</td>\n",
       "      <td>[-1]</td>\n",
       "    </tr>\n",
       "    <tr>\n",
       "      <th>69</th>\n",
       "      <td>GEBAEUDETYP_RASTER</td>\n",
       "      <td>region_rr1</td>\n",
       "      <td>ordinal</td>\n",
       "      <td>[]</td>\n",
       "    </tr>\n",
       "    <tr>\n",
       "      <th>70</th>\n",
       "      <td>KKK</td>\n",
       "      <td>region_rr1</td>\n",
       "      <td>ordinal</td>\n",
       "      <td>[-1,0]</td>\n",
       "    </tr>\n",
       "    <tr>\n",
       "      <th>71</th>\n",
       "      <td>MOBI_REGIO</td>\n",
       "      <td>region_rr1</td>\n",
       "      <td>ordinal</td>\n",
       "      <td>[]</td>\n",
       "    </tr>\n",
       "    <tr>\n",
       "      <th>72</th>\n",
       "      <td>ONLINE_AFFINITAET</td>\n",
       "      <td>region_rr1</td>\n",
       "      <td>ordinal</td>\n",
       "      <td>[]</td>\n",
       "    </tr>\n",
       "    <tr>\n",
       "      <th>73</th>\n",
       "      <td>REGIOTYP</td>\n",
       "      <td>region_rr1</td>\n",
       "      <td>ordinal</td>\n",
       "      <td>[-1,0]</td>\n",
       "    </tr>\n",
       "    <tr>\n",
       "      <th>75</th>\n",
       "      <td>PLZ8_ANTG1</td>\n",
       "      <td>macrocell_plz8</td>\n",
       "      <td>ordinal</td>\n",
       "      <td>[-1]</td>\n",
       "    </tr>\n",
       "    <tr>\n",
       "      <th>76</th>\n",
       "      <td>PLZ8_ANTG2</td>\n",
       "      <td>macrocell_plz8</td>\n",
       "      <td>ordinal</td>\n",
       "      <td>[-1]</td>\n",
       "    </tr>\n",
       "    <tr>\n",
       "      <th>77</th>\n",
       "      <td>PLZ8_ANTG3</td>\n",
       "      <td>macrocell_plz8</td>\n",
       "      <td>ordinal</td>\n",
       "      <td>[-1]</td>\n",
       "    </tr>\n",
       "    <tr>\n",
       "      <th>78</th>\n",
       "      <td>PLZ8_ANTG4</td>\n",
       "      <td>macrocell_plz8</td>\n",
       "      <td>ordinal</td>\n",
       "      <td>[-1]</td>\n",
       "    </tr>\n",
       "    <tr>\n",
       "      <th>80</th>\n",
       "      <td>PLZ8_HHZ</td>\n",
       "      <td>macrocell_plz8</td>\n",
       "      <td>ordinal</td>\n",
       "      <td>[-1]</td>\n",
       "    </tr>\n",
       "    <tr>\n",
       "      <th>81</th>\n",
       "      <td>PLZ8_GBZ</td>\n",
       "      <td>macrocell_plz8</td>\n",
       "      <td>ordinal</td>\n",
       "      <td>[-1]</td>\n",
       "    </tr>\n",
       "    <tr>\n",
       "      <th>82</th>\n",
       "      <td>ARBEIT</td>\n",
       "      <td>community</td>\n",
       "      <td>ordinal</td>\n",
       "      <td>[-1,9]</td>\n",
       "    </tr>\n",
       "    <tr>\n",
       "      <th>83</th>\n",
       "      <td>ORTSGR_KLS9</td>\n",
       "      <td>community</td>\n",
       "      <td>ordinal</td>\n",
       "      <td>[-1,0]</td>\n",
       "    </tr>\n",
       "    <tr>\n",
       "      <th>84</th>\n",
       "      <td>RELAT_AB</td>\n",
       "      <td>community</td>\n",
       "      <td>ordinal</td>\n",
       "      <td>[-1,9]</td>\n",
       "    </tr>\n",
       "  </tbody>\n",
       "</table>\n",
       "</div>"
      ],
      "text/plain": [
       "                attribute information_level     type missing_or_unknown\n",
       "1    ALTERSKATEGORIE_GROB            person  ordinal           [-1,0,9]\n",
       "4       FINANZ_MINIMALIST            person  ordinal               [-1]\n",
       "5           FINANZ_SPARER            person  ordinal               [-1]\n",
       "6        FINANZ_VORSORGER            person  ordinal               [-1]\n",
       "7          FINANZ_ANLEGER            person  ordinal               [-1]\n",
       "8   FINANZ_UNAUFFAELLIGER            person  ordinal               [-1]\n",
       "9        FINANZ_HAUSBAUER            person  ordinal               [-1]\n",
       "14             HEALTH_TYP            person  ordinal             [-1,0]\n",
       "23         RETOURTYP_BK_S            person  ordinal                [0]\n",
       "24              SEMIO_SOZ            person  ordinal             [-1,9]\n",
       "25              SEMIO_FAM            person  ordinal             [-1,9]\n",
       "26              SEMIO_REL            person  ordinal             [-1,9]\n",
       "27              SEMIO_MAT            person  ordinal             [-1,9]\n",
       "28             SEMIO_VERT            person  ordinal             [-1,9]\n",
       "29             SEMIO_LUST            person  ordinal             [-1,9]\n",
       "30              SEMIO_ERL            person  ordinal             [-1,9]\n",
       "31             SEMIO_KULT            person  ordinal             [-1,9]\n",
       "32              SEMIO_RAT            person  ordinal             [-1,9]\n",
       "33             SEMIO_KRIT            person  ordinal             [-1,9]\n",
       "34              SEMIO_DOM            person  ordinal             [-1,9]\n",
       "35             SEMIO_KAEM            person  ordinal             [-1,9]\n",
       "36          SEMIO_PFLICHT            person  ordinal             [-1,9]\n",
       "37            SEMIO_TRADV            person  ordinal             [-1,9]\n",
       "46     HH_EINKOMMEN_SCORE         household  ordinal             [-1,0]\n",
       "48         W_KEIT_KIND_HH         household  ordinal             [-1,0]\n",
       "49         WOHNDAUER_2008         household  ordinal             [-1,0]\n",
       "53            KONSUMNAEHE          building  ordinal                 []\n",
       "60            KBA05_ANTG1     microcell_rr3  ordinal               [-1]\n",
       "61            KBA05_ANTG2     microcell_rr3  ordinal               [-1]\n",
       "62            KBA05_ANTG3     microcell_rr3  ordinal               [-1]\n",
       "63            KBA05_ANTG4     microcell_rr3  ordinal               [-1]\n",
       "65              KBA05_GBZ     microcell_rr3  ordinal             [-1,0]\n",
       "66               BALLRAUM          postcode  ordinal               [-1]\n",
       "67               EWDICHTE          postcode  ordinal               [-1]\n",
       "68             INNENSTADT          postcode  ordinal               [-1]\n",
       "69     GEBAEUDETYP_RASTER        region_rr1  ordinal                 []\n",
       "70                    KKK        region_rr1  ordinal             [-1,0]\n",
       "71             MOBI_REGIO        region_rr1  ordinal                 []\n",
       "72      ONLINE_AFFINITAET        region_rr1  ordinal                 []\n",
       "73               REGIOTYP        region_rr1  ordinal             [-1,0]\n",
       "75             PLZ8_ANTG1    macrocell_plz8  ordinal               [-1]\n",
       "76             PLZ8_ANTG2    macrocell_plz8  ordinal               [-1]\n",
       "77             PLZ8_ANTG3    macrocell_plz8  ordinal               [-1]\n",
       "78             PLZ8_ANTG4    macrocell_plz8  ordinal               [-1]\n",
       "80               PLZ8_HHZ    macrocell_plz8  ordinal               [-1]\n",
       "81               PLZ8_GBZ    macrocell_plz8  ordinal               [-1]\n",
       "82                 ARBEIT         community  ordinal             [-1,9]\n",
       "83            ORTSGR_KLS9         community  ordinal             [-1,0]\n",
       "84               RELAT_AB         community  ordinal             [-1,9]"
      ]
     },
     "execution_count": 197,
     "metadata": {},
     "output_type": "execute_result"
    }
   ],
   "source": [
    "feat_info.loc[feat_info.type=='ordinal',:]"
   ]
  },
  {
   "cell_type": "code",
   "execution_count": 160,
   "metadata": {},
   "outputs": [
    {
     "data": {
      "text/html": [
       "<div>\n",
       "<style scoped>\n",
       "    .dataframe tbody tr th:only-of-type {\n",
       "        vertical-align: middle;\n",
       "    }\n",
       "\n",
       "    .dataframe tbody tr th {\n",
       "        vertical-align: top;\n",
       "    }\n",
       "\n",
       "    .dataframe thead th {\n",
       "        text-align: right;\n",
       "    }\n",
       "</style>\n",
       "<table border=\"1\" class=\"dataframe\">\n",
       "  <thead>\n",
       "    <tr style=\"text-align: right;\">\n",
       "      <th></th>\n",
       "      <th>attribute</th>\n",
       "      <th>information_level</th>\n",
       "      <th>type</th>\n",
       "      <th>missing_or_unknown</th>\n",
       "    </tr>\n",
       "  </thead>\n",
       "  <tbody>\n",
       "    <tr>\n",
       "      <th>43</th>\n",
       "      <td>ALTER_HH</td>\n",
       "      <td>household</td>\n",
       "      <td>interval</td>\n",
       "      <td>[0]</td>\n",
       "    </tr>\n",
       "  </tbody>\n",
       "</table>\n",
       "</div>"
      ],
      "text/plain": [
       "   attribute information_level      type missing_or_unknown\n",
       "43  ALTER_HH         household  interval                [0]"
      ]
     },
     "execution_count": 160,
     "metadata": {},
     "output_type": "execute_result"
    }
   ],
   "source": [
    "feat_info.loc[feat_info.type=='interval',:]"
   ]
  },
  {
   "cell_type": "code",
   "execution_count": 161,
   "metadata": {},
   "outputs": [
    {
     "data": {
      "text/html": [
       "<div>\n",
       "<style scoped>\n",
       "    .dataframe tbody tr th:only-of-type {\n",
       "        vertical-align: middle;\n",
       "    }\n",
       "\n",
       "    .dataframe tbody tr th {\n",
       "        vertical-align: top;\n",
       "    }\n",
       "\n",
       "    .dataframe thead th {\n",
       "        text-align: right;\n",
       "    }\n",
       "</style>\n",
       "<table border=\"1\" class=\"dataframe\">\n",
       "  <thead>\n",
       "    <tr style=\"text-align: right;\">\n",
       "      <th></th>\n",
       "      <th>attribute</th>\n",
       "      <th>information_level</th>\n",
       "      <th>type</th>\n",
       "      <th>missing_or_unknown</th>\n",
       "    </tr>\n",
       "  </thead>\n",
       "  <tbody>\n",
       "    <tr>\n",
       "      <th>0</th>\n",
       "      <td>AGER_TYP</td>\n",
       "      <td>person</td>\n",
       "      <td>categorical</td>\n",
       "      <td>[-1,0]</td>\n",
       "    </tr>\n",
       "    <tr>\n",
       "      <th>2</th>\n",
       "      <td>ANREDE_KZ</td>\n",
       "      <td>person</td>\n",
       "      <td>categorical</td>\n",
       "      <td>[-1,0]</td>\n",
       "    </tr>\n",
       "    <tr>\n",
       "      <th>3</th>\n",
       "      <td>CJT_GESAMTTYP</td>\n",
       "      <td>person</td>\n",
       "      <td>categorical</td>\n",
       "      <td>[0]</td>\n",
       "    </tr>\n",
       "    <tr>\n",
       "      <th>10</th>\n",
       "      <td>FINANZTYP</td>\n",
       "      <td>person</td>\n",
       "      <td>categorical</td>\n",
       "      <td>[-1]</td>\n",
       "    </tr>\n",
       "    <tr>\n",
       "      <th>12</th>\n",
       "      <td>GFK_URLAUBERTYP</td>\n",
       "      <td>person</td>\n",
       "      <td>categorical</td>\n",
       "      <td>[]</td>\n",
       "    </tr>\n",
       "    <tr>\n",
       "      <th>13</th>\n",
       "      <td>GREEN_AVANTGARDE</td>\n",
       "      <td>person</td>\n",
       "      <td>categorical</td>\n",
       "      <td>[]</td>\n",
       "    </tr>\n",
       "    <tr>\n",
       "      <th>17</th>\n",
       "      <td>LP_FAMILIE_FEIN</td>\n",
       "      <td>person</td>\n",
       "      <td>categorical</td>\n",
       "      <td>[0]</td>\n",
       "    </tr>\n",
       "    <tr>\n",
       "      <th>18</th>\n",
       "      <td>LP_FAMILIE_GROB</td>\n",
       "      <td>person</td>\n",
       "      <td>categorical</td>\n",
       "      <td>[0]</td>\n",
       "    </tr>\n",
       "    <tr>\n",
       "      <th>19</th>\n",
       "      <td>LP_STATUS_FEIN</td>\n",
       "      <td>person</td>\n",
       "      <td>categorical</td>\n",
       "      <td>[0]</td>\n",
       "    </tr>\n",
       "    <tr>\n",
       "      <th>20</th>\n",
       "      <td>LP_STATUS_GROB</td>\n",
       "      <td>person</td>\n",
       "      <td>categorical</td>\n",
       "      <td>[0]</td>\n",
       "    </tr>\n",
       "    <tr>\n",
       "      <th>21</th>\n",
       "      <td>NATIONALITAET_KZ</td>\n",
       "      <td>person</td>\n",
       "      <td>categorical</td>\n",
       "      <td>[-1,0]</td>\n",
       "    </tr>\n",
       "    <tr>\n",
       "      <th>38</th>\n",
       "      <td>SHOPPER_TYP</td>\n",
       "      <td>person</td>\n",
       "      <td>categorical</td>\n",
       "      <td>[-1]</td>\n",
       "    </tr>\n",
       "    <tr>\n",
       "      <th>39</th>\n",
       "      <td>SOHO_KZ</td>\n",
       "      <td>person</td>\n",
       "      <td>categorical</td>\n",
       "      <td>[-1]</td>\n",
       "    </tr>\n",
       "    <tr>\n",
       "      <th>40</th>\n",
       "      <td>TITEL_KZ</td>\n",
       "      <td>person</td>\n",
       "      <td>categorical</td>\n",
       "      <td>[-1,0]</td>\n",
       "    </tr>\n",
       "    <tr>\n",
       "      <th>41</th>\n",
       "      <td>VERS_TYP</td>\n",
       "      <td>person</td>\n",
       "      <td>categorical</td>\n",
       "      <td>[-1]</td>\n",
       "    </tr>\n",
       "    <tr>\n",
       "      <th>42</th>\n",
       "      <td>ZABEOTYP</td>\n",
       "      <td>person</td>\n",
       "      <td>categorical</td>\n",
       "      <td>[-1,9]</td>\n",
       "    </tr>\n",
       "    <tr>\n",
       "      <th>47</th>\n",
       "      <td>KK_KUNDENTYP</td>\n",
       "      <td>household</td>\n",
       "      <td>categorical</td>\n",
       "      <td>[-1]</td>\n",
       "    </tr>\n",
       "    <tr>\n",
       "      <th>52</th>\n",
       "      <td>GEBAEUDETYP</td>\n",
       "      <td>building</td>\n",
       "      <td>categorical</td>\n",
       "      <td>[-1,0]</td>\n",
       "    </tr>\n",
       "    <tr>\n",
       "      <th>55</th>\n",
       "      <td>OST_WEST_KZ</td>\n",
       "      <td>building</td>\n",
       "      <td>categorical</td>\n",
       "      <td>[-1]</td>\n",
       "    </tr>\n",
       "    <tr>\n",
       "      <th>57</th>\n",
       "      <td>CAMEO_DEUG_2015</td>\n",
       "      <td>microcell_rr4</td>\n",
       "      <td>categorical</td>\n",
       "      <td>[-1,X]</td>\n",
       "    </tr>\n",
       "    <tr>\n",
       "      <th>58</th>\n",
       "      <td>CAMEO_DEU_2015</td>\n",
       "      <td>microcell_rr4</td>\n",
       "      <td>categorical</td>\n",
       "      <td>[XX]</td>\n",
       "    </tr>\n",
       "  </tbody>\n",
       "</table>\n",
       "</div>"
      ],
      "text/plain": [
       "           attribute information_level         type missing_or_unknown\n",
       "0           AGER_TYP            person  categorical             [-1,0]\n",
       "2          ANREDE_KZ            person  categorical             [-1,0]\n",
       "3      CJT_GESAMTTYP            person  categorical                [0]\n",
       "10         FINANZTYP            person  categorical               [-1]\n",
       "12   GFK_URLAUBERTYP            person  categorical                 []\n",
       "13  GREEN_AVANTGARDE            person  categorical                 []\n",
       "17   LP_FAMILIE_FEIN            person  categorical                [0]\n",
       "18   LP_FAMILIE_GROB            person  categorical                [0]\n",
       "19    LP_STATUS_FEIN            person  categorical                [0]\n",
       "20    LP_STATUS_GROB            person  categorical                [0]\n",
       "21  NATIONALITAET_KZ            person  categorical             [-1,0]\n",
       "38       SHOPPER_TYP            person  categorical               [-1]\n",
       "39           SOHO_KZ            person  categorical               [-1]\n",
       "40          TITEL_KZ            person  categorical             [-1,0]\n",
       "41          VERS_TYP            person  categorical               [-1]\n",
       "42          ZABEOTYP            person  categorical             [-1,9]\n",
       "47      KK_KUNDENTYP         household  categorical               [-1]\n",
       "52       GEBAEUDETYP          building  categorical             [-1,0]\n",
       "55       OST_WEST_KZ          building  categorical               [-1]\n",
       "57   CAMEO_DEUG_2015     microcell_rr4  categorical             [-1,X]\n",
       "58    CAMEO_DEU_2015     microcell_rr4  categorical               [XX]"
      ]
     },
     "execution_count": 161,
     "metadata": {},
     "output_type": "execute_result"
    }
   ],
   "source": [
    "feat_info.loc[feat_info.type=='categorical',:]"
   ]
  },
  {
   "cell_type": "code",
   "execution_count": 162,
   "metadata": {},
   "outputs": [
    {
     "data": {
      "text/html": [
       "<div>\n",
       "<style scoped>\n",
       "    .dataframe tbody tr th:only-of-type {\n",
       "        vertical-align: middle;\n",
       "    }\n",
       "\n",
       "    .dataframe tbody tr th {\n",
       "        vertical-align: top;\n",
       "    }\n",
       "\n",
       "    .dataframe thead th {\n",
       "        text-align: right;\n",
       "    }\n",
       "</style>\n",
       "<table border=\"1\" class=\"dataframe\">\n",
       "  <thead>\n",
       "    <tr style=\"text-align: right;\">\n",
       "      <th></th>\n",
       "      <th>attribute</th>\n",
       "      <th>information_level</th>\n",
       "      <th>type</th>\n",
       "      <th>missing_or_unknown</th>\n",
       "    </tr>\n",
       "  </thead>\n",
       "  <tbody>\n",
       "    <tr>\n",
       "      <th>15</th>\n",
       "      <td>LP_LEBENSPHASE_FEIN</td>\n",
       "      <td>person</td>\n",
       "      <td>mixed</td>\n",
       "      <td>[0]</td>\n",
       "    </tr>\n",
       "    <tr>\n",
       "      <th>16</th>\n",
       "      <td>LP_LEBENSPHASE_GROB</td>\n",
       "      <td>person</td>\n",
       "      <td>mixed</td>\n",
       "      <td>[0]</td>\n",
       "    </tr>\n",
       "    <tr>\n",
       "      <th>22</th>\n",
       "      <td>PRAEGENDE_JUGENDJAHRE</td>\n",
       "      <td>person</td>\n",
       "      <td>mixed</td>\n",
       "      <td>[-1,0]</td>\n",
       "    </tr>\n",
       "    <tr>\n",
       "      <th>56</th>\n",
       "      <td>WOHNLAGE</td>\n",
       "      <td>building</td>\n",
       "      <td>mixed</td>\n",
       "      <td>[-1]</td>\n",
       "    </tr>\n",
       "    <tr>\n",
       "      <th>59</th>\n",
       "      <td>CAMEO_INTL_2015</td>\n",
       "      <td>microcell_rr4</td>\n",
       "      <td>mixed</td>\n",
       "      <td>[-1,XX]</td>\n",
       "    </tr>\n",
       "    <tr>\n",
       "      <th>64</th>\n",
       "      <td>KBA05_BAUMAX</td>\n",
       "      <td>microcell_rr3</td>\n",
       "      <td>mixed</td>\n",
       "      <td>[-1,0]</td>\n",
       "    </tr>\n",
       "    <tr>\n",
       "      <th>79</th>\n",
       "      <td>PLZ8_BAUMAX</td>\n",
       "      <td>macrocell_plz8</td>\n",
       "      <td>mixed</td>\n",
       "      <td>[-1,0]</td>\n",
       "    </tr>\n",
       "  </tbody>\n",
       "</table>\n",
       "</div>"
      ],
      "text/plain": [
       "                attribute information_level   type missing_or_unknown\n",
       "15    LP_LEBENSPHASE_FEIN            person  mixed                [0]\n",
       "16    LP_LEBENSPHASE_GROB            person  mixed                [0]\n",
       "22  PRAEGENDE_JUGENDJAHRE            person  mixed             [-1,0]\n",
       "56               WOHNLAGE          building  mixed               [-1]\n",
       "59        CAMEO_INTL_2015     microcell_rr4  mixed            [-1,XX]\n",
       "64           KBA05_BAUMAX     microcell_rr3  mixed             [-1,0]\n",
       "79            PLZ8_BAUMAX    macrocell_plz8  mixed             [-1,0]"
      ]
     },
     "execution_count": 162,
     "metadata": {},
     "output_type": "execute_result"
    }
   ],
   "source": [
    "feat_info.loc[feat_info.type=='mixed',:]"
   ]
  },
  {
   "cell_type": "markdown",
   "metadata": {},
   "source": [
    "#### Step 1.2.1: Re-Encode Categorical Features\n",
    "\n",
    "For categorical data, you would ordinarily need to encode the levels as dummy variables. Depending on the number of categories, perform one of the following:\n",
    "- For binary (two-level) categoricals that take numeric values, you can keep them without needing to do anything.\n",
    "- There is one binary variable that takes on non-numeric values. For this one, you need to re-encode the values as numbers or create a dummy variable.\n",
    "- For multi-level categoricals (three or more values), you can choose to encode the values using multiple dummy variables (e.g. via [OneHotEncoder](http://scikit-learn.org/stable/modules/generated/sklearn.preprocessing.OneHotEncoder.html)), or (to keep things straightforward) just drop them from the analysis. As always, document your choices in the Discussion section."
   ]
  },
  {
   "cell_type": "code",
   "execution_count": 33,
   "metadata": {},
   "outputs": [
    {
     "data": {
      "text/plain": [
       "Index(['ANREDE_KZ', 'CJT_GESAMTTYP', 'FINANZTYP', 'GFK_URLAUBERTYP',\n",
       "       'GREEN_AVANTGARDE', 'LP_FAMILIE_FEIN', 'LP_FAMILIE_GROB',\n",
       "       'LP_STATUS_FEIN', 'LP_STATUS_GROB', 'NATIONALITAET_KZ', 'SHOPPER_TYP',\n",
       "       'SOHO_KZ', 'VERS_TYP', 'ZABEOTYP', 'GEBAEUDETYP', 'OST_WEST_KZ',\n",
       "       'CAMEO_DEUG_2015', 'CAMEO_DEU_2015'],\n",
       "      dtype='object')"
      ]
     },
     "execution_count": 33,
     "metadata": {},
     "output_type": "execute_result"
    }
   ],
   "source": [
    "# Assess categorical variables: which are binary, which are multi-level, and\n",
    "# which one needs to be re-encoded?\n",
    "categorical_col = feat_info.loc[feat_info.type=='categorical','attribute'].unique()\n",
    "dataset_columns = azdias_fewNA.columns\n",
    "dataset_columns.join(categorical_col, how='inner') # remaining categorical col in azdias_fewNA subset"
   ]
  },
  {
   "cell_type": "code",
   "execution_count": 34,
   "metadata": {},
   "outputs": [],
   "source": [
    "categorical_columns = dataset_columns.join(categorical_col, how='inner').tolist()"
   ]
  },
  {
   "cell_type": "code",
   "execution_count": 35,
   "metadata": {},
   "outputs": [
    {
     "name": "stdout",
     "output_type": "stream",
     "text": [
      "ANREDE_KZ\n",
      "2    416181\n",
      "1    381886\n",
      "Name: ANREDE_KZ, dtype: int64\n",
      "\n",
      "\n",
      "GREEN_AVANTGARDE\n",
      "0    622842\n",
      "1    175225\n",
      "Name: GREEN_AVANTGARDE, dtype: int64\n",
      "\n",
      "\n",
      "SOHO_KZ\n",
      "0.0    791350\n",
      "1.0      6717\n",
      "Name: SOHO_KZ, dtype: int64\n",
      "\n",
      "\n",
      "OST_WEST_KZ\n",
      "W    629525\n",
      "O    168542\n",
      "Name: OST_WEST_KZ, dtype: int64\n",
      "\n",
      "\n"
     ]
    }
   ],
   "source": [
    "# get the categorical columns w/ 2 levels\n",
    "for c in categorical_columns:\n",
    "    if len(azdias_fewNA[c].unique())==2:\n",
    "        print(c )\n",
    "        print(azdias_fewNA[c].value_counts())\n",
    "        print('\\n')"
   ]
  },
  {
   "cell_type": "code",
   "execution_count": 36,
   "metadata": {},
   "outputs": [
    {
     "name": "stderr",
     "output_type": "stream",
     "text": [
      "/Users/lalago31/anaconda3/lib/python3.6/site-packages/ipykernel_launcher.py:3: SettingWithCopyWarning: \n",
      "A value is trying to be set on a copy of a slice from a DataFrame.\n",
      "Try using .loc[row_indexer,col_indexer] = value instead\n",
      "\n",
      "See the caveats in the documentation: http://pandas.pydata.org/pandas-docs/stable/indexing.html#indexing-view-versus-copy\n",
      "  This is separate from the ipykernel package so we can avoid doing imports until\n"
     ]
    }
   ],
   "source": [
    "# only OST_WEST_KZ has string values and has to be changed to label encoded\n",
    "from sklearn.preprocessing import LabelEncoder\n",
    "azdias_fewNA['OST_WEST_KZ'] = LabelEncoder().fit_transform(azdias_fewNA.OST_WEST_KZ)"
   ]
  },
  {
   "cell_type": "code",
   "execution_count": 37,
   "metadata": {},
   "outputs": [
    {
     "data": {
      "text/plain": [
       "1    629525\n",
       "0    168542\n",
       "Name: OST_WEST_KZ, dtype: int64"
      ]
     },
     "execution_count": 37,
     "metadata": {},
     "output_type": "execute_result"
    }
   ],
   "source": [
    "azdias_fewNA.OST_WEST_KZ.value_counts()"
   ]
  },
  {
   "cell_type": "code",
   "execution_count": 38,
   "metadata": {},
   "outputs": [
    {
     "name": "stdout",
     "output_type": "stream",
     "text": [
      "CJT_GESAMTTYP 7\n",
      "FINANZTYP 6\n",
      "GFK_URLAUBERTYP 13\n",
      "LP_FAMILIE_FEIN 12\n",
      "LP_FAMILIE_GROB 6\n",
      "LP_STATUS_FEIN 11\n",
      "LP_STATUS_GROB 6\n",
      "NATIONALITAET_KZ 4\n",
      "SHOPPER_TYP 5\n",
      "VERS_TYP 3\n",
      "ZABEOTYP 6\n",
      "GEBAEUDETYP 7\n",
      "CAMEO_DEUG_2015 10\n",
      "CAMEO_DEU_2015 45\n"
     ]
    }
   ],
   "source": [
    "# get the categorical columns w/ more than 2 levels\n",
    "for c in categorical_columns:\n",
    "    if len(azdias_fewNA[c].unique())>2:\n",
    "        print(c , len(azdias_fewNA[c].unique()))"
   ]
  },
  {
   "cell_type": "code",
   "execution_count": 39,
   "metadata": {},
   "outputs": [
    {
     "data": {
      "text/plain": [
       "4.0    198296\n",
       "3.0    147220\n",
       "2.0    141269\n",
       "5.0    111114\n",
       "6.0    102108\n",
       "1.0     93311\n",
       "Name: CJT_GESAMTTYP, dtype: int64"
      ]
     },
     "execution_count": 39,
     "metadata": {},
     "output_type": "execute_result"
    }
   ],
   "source": [
    "azdias_fewNA['CJT_GESAMTTYP'].value_counts()"
   ]
  },
  {
   "cell_type": "code",
   "execution_count": 40,
   "metadata": {},
   "outputs": [
    {
     "data": {
      "text/plain": [
       "1.0     402556\n",
       "10.0    128974\n",
       "2.0      98555\n",
       "11.0     48746\n",
       "8.0      21780\n",
       "7.0      19575\n",
       "4.0      11574\n",
       "5.0      11167\n",
       "9.0      10452\n",
       "6.0       8526\n",
       "3.0       4688\n",
       "Name: LP_FAMILIE_FEIN, dtype: int64"
      ]
     },
     "execution_count": 40,
     "metadata": {},
     "output_type": "execute_result"
    }
   ],
   "source": [
    "azdias_fewNA.LP_FAMILIE_FEIN.value_counts()"
   ]
  },
  {
   "cell_type": "code",
   "execution_count": 171,
   "metadata": {},
   "outputs": [],
   "source": [
    "# Re-encode categorical variable(s) to be kept in the analysis.\n",
    "## only keep categorical variables with less than 10 levels.\n",
    "keep_categorical = [c for c in categorical_columns if len(azdias_fewNA[c].unique())>2 and len(azdias_fewNA[c].unique())<=10]\n",
    "azdias_fewNA_encoded = pd.get_dummies(azdias_fewNA.drop(['CAMEO_DEU_2015','LP_STATUS_FEIN','GFK_URLAUBERTYP','LP_FAMILIE_FEIN'],axis=1), columns= keep_categorical)"
   ]
  },
  {
   "cell_type": "code",
   "execution_count": 172,
   "metadata": {},
   "outputs": [
    {
     "data": {
      "text/plain": [
       "['CJT_GESAMTTYP',\n",
       " 'FINANZTYP',\n",
       " 'LP_FAMILIE_GROB',\n",
       " 'LP_STATUS_GROB',\n",
       " 'NATIONALITAET_KZ',\n",
       " 'SHOPPER_TYP',\n",
       " 'VERS_TYP',\n",
       " 'ZABEOTYP',\n",
       " 'GEBAEUDETYP',\n",
       " 'CAMEO_DEUG_2015']"
      ]
     },
     "execution_count": 172,
     "metadata": {},
     "output_type": "execute_result"
    }
   ],
   "source": [
    "keep_categorical"
   ]
  },
  {
   "cell_type": "code",
   "execution_count": 173,
   "metadata": {},
   "outputs": [
    {
     "data": {
      "text/plain": [
       "Index(['CJT_GESAMTTYP_4.0', 'CJT_GESAMTTYP_5.0', 'CJT_GESAMTTYP_6.0',\n",
       "       'FINANZTYP_1', 'FINANZTYP_2', 'FINANZTYP_3', 'FINANZTYP_4',\n",
       "       'FINANZTYP_5', 'FINANZTYP_6', 'LP_FAMILIE_GROB_1.0',\n",
       "       'LP_FAMILIE_GROB_2.0', 'LP_FAMILIE_GROB_3.0', 'LP_FAMILIE_GROB_4.0',\n",
       "       'LP_FAMILIE_GROB_5.0', 'LP_STATUS_GROB_1.0', 'LP_STATUS_GROB_2.0',\n",
       "       'LP_STATUS_GROB_3.0', 'LP_STATUS_GROB_4.0', 'LP_STATUS_GROB_5.0',\n",
       "       'NATIONALITAET_KZ_1.0', 'NATIONALITAET_KZ_2.0', 'NATIONALITAET_KZ_3.0',\n",
       "       'SHOPPER_TYP_0.0', 'SHOPPER_TYP_1.0', 'SHOPPER_TYP_2.0',\n",
       "       'SHOPPER_TYP_3.0', 'VERS_TYP_1.0', 'VERS_TYP_2.0', 'ZABEOTYP_1',\n",
       "       'ZABEOTYP_2', 'ZABEOTYP_3', 'ZABEOTYP_4', 'ZABEOTYP_5', 'ZABEOTYP_6',\n",
       "       'GEBAEUDETYP_1.0', 'GEBAEUDETYP_2.0', 'GEBAEUDETYP_3.0',\n",
       "       'GEBAEUDETYP_4.0', 'GEBAEUDETYP_5.0', 'GEBAEUDETYP_6.0',\n",
       "       'GEBAEUDETYP_8.0', 'CAMEO_DEUG_2015_1', 'CAMEO_DEUG_2015_2',\n",
       "       'CAMEO_DEUG_2015_3', 'CAMEO_DEUG_2015_4', 'CAMEO_DEUG_2015_5',\n",
       "       'CAMEO_DEUG_2015_6', 'CAMEO_DEUG_2015_7', 'CAMEO_DEUG_2015_8',\n",
       "       'CAMEO_DEUG_2015_9'],\n",
       "      dtype='object')"
      ]
     },
     "execution_count": 173,
     "metadata": {},
     "output_type": "execute_result"
    }
   ],
   "source": [
    "azdias_fewNA_encoded.columns[-50:]"
   ]
  },
  {
   "cell_type": "markdown",
   "metadata": {},
   "source": [
    "#### Discussion 1.2.1: Re-Encode Categorical Features\n",
    "1. I found the one binary categorical column that has string values and label encoded it to numeric values(0/1)\n",
    "2. Among the multi-level categorical columns, I only kept the ones with less or equal to 10 levels and dummy encoded them. The rest of high levels categorical columns are dropped because they would increase the dimension of the data too much. In fact, I found in the data dictionary that \"LP_STATUS_FEIN\" is simply a more granular version of \"LP_STATUS_GROB\". since I will keep LP_STATUS_GROB, there won't be too much information loss in the dataset."
   ]
  },
  {
   "cell_type": "markdown",
   "metadata": {},
   "source": [
    "#### Step 1.2.2: Engineer Mixed-Type Features\n",
    "\n",
    "There are a handful of features that are marked as \"mixed\" in the feature summary that require special treatment in order to be included in the analysis. There are two in particular that deserve attention; the handling of the rest are up to your own choices:\n",
    "- \"PRAEGENDE_JUGENDJAHRE\" combines information on three dimensions: generation by decade, movement (mainstream vs. avantgarde), and nation (east vs. west). While there aren't enough levels to disentangle east from west, you should create two new variables to capture the other two dimensions: an interval-type variable for decade, and a binary variable for movement.\n",
    "- \"CAMEO_INTL_2015\" combines information on two axes: wealth and life stage. Break up the two-digit codes by their 'tens'-place and 'ones'-place digits into two new ordinal variables (which, for the purposes of this project, is equivalent to just treating them as their raw numeric values).\n",
    "- If you decide to keep or engineer new features around the other mixed-type features, make sure you note your steps in the Discussion section.\n",
    "\n",
    "Be sure to check `Data_Dictionary.md` for the details needed to finish these tasks."
   ]
  },
  {
   "cell_type": "markdown",
   "metadata": {},
   "source": [
    "> re encode PRAEGENDE_JUGENDJAHRE"
   ]
  },
  {
   "cell_type": "code",
   "execution_count": 198,
   "metadata": {},
   "outputs": [
    {
     "data": {
      "text/plain": [
       "14.0    182985\n",
       "8.0     141630\n",
       "10.0     85808\n",
       "5.0      84692\n",
       "3.0      53845\n",
       "15.0     42547\n",
       "11.0     35752\n",
       "9.0      33570\n",
       "6.0      25652\n",
       "12.0     24446\n",
       "1.0      20678\n",
       "4.0      20451\n",
       "2.0       7479\n",
       "13.0      5764\n",
       "7.0       4010\n",
       "Name: PRAEGENDE_JUGENDJAHRE, dtype: int64"
      ]
     },
     "execution_count": 198,
     "metadata": {},
     "output_type": "execute_result"
    }
   ],
   "source": [
    "azdias_fewNA_encoded['PRAEGENDE_JUGENDJAHRE'].value_counts()"
   ]
  },
  {
   "cell_type": "code",
   "execution_count": 199,
   "metadata": {},
   "outputs": [
    {
     "data": {
      "text/plain": [
       "28758"
      ]
     },
     "execution_count": 199,
     "metadata": {},
     "output_type": "execute_result"
    }
   ],
   "source": [
    "azdias_fewNA_encoded['PRAEGENDE_JUGENDJAHRE'].isnull().sum() #28k null values of PRAEGENDE_JUGENDJAHRE"
   ]
  },
  {
   "cell_type": "code",
   "execution_count": 200,
   "metadata": {},
   "outputs": [],
   "source": [
    "# Investigate \"PRAEGENDE_JUGENDJAHRE\" and engineer two new variables.\n",
    "azdias_fewNA_encoded['GENERATION'] = azdias_fewNA_encoded['PRAEGENDE_JUGENDJAHRE'].apply(lambda x:6 if x>=1 and x<=2\\\n",
    "                                                                                         else 5 if x>=3 and x<=4 \\\n",
    "                                                                                        else 4 if x>=5 and x<=7\\\n",
    "                                                                                         else 3 if x>=8 and x<=9\\\n",
    "                                                                                        else 2 if x>=10 and x<=13 \\\n",
    "                                                                                         else 1 if x>13 else np.nan )\n",
    "## the larger the value, the younger the generation. ie. 1-2 are 40s ppl and oldest generation so I encode it in the largest value.\n",
    "# I will treat this new engineered feature as a ordinal feature.\n",
    "azdias_fewNA_encoded['MOVEMENT'] = azdias_fewNA_encoded['PRAEGENDE_JUGENDJAHRE'].apply(lambda x:0 if (x%2==1 and x>=1 and x<=5) or (x%2==0 and x>=8)\\\n",
    "                                                                                       else 1 if (x%2==0 and x>=1 and x<=6) or (x%2==1 and x>6)\n",
    "                                                                                       else np.nan)"
   ]
  },
  {
   "cell_type": "code",
   "execution_count": 201,
   "metadata": {},
   "outputs": [
    {
     "data": {
      "text/html": [
       "<div>\n",
       "<style scoped>\n",
       "    .dataframe tbody tr th:only-of-type {\n",
       "        vertical-align: middle;\n",
       "    }\n",
       "\n",
       "    .dataframe tbody tr th {\n",
       "        vertical-align: top;\n",
       "    }\n",
       "\n",
       "    .dataframe thead th {\n",
       "        text-align: right;\n",
       "    }\n",
       "</style>\n",
       "<table border=\"1\" class=\"dataframe\">\n",
       "  <thead>\n",
       "    <tr style=\"text-align: right;\">\n",
       "      <th></th>\n",
       "      <th>PRAEGENDE_JUGENDJAHRE</th>\n",
       "      <th>GENERATION</th>\n",
       "      <th>MOVEMENT</th>\n",
       "    </tr>\n",
       "  </thead>\n",
       "  <tbody>\n",
       "    <tr>\n",
       "      <th>1</th>\n",
       "      <td>14.0</td>\n",
       "      <td>1.0</td>\n",
       "      <td>0.0</td>\n",
       "    </tr>\n",
       "    <tr>\n",
       "      <th>2</th>\n",
       "      <td>15.0</td>\n",
       "      <td>1.0</td>\n",
       "      <td>1.0</td>\n",
       "    </tr>\n",
       "    <tr>\n",
       "      <th>3</th>\n",
       "      <td>8.0</td>\n",
       "      <td>3.0</td>\n",
       "      <td>0.0</td>\n",
       "    </tr>\n",
       "    <tr>\n",
       "      <th>4</th>\n",
       "      <td>8.0</td>\n",
       "      <td>3.0</td>\n",
       "      <td>0.0</td>\n",
       "    </tr>\n",
       "    <tr>\n",
       "      <th>5</th>\n",
       "      <td>3.0</td>\n",
       "      <td>5.0</td>\n",
       "      <td>0.0</td>\n",
       "    </tr>\n",
       "    <tr>\n",
       "      <th>6</th>\n",
       "      <td>10.0</td>\n",
       "      <td>2.0</td>\n",
       "      <td>0.0</td>\n",
       "    </tr>\n",
       "    <tr>\n",
       "      <th>7</th>\n",
       "      <td>8.0</td>\n",
       "      <td>3.0</td>\n",
       "      <td>0.0</td>\n",
       "    </tr>\n",
       "    <tr>\n",
       "      <th>8</th>\n",
       "      <td>11.0</td>\n",
       "      <td>2.0</td>\n",
       "      <td>1.0</td>\n",
       "    </tr>\n",
       "    <tr>\n",
       "      <th>9</th>\n",
       "      <td>15.0</td>\n",
       "      <td>1.0</td>\n",
       "      <td>1.0</td>\n",
       "    </tr>\n",
       "    <tr>\n",
       "      <th>10</th>\n",
       "      <td>3.0</td>\n",
       "      <td>5.0</td>\n",
       "      <td>0.0</td>\n",
       "    </tr>\n",
       "  </tbody>\n",
       "</table>\n",
       "</div>"
      ],
      "text/plain": [
       "    PRAEGENDE_JUGENDJAHRE  GENERATION  MOVEMENT\n",
       "1                    14.0         1.0       0.0\n",
       "2                    15.0         1.0       1.0\n",
       "3                     8.0         3.0       0.0\n",
       "4                     8.0         3.0       0.0\n",
       "5                     3.0         5.0       0.0\n",
       "6                    10.0         2.0       0.0\n",
       "7                     8.0         3.0       0.0\n",
       "8                    11.0         2.0       1.0\n",
       "9                    15.0         1.0       1.0\n",
       "10                    3.0         5.0       0.0"
      ]
     },
     "execution_count": 201,
     "metadata": {},
     "output_type": "execute_result"
    }
   ],
   "source": [
    "azdias_fewNA_encoded[['PRAEGENDE_JUGENDJAHRE','GENERATION','MOVEMENT']].head(10)"
   ]
  },
  {
   "cell_type": "code",
   "execution_count": 202,
   "metadata": {},
   "outputs": [
    {
     "data": {
      "text/plain": [
       "array([ 1.,  3.,  5.,  2.,  4., nan,  6.])"
      ]
     },
     "execution_count": 202,
     "metadata": {},
     "output_type": "execute_result"
    }
   ],
   "source": [
    "azdias_fewNA_encoded['GENERATION'].unique()"
   ]
  },
  {
   "cell_type": "code",
   "execution_count": 203,
   "metadata": {},
   "outputs": [
    {
     "data": {
      "text/plain": [
       "28758"
      ]
     },
     "execution_count": 203,
     "metadata": {},
     "output_type": "execute_result"
    }
   ],
   "source": [
    "azdias_fewNA_encoded['GENERATION'].isnull().sum()"
   ]
  },
  {
   "cell_type": "code",
   "execution_count": 204,
   "metadata": {},
   "outputs": [
    {
     "data": {
      "text/plain": [
       "28758"
      ]
     },
     "execution_count": 204,
     "metadata": {},
     "output_type": "execute_result"
    }
   ],
   "source": [
    "azdias_fewNA_encoded['MOVEMENT'].isnull().sum()"
   ]
  },
  {
   "cell_type": "markdown",
   "metadata": {},
   "source": [
    "> re-encode CAMEO_INTL_2015"
   ]
  },
  {
   "cell_type": "code",
   "execution_count": 205,
   "metadata": {},
   "outputs": [
    {
     "data": {
      "text/plain": [
       "51    133694\n",
       "41     92336\n",
       "24     91158\n",
       "14     62884\n",
       "43     56672\n",
       "54     45391\n",
       "25     39627\n",
       "22     33154\n",
       "23     26750\n",
       "13     26335\n",
       "45     26132\n",
       "55     23955\n",
       "52     20542\n",
       "31     19024\n",
       "34     18524\n",
       "15     16974\n",
       "44     14820\n",
       "12     13249\n",
       "35     10356\n",
       "32     10354\n",
       "33      9935\n",
       "Name: CAMEO_INTL_2015, dtype: int64"
      ]
     },
     "execution_count": 205,
     "metadata": {},
     "output_type": "execute_result"
    }
   ],
   "source": [
    "# Investigate \"CAMEO_INTL_2015\" and engineer two new variables.\n",
    "azdias_fewNA_encoded[\"CAMEO_INTL_2015\"].value_counts()"
   ]
  },
  {
   "cell_type": "code",
   "execution_count": 206,
   "metadata": {},
   "outputs": [
    {
     "data": {
      "text/plain": [
       "6201"
      ]
     },
     "execution_count": 206,
     "metadata": {},
     "output_type": "execute_result"
    }
   ],
   "source": [
    "azdias_fewNA_encoded[\"CAMEO_INTL_2015\"].isnull().sum()"
   ]
  },
  {
   "cell_type": "code",
   "execution_count": 214,
   "metadata": {},
   "outputs": [],
   "source": [
    "azdias_fewNA_encoded[\"WEALTH\"]\\\n",
    "= azdias_fewNA_encoded.loc[azdias_fewNA_encoded['CAMEO_INTL_2015'].notnull(),\"CAMEO_INTL_2015\"].apply(lambda x: 5 if str(x)[0]=='1'\\\n",
    "                                                                                                                 else 4 if str(x)[0]=='2'\\\n",
    "                                                                                                                 else 3 if str(x)[0]=='3'\\\n",
    "                                                                                                                 else 2 if str(x)[0]=='4'\\\n",
    "                                                                                                                 else 1 )\n",
    "# inverse the first digit of CAMEO_INTL_2015 to represent an ordinal meaning of wealth\n",
    "azdias_fewNA_encoded[\"LIFE_STAGE\"] = azdias_fewNA_encoded.loc[azdias_fewNA_encoded['CAMEO_INTL_2015'].notnull(),\"CAMEO_INTL_2015\"].apply(lambda x: int(str(x)[1]))"
   ]
  },
  {
   "cell_type": "code",
   "execution_count": 215,
   "metadata": {},
   "outputs": [
    {
     "data": {
      "text/html": [
       "<div>\n",
       "<style scoped>\n",
       "    .dataframe tbody tr th:only-of-type {\n",
       "        vertical-align: middle;\n",
       "    }\n",
       "\n",
       "    .dataframe tbody tr th {\n",
       "        vertical-align: top;\n",
       "    }\n",
       "\n",
       "    .dataframe thead th {\n",
       "        text-align: right;\n",
       "    }\n",
       "</style>\n",
       "<table border=\"1\" class=\"dataframe\">\n",
       "  <thead>\n",
       "    <tr style=\"text-align: right;\">\n",
       "      <th></th>\n",
       "      <th>CAMEO_INTL_2015</th>\n",
       "      <th>WEALTH</th>\n",
       "      <th>LIFE_STAGE</th>\n",
       "    </tr>\n",
       "  </thead>\n",
       "  <tbody>\n",
       "    <tr>\n",
       "      <th>1</th>\n",
       "      <td>51</td>\n",
       "      <td>1.0</td>\n",
       "      <td>1.0</td>\n",
       "    </tr>\n",
       "    <tr>\n",
       "      <th>2</th>\n",
       "      <td>24</td>\n",
       "      <td>4.0</td>\n",
       "      <td>4.0</td>\n",
       "    </tr>\n",
       "    <tr>\n",
       "      <th>3</th>\n",
       "      <td>12</td>\n",
       "      <td>5.0</td>\n",
       "      <td>2.0</td>\n",
       "    </tr>\n",
       "    <tr>\n",
       "      <th>4</th>\n",
       "      <td>43</td>\n",
       "      <td>2.0</td>\n",
       "      <td>3.0</td>\n",
       "    </tr>\n",
       "    <tr>\n",
       "      <th>5</th>\n",
       "      <td>54</td>\n",
       "      <td>1.0</td>\n",
       "      <td>4.0</td>\n",
       "    </tr>\n",
       "  </tbody>\n",
       "</table>\n",
       "</div>"
      ],
      "text/plain": [
       "  CAMEO_INTL_2015  WEALTH  LIFE_STAGE\n",
       "1              51     1.0         1.0\n",
       "2              24     4.0         4.0\n",
       "3              12     5.0         2.0\n",
       "4              43     2.0         3.0\n",
       "5              54     1.0         4.0"
      ]
     },
     "execution_count": 215,
     "metadata": {},
     "output_type": "execute_result"
    }
   ],
   "source": [
    "azdias_fewNA_encoded[[\"CAMEO_INTL_2015\",\"WEALTH\",\"LIFE_STAGE\"]].head()"
   ]
  },
  {
   "cell_type": "code",
   "execution_count": 209,
   "metadata": {},
   "outputs": [
    {
     "data": {
      "text/plain": [
       "array([ 5.,  4.,  2.,  3., nan])"
      ]
     },
     "execution_count": 209,
     "metadata": {},
     "output_type": "execute_result"
    }
   ],
   "source": [
    "azdias_fewNA_encoded[\"WEALTH\"].unique() "
   ]
  },
  {
   "cell_type": "code",
   "execution_count": 210,
   "metadata": {},
   "outputs": [
    {
     "data": {
      "text/plain": [
       "6201"
      ]
     },
     "execution_count": 210,
     "metadata": {},
     "output_type": "execute_result"
    }
   ],
   "source": [
    "azdias_fewNA_encoded[\"WEALTH\"].isnull().sum()"
   ]
  },
  {
   "cell_type": "code",
   "execution_count": 211,
   "metadata": {},
   "outputs": [
    {
     "data": {
      "text/plain": [
       "6201"
      ]
     },
     "execution_count": 211,
     "metadata": {},
     "output_type": "execute_result"
    }
   ],
   "source": [
    "azdias_fewNA_encoded[\"LIFE_STAGE\"].isnull().sum()"
   ]
  },
  {
   "cell_type": "markdown",
   "metadata": {},
   "source": [
    "> investigate the rest of the mixed features"
   ]
  },
  {
   "cell_type": "code",
   "execution_count": 158,
   "metadata": {},
   "outputs": [
    {
     "data": {
      "text/html": [
       "<div>\n",
       "<style scoped>\n",
       "    .dataframe tbody tr th:only-of-type {\n",
       "        vertical-align: middle;\n",
       "    }\n",
       "\n",
       "    .dataframe tbody tr th {\n",
       "        vertical-align: top;\n",
       "    }\n",
       "\n",
       "    .dataframe thead th {\n",
       "        text-align: right;\n",
       "    }\n",
       "</style>\n",
       "<table border=\"1\" class=\"dataframe\">\n",
       "  <thead>\n",
       "    <tr style=\"text-align: right;\">\n",
       "      <th></th>\n",
       "      <th>attribute</th>\n",
       "      <th>information_level</th>\n",
       "      <th>type</th>\n",
       "      <th>missing_or_unknown</th>\n",
       "    </tr>\n",
       "  </thead>\n",
       "  <tbody>\n",
       "    <tr>\n",
       "      <th>15</th>\n",
       "      <td>LP_LEBENSPHASE_FEIN</td>\n",
       "      <td>person</td>\n",
       "      <td>mixed</td>\n",
       "      <td>[0]</td>\n",
       "    </tr>\n",
       "    <tr>\n",
       "      <th>16</th>\n",
       "      <td>LP_LEBENSPHASE_GROB</td>\n",
       "      <td>person</td>\n",
       "      <td>mixed</td>\n",
       "      <td>[0]</td>\n",
       "    </tr>\n",
       "    <tr>\n",
       "      <th>22</th>\n",
       "      <td>PRAEGENDE_JUGENDJAHRE</td>\n",
       "      <td>person</td>\n",
       "      <td>mixed</td>\n",
       "      <td>[-1,0]</td>\n",
       "    </tr>\n",
       "    <tr>\n",
       "      <th>56</th>\n",
       "      <td>WOHNLAGE</td>\n",
       "      <td>building</td>\n",
       "      <td>mixed</td>\n",
       "      <td>[-1]</td>\n",
       "    </tr>\n",
       "    <tr>\n",
       "      <th>59</th>\n",
       "      <td>CAMEO_INTL_2015</td>\n",
       "      <td>microcell_rr4</td>\n",
       "      <td>mixed</td>\n",
       "      <td>[-1,XX]</td>\n",
       "    </tr>\n",
       "    <tr>\n",
       "      <th>64</th>\n",
       "      <td>KBA05_BAUMAX</td>\n",
       "      <td>microcell_rr3</td>\n",
       "      <td>mixed</td>\n",
       "      <td>[-1,0]</td>\n",
       "    </tr>\n",
       "    <tr>\n",
       "      <th>79</th>\n",
       "      <td>PLZ8_BAUMAX</td>\n",
       "      <td>macrocell_plz8</td>\n",
       "      <td>mixed</td>\n",
       "      <td>[-1,0]</td>\n",
       "    </tr>\n",
       "  </tbody>\n",
       "</table>\n",
       "</div>"
      ],
      "text/plain": [
       "                attribute information_level   type missing_or_unknown\n",
       "15    LP_LEBENSPHASE_FEIN            person  mixed                [0]\n",
       "16    LP_LEBENSPHASE_GROB            person  mixed                [0]\n",
       "22  PRAEGENDE_JUGENDJAHRE            person  mixed             [-1,0]\n",
       "56               WOHNLAGE          building  mixed               [-1]\n",
       "59        CAMEO_INTL_2015     microcell_rr4  mixed            [-1,XX]\n",
       "64           KBA05_BAUMAX     microcell_rr3  mixed             [-1,0]\n",
       "79            PLZ8_BAUMAX    macrocell_plz8  mixed             [-1,0]"
      ]
     },
     "execution_count": 158,
     "metadata": {},
     "output_type": "execute_result"
    }
   ],
   "source": [
    "feat_info.loc[feat_info.type=='mixed',:]"
   ]
  },
  {
   "cell_type": "code",
   "execution_count": 163,
   "metadata": {},
   "outputs": [
    {
     "data": {
      "text/plain": [
       "47346"
      ]
     },
     "execution_count": 163,
     "metadata": {},
     "output_type": "execute_result"
    }
   ],
   "source": [
    "azdias_fewNA_encoded[\"LP_LEBENSPHASE_GROB\"].isnull().sum()"
   ]
  },
  {
   "cell_type": "code",
   "execution_count": 179,
   "metadata": {},
   "outputs": [
    {
     "data": {
      "text/html": [
       "<div>\n",
       "<style scoped>\n",
       "    .dataframe tbody tr th:only-of-type {\n",
       "        vertical-align: middle;\n",
       "    }\n",
       "\n",
       "    .dataframe tbody tr th {\n",
       "        vertical-align: top;\n",
       "    }\n",
       "\n",
       "    .dataframe thead th {\n",
       "        text-align: right;\n",
       "    }\n",
       "</style>\n",
       "<table border=\"1\" class=\"dataframe\">\n",
       "  <thead>\n",
       "    <tr style=\"text-align: right;\">\n",
       "      <th></th>\n",
       "      <th>CAMEO_INTL_2015</th>\n",
       "      <th>LP_STATUS_GROB</th>\n",
       "      <th>LP_STATUS_GROB</th>\n",
       "      <th>ALTERSKATEGORIE_GROB</th>\n",
       "      <th>LP_LEBENSPHASE_GROB</th>\n",
       "    </tr>\n",
       "  </thead>\n",
       "  <tbody>\n",
       "    <tr>\n",
       "      <th>1</th>\n",
       "      <td>51</td>\n",
       "      <td>1.0</td>\n",
       "      <td>1.0</td>\n",
       "      <td>1.0</td>\n",
       "      <td>6.0</td>\n",
       "    </tr>\n",
       "    <tr>\n",
       "      <th>6</th>\n",
       "      <td>22</td>\n",
       "      <td>1.0</td>\n",
       "      <td>1.0</td>\n",
       "      <td>2.0</td>\n",
       "      <td>1.0</td>\n",
       "    </tr>\n",
       "    <tr>\n",
       "      <th>7</th>\n",
       "      <td>14</td>\n",
       "      <td>1.0</td>\n",
       "      <td>1.0</td>\n",
       "      <td>1.0</td>\n",
       "      <td>2.0</td>\n",
       "    </tr>\n",
       "    <tr>\n",
       "      <th>10</th>\n",
       "      <td>51</td>\n",
       "      <td>1.0</td>\n",
       "      <td>1.0</td>\n",
       "      <td>3.0</td>\n",
       "      <td>2.0</td>\n",
       "    </tr>\n",
       "    <tr>\n",
       "      <th>22</th>\n",
       "      <td>51</td>\n",
       "      <td>1.0</td>\n",
       "      <td>1.0</td>\n",
       "      <td>1.0</td>\n",
       "      <td>1.0</td>\n",
       "    </tr>\n",
       "    <tr>\n",
       "      <th>28</th>\n",
       "      <td>13</td>\n",
       "      <td>1.0</td>\n",
       "      <td>1.0</td>\n",
       "      <td>3.0</td>\n",
       "      <td>2.0</td>\n",
       "    </tr>\n",
       "    <tr>\n",
       "      <th>31</th>\n",
       "      <td>51</td>\n",
       "      <td>1.0</td>\n",
       "      <td>1.0</td>\n",
       "      <td>2.0</td>\n",
       "      <td>1.0</td>\n",
       "    </tr>\n",
       "    <tr>\n",
       "      <th>33</th>\n",
       "      <td>41</td>\n",
       "      <td>1.0</td>\n",
       "      <td>1.0</td>\n",
       "      <td>2.0</td>\n",
       "      <td>10.0</td>\n",
       "    </tr>\n",
       "    <tr>\n",
       "      <th>36</th>\n",
       "      <td>41</td>\n",
       "      <td>1.0</td>\n",
       "      <td>1.0</td>\n",
       "      <td>3.0</td>\n",
       "      <td>2.0</td>\n",
       "    </tr>\n",
       "    <tr>\n",
       "      <th>43</th>\n",
       "      <td>25</td>\n",
       "      <td>1.0</td>\n",
       "      <td>1.0</td>\n",
       "      <td>1.0</td>\n",
       "      <td>1.0</td>\n",
       "    </tr>\n",
       "  </tbody>\n",
       "</table>\n",
       "</div>"
      ],
      "text/plain": [
       "   CAMEO_INTL_2015  LP_STATUS_GROB  LP_STATUS_GROB  ALTERSKATEGORIE_GROB  \\\n",
       "1               51             1.0             1.0                   1.0   \n",
       "6               22             1.0             1.0                   2.0   \n",
       "7               14             1.0             1.0                   1.0   \n",
       "10              51             1.0             1.0                   3.0   \n",
       "22              51             1.0             1.0                   1.0   \n",
       "28              13             1.0             1.0                   3.0   \n",
       "31              51             1.0             1.0                   2.0   \n",
       "33              41             1.0             1.0                   2.0   \n",
       "36              41             1.0             1.0                   3.0   \n",
       "43              25             1.0             1.0                   1.0   \n",
       "\n",
       "    LP_LEBENSPHASE_GROB  \n",
       "1                   6.0  \n",
       "6                   1.0  \n",
       "7                   2.0  \n",
       "10                  2.0  \n",
       "22                  1.0  \n",
       "28                  2.0  \n",
       "31                  1.0  \n",
       "33                 10.0  \n",
       "36                  2.0  \n",
       "43                  1.0  "
      ]
     },
     "execution_count": 179,
     "metadata": {},
     "output_type": "execute_result"
    }
   ],
   "source": [
    "azdias_fewNA.loc[(azdias_fewNA_encoded[\"LP_STATUS_GROB_1.0\"]==1) & (azdias_fewNA_encoded[\"LP_STATUS_GROB_1.0\"]==1) ,[\"CAMEO_INTL_2015\",\"LP_STATUS_GROB\",\"LP_STATUS_GROB\",\"ALTERSKATEGORIE_GROB\",\"LP_LEBENSPHASE_GROB\"]].head(10)\n",
    "\n",
    "\n"
   ]
  },
  {
   "cell_type": "code",
   "execution_count": 180,
   "metadata": {},
   "outputs": [
    {
     "data": {
      "text/plain": [
       "23361"
      ]
     },
     "execution_count": 180,
     "metadata": {},
     "output_type": "execute_result"
    }
   ],
   "source": [
    "azdias_fewNA.PLZ8_BAUMAX.isnull().sum()"
   ]
  },
  {
   "cell_type": "code",
   "execution_count": 184,
   "metadata": {},
   "outputs": [
    {
     "name": "stderr",
     "output_type": "stream",
     "text": [
      "/Users/lalago31/anaconda3/lib/python3.6/site-packages/pandas/core/indexing.py:1472: FutureWarning: \n",
      "Passing list-likes to .loc or [] with any missing label will raise\n",
      "KeyError in the future, you can use .reindex() as an alternative.\n",
      "\n",
      "See the documentation here:\n",
      "https://pandas.pydata.org/pandas-docs/stable/indexing.html#deprecate-loc-reindex-listlike\n",
      "  return self._getitem_tuple(key)\n"
     ]
    },
    {
     "data": {
      "text/html": [
       "<div>\n",
       "<style scoped>\n",
       "    .dataframe tbody tr th:only-of-type {\n",
       "        vertical-align: middle;\n",
       "    }\n",
       "\n",
       "    .dataframe tbody tr th {\n",
       "        vertical-align: top;\n",
       "    }\n",
       "\n",
       "    .dataframe thead th {\n",
       "        text-align: right;\n",
       "    }\n",
       "</style>\n",
       "<table border=\"1\" class=\"dataframe\">\n",
       "  <thead>\n",
       "    <tr style=\"text-align: right;\">\n",
       "      <th></th>\n",
       "      <th>KBA05_BAUMAX</th>\n",
       "      <th>PLZ8_BAUMAX</th>\n",
       "      <th>GEBAEUDETYP_RASTER</th>\n",
       "    </tr>\n",
       "  </thead>\n",
       "  <tbody>\n",
       "    <tr>\n",
       "      <th>20</th>\n",
       "      <td>NaN</td>\n",
       "      <td>NaN</td>\n",
       "      <td>1.0</td>\n",
       "    </tr>\n",
       "    <tr>\n",
       "      <th>72</th>\n",
       "      <td>NaN</td>\n",
       "      <td>1.0</td>\n",
       "      <td>1.0</td>\n",
       "    </tr>\n",
       "    <tr>\n",
       "      <th>105</th>\n",
       "      <td>NaN</td>\n",
       "      <td>2.0</td>\n",
       "      <td>1.0</td>\n",
       "    </tr>\n",
       "    <tr>\n",
       "      <th>155</th>\n",
       "      <td>NaN</td>\n",
       "      <td>1.0</td>\n",
       "      <td>1.0</td>\n",
       "    </tr>\n",
       "    <tr>\n",
       "      <th>194</th>\n",
       "      <td>NaN</td>\n",
       "      <td>5.0</td>\n",
       "      <td>1.0</td>\n",
       "    </tr>\n",
       "  </tbody>\n",
       "</table>\n",
       "</div>"
      ],
      "text/plain": [
       "     KBA05_BAUMAX  PLZ8_BAUMAX  GEBAEUDETYP_RASTER\n",
       "20            NaN          NaN                 1.0\n",
       "72            NaN          1.0                 1.0\n",
       "105           NaN          2.0                 1.0\n",
       "155           NaN          1.0                 1.0\n",
       "194           NaN          5.0                 1.0"
      ]
     },
     "execution_count": 184,
     "metadata": {},
     "output_type": "execute_result"
    }
   ],
   "source": [
    "azdias_fewNA_encoded.loc[azdias_fewNA_encoded[\"GEBAEUDETYP_RASTER\"]==1 , [\"KBA05_BAUMAX\",\"PLZ8_BAUMAX\",\"GEBAEUDETYP_RASTER\"]].head()"
   ]
  },
  {
   "cell_type": "code",
   "execution_count": 186,
   "metadata": {},
   "outputs": [
    {
     "data": {
      "text/html": [
       "<div>\n",
       "<style scoped>\n",
       "    .dataframe tbody tr th:only-of-type {\n",
       "        vertical-align: middle;\n",
       "    }\n",
       "\n",
       "    .dataframe tbody tr th {\n",
       "        vertical-align: top;\n",
       "    }\n",
       "\n",
       "    .dataframe thead th {\n",
       "        text-align: right;\n",
       "    }\n",
       "</style>\n",
       "<table border=\"1\" class=\"dataframe\">\n",
       "  <thead>\n",
       "    <tr style=\"text-align: right;\">\n",
       "      <th></th>\n",
       "      <th>REGIOTYP</th>\n",
       "      <th>WOHNLAGE</th>\n",
       "    </tr>\n",
       "  </thead>\n",
       "  <tbody>\n",
       "    <tr>\n",
       "      <th>1</th>\n",
       "      <td>3.0</td>\n",
       "      <td>4.0</td>\n",
       "    </tr>\n",
       "    <tr>\n",
       "      <th>2</th>\n",
       "      <td>2.0</td>\n",
       "      <td>2.0</td>\n",
       "    </tr>\n",
       "    <tr>\n",
       "      <th>3</th>\n",
       "      <td>NaN</td>\n",
       "      <td>7.0</td>\n",
       "    </tr>\n",
       "    <tr>\n",
       "      <th>4</th>\n",
       "      <td>5.0</td>\n",
       "      <td>3.0</td>\n",
       "    </tr>\n",
       "    <tr>\n",
       "      <th>5</th>\n",
       "      <td>5.0</td>\n",
       "      <td>7.0</td>\n",
       "    </tr>\n",
       "    <tr>\n",
       "      <th>6</th>\n",
       "      <td>5.0</td>\n",
       "      <td>5.0</td>\n",
       "    </tr>\n",
       "    <tr>\n",
       "      <th>7</th>\n",
       "      <td>1.0</td>\n",
       "      <td>1.0</td>\n",
       "    </tr>\n",
       "    <tr>\n",
       "      <th>8</th>\n",
       "      <td>3.0</td>\n",
       "      <td>1.0</td>\n",
       "    </tr>\n",
       "    <tr>\n",
       "      <th>9</th>\n",
       "      <td>1.0</td>\n",
       "      <td>7.0</td>\n",
       "    </tr>\n",
       "    <tr>\n",
       "      <th>10</th>\n",
       "      <td>7.0</td>\n",
       "      <td>5.0</td>\n",
       "    </tr>\n",
       "  </tbody>\n",
       "</table>\n",
       "</div>"
      ],
      "text/plain": [
       "    REGIOTYP  WOHNLAGE\n",
       "1        3.0       4.0\n",
       "2        2.0       2.0\n",
       "3        NaN       7.0\n",
       "4        5.0       3.0\n",
       "5        5.0       7.0\n",
       "6        5.0       5.0\n",
       "7        1.0       1.0\n",
       "8        3.0       1.0\n",
       "9        1.0       7.0\n",
       "10       7.0       5.0"
      ]
     },
     "execution_count": 186,
     "metadata": {},
     "output_type": "execute_result"
    }
   ],
   "source": [
    "azdias_fewNA_encoded[[\"REGIOTYP\",\"WOHNLAGE\"]].head(10)"
   ]
  },
  {
   "cell_type": "code",
   "execution_count": 188,
   "metadata": {},
   "outputs": [
    {
     "data": {
      "text/plain": [
       "64910"
      ]
     },
     "execution_count": 188,
     "metadata": {},
     "output_type": "execute_result"
    }
   ],
   "source": [
    "azdias_fewNA_encoded.REGIOTYP.isnull().sum()"
   ]
  },
  {
   "cell_type": "code",
   "execution_count": 187,
   "metadata": {},
   "outputs": [
    {
     "data": {
      "text/plain": [
       "3.0    249719\n",
       "7.0    169317\n",
       "4.0    135973\n",
       "2.0    100376\n",
       "5.0     74346\n",
       "1.0     43917\n",
       "8.0     17472\n",
       "0.0      6947\n",
       "Name: WOHNLAGE, dtype: int64"
      ]
     },
     "execution_count": 187,
     "metadata": {},
     "output_type": "execute_result"
    }
   ],
   "source": [
    "azdias_fewNA_encoded.WOHNLAGE.value_counts()\n",
    "# if encoding 7&8 to np.nan, the number of nan rows will be > 180k, \n",
    "# which equals to 23% of total number of this whole azdias_fewNA_encoded dataset. that's quite a big number of NaN to impute."
   ]
  },
  {
   "cell_type": "code",
   "execution_count": 190,
   "metadata": {},
   "outputs": [
    {
     "data": {
      "text/plain": [
       "798067"
      ]
     },
     "execution_count": 190,
     "metadata": {},
     "output_type": "execute_result"
    }
   ],
   "source": [
    "azdias_fewNA_encoded.shape[0]"
   ]
  },
  {
   "cell_type": "markdown",
   "metadata": {},
   "source": [
    "#### Discussion 1.2.2: Engineer Mixed-Type Features\n",
    "I decided to keep only 2 mixed columns. I created the new features based on the 2 mixed columns as instructed- \n",
    "1. created multi-level categorical feature 'generation' and binary categorical feature 'movement' based on the info in the data dictionary for PRAEGENDE_JUGENDJAHRE;  \n",
    "2. created WEALTH AND LIFE_STAGE features by assigning the first and second digits from CAMEO_INTL_2015 respectively\n",
    "3. since both PRAEGENDE_JUGENDJAHRE and CAMEO_INTL_2015 contain NAN values, I kept the nll values as is in the engineered features. will impute null values later.\n",
    "\n",
    "The reason why I decided to drop the rest of the mixed features is that the type of information from those mixed ones is already included in some of the categorical features. \n",
    "1. LP_LEBENSPHASE_GROB contains mixed info of marital status, age and income. These information has already been there in the 3 individual categorical features - LP_FAMILIE_GROB(marital status), LP_STATUS_GROB(income level), ALTERSKATEGORIE_GROB(age group) and it also contains overlapping info with CAMEO_INTL_2015(wealth & life stage). LP_LEBENSPHASE_FEIN is a more refined version of LP_LEBENSPHASE_GROB. Hereby I will drop them both.\n",
    "2. Simiarly, PLZ8_BAUMAX is about the composition of small/medium/large households and business buildings in the region. Such information has been included in the PLZ8_ANTG1(share of small households in region), PLZ8_ANTG2(share of medim households), PLZ8_ANTG3(share of large households) and GEBAEUDETYP_RASTER(share of business vs residential buildings). KBA05_BAUMAX is about the same information but in the smaller micro-cell regional scale. Thus I think it's ok to drop them both.\n",
    "3. WOHNLAGE is about the Neighborhood quality. This feature contains 2 dimentional information- scale of goodness of the neighborhood vs rurual flag. Similar information of the quality/wealthiness of the neighborhood is already measured by REGIOTYP. Plus if I convert the rows of value 7&8(rurual flag) to NaN and only keep the information of the quality of neighborhood, the number of NaN values of this feature will be more than 23% of the total number of the records, which I think is too large to impute and would cause the feature value distribution to be manually skewed. So I will drop this mixed feature too. "
   ]
  },
  {
   "cell_type": "markdown",
   "metadata": {},
   "source": [
    "#### Step 1.2.3: Complete Feature Selection\n",
    "\n",
    "In order to finish this step up, you need to make sure that your data frame now only has the columns that you want to keep. To summarize, the dataframe should consist of the following:\n",
    "- All numeric, interval, and ordinal type columns from the original dataset.\n",
    "- Binary categorical features (all numerically-encoded).\n",
    "- Engineered features from other multi-level categorical features and mixed features.\n",
    "\n",
    "Make sure that for any new columns that you have engineered, that you've excluded the original columns from the final dataset. Otherwise, their values will interfere with the analysis later on the project. For example, you should not keep \"PRAEGENDE_JUGENDJAHRE\", since its values won't be useful for the algorithm: only the values derived from it in the engineered features you created should be retained. As a reminder, your data should only be from **the subset with few or no missing values**."
   ]
  },
  {
   "cell_type": "code",
   "execution_count": 216,
   "metadata": {},
   "outputs": [],
   "source": [
    "# If there are other re-engineering tasks you need to perform, make sure you\n",
    "# take care of them here. (Dealing with missing data will come in step 2.1.)\n",
    " \n",
    "# as I mean to keep the 4 re-engineered features from mixed type as ordinal ones, I won't need to dummy code them.\n",
    "# just need to drop the original mixed features.\n",
    "azdias_fewNA_final = azdias_fewNA_encoded.drop(['PRAEGENDE_JUGENDJAHRE',\"CAMEO_INTL_2015\",\"LP_LEBENSPHASE_GROB\",\"LP_LEBENSPHASE_FEIN\",\"PLZ8_BAUMAX\",\"WOHNLAGE\"],axis=1)"
   ]
  },
  {
   "cell_type": "code",
   "execution_count": 217,
   "metadata": {},
   "outputs": [
    {
     "data": {
      "text/plain": [
       "Index(['ALTERSKATEGORIE_GROB', 'ANREDE_KZ', 'FINANZ_MINIMALIST',\n",
       "       'FINANZ_SPARER', 'FINANZ_VORSORGER', 'FINANZ_ANLEGER',\n",
       "       'FINANZ_UNAUFFAELLIGER', 'FINANZ_HAUSBAUER', 'GREEN_AVANTGARDE',\n",
       "       'HEALTH_TYP',\n",
       "       ...\n",
       "       'CAMEO_DEUG_2015_4', 'CAMEO_DEUG_2015_5', 'CAMEO_DEUG_2015_6',\n",
       "       'CAMEO_DEUG_2015_7', 'CAMEO_DEUG_2015_8', 'CAMEO_DEUG_2015_9',\n",
       "       'GENERATION', 'MOVEMENT', 'WEALTH', 'LIFE_STAGE'],\n",
       "      dtype='object', length=116)"
      ]
     },
     "execution_count": 217,
     "metadata": {},
     "output_type": "execute_result"
    }
   ],
   "source": [
    "# Do whatever you need to in order to ensure that the dataframe only contains\n",
    "# the columns that should be passed to the algorithm functions.\n",
    "azdias_fewNA_final.columns"
   ]
  },
  {
   "cell_type": "markdown",
   "metadata": {},
   "source": [
    "### Step 1.3: Create a Cleaning Function\n",
    "\n",
    "Even though you've finished cleaning up the general population demographics data, it's important to look ahead to the future and realize that you'll need to perform the same cleaning steps on the customer demographics data. In this substep, complete the function below to execute the main feature selection, encoding, and re-engineering steps you performed above. Then, when it comes to looking at the customer data in Step 3, you can just run this function on that DataFrame to get the trimmed dataset in a single step."
   ]
  },
  {
   "cell_type": "code",
   "execution_count": 232,
   "metadata": {},
   "outputs": [],
   "source": [
    "def clean_data(df):\n",
    "    \"\"\"\n",
    "    Perform feature trimming, re-encoding, and engineering for demographics\n",
    "    data\n",
    "    \n",
    "    INPUT: Demographics DataFrame\n",
    "    OUTPUT: Trimmed and cleaned demographics DataFrame\n",
    "    \"\"\"\n",
    "    \n",
    "    # Put in code here to execute all main cleaning steps:\n",
    "    # convert missing value codes into NaNs, ...\n",
    "    for col, vals in enumerate(feat_info['missing_or_unknown']):\n",
    "        if 'XX' not in vals and \"X\" not in vals:\n",
    "            vals = ast.literal_eval(vals) \n",
    "        ## a very handy function to convert string list to real list, only work when list contains the same data type\n",
    "        ## first convert all numeric values in the list to NA\n",
    "            df.iloc[:,col][df.iloc[:,col].isin(vals)] = np.nan\n",
    "    df.loc[df['CAMEO_DEUG_2015'].isin([-1,'X']),'CAMEO_DEUG_2015']= np.nan\n",
    "    df.loc[df['CAMEO_DEU_2015'].isin(['XX']),'CAMEO_DEU_2015']= np.nan\n",
    "    df.loc[df['CAMEO_INTL_2015'].isin([-1,'XX']),'CAMEO_INTL_2015']= np.nan\n",
    "    # remove columns with lots of NA\n",
    "    df.drop(['TITEL_KZ','AGER_TYP','KK_KUNDENTYP','KBA05_BAUMAX','GEBURTSJAHR','ALTER_HH'],axis=1,inplace= True)\n",
    "    # remove rows with lots of NA\n",
    "    df_fewNA = df[df.isnull().sum(axis=1)<=30]\n",
    "    \n",
    "    # select, re-encode, and engineer column values.\n",
    "    categorical_col = feat_info.loc[feat_info.type=='categorical','attribute'].unique()\n",
    "    dataset_columns = df_fewNA.columns\n",
    "    # remaining categorical col in df_fewNA subset\n",
    "    categorical_columns = dataset_columns.join(categorical_col, how='inner') \n",
    "    # labelencode the text col \n",
    "    df_fewNA['OST_WEST_KZ'] = LabelEncoder().fit_transform(df_fewNA.OST_WEST_KZ)\n",
    "    # get categorical col with more than 2 levels and dummy encode them and exclude those more than 10 levels\n",
    "    keep_categorical = [c for c in categorical_columns if len(df_fewNA[c].unique())>2 and len(df_fewNA[c].unique())<=10]\n",
    "    df_fewNA_encoded = pd.get_dummies(df_fewNA.drop(['CAMEO_DEU_2015','LP_STATUS_FEIN','GFK_URLAUBERTYP','LP_FAMILIE_FEIN'],axis=1), columns= keep_categorical)\n",
    "    # re-encode the mix level categorical cols\n",
    "    # engineer two new variables based on \"PRAEGENDE_JUGENDJAHRE\" \n",
    "    \n",
    "\n",
    "    df_fewNA_encoded['GENERATION'] = df_fewNA_encoded['PRAEGENDE_JUGENDJAHRE'].apply(lambda x:6 if x>=1 and x<=2\\\n",
    "                                                                                         else 5 if x>=3 and x<=4 \\\n",
    "                                                                                         else 4 if x>=5 and x<=7\\\n",
    "                                                                                         else 3 if x>=8 and x<=9\\\n",
    "                                                                                         else 2 if x>=10 and x<=13 \\\n",
    "                                                                                         else 1 if x>13 else np.nan )\n",
    "    df_fewNA_encoded['MOVEMENT'] = df_fewNA_encoded['PRAEGENDE_JUGENDJAHRE'].apply(lambda x:0 if (x%2==1 and x>=1 and x<=5) or (x%2==0 and x>=8)\\\n",
    "                                                                                       else 1 if (x%2==0 and x>=1 and x<=6) or (x%2==1 and x>6)\n",
    "                                                                                       else np.nan)\n",
    "    # engineer two new variables based on \"CAMEO_INTL_2015\" \n",
    "    df_fewNA_encoded[\"WEALTH\"] = df_fewNA_encoded.loc[df_fewNA_encoded['CAMEO_INTL_2015'].notnull(),\"CAMEO_INTL_2015\"].apply(lambda x: 5 if str(x)[0]=='1'\\\n",
    "                                                                                                                 else 4 if str(x)[0]=='2'\\\n",
    "                                                                                                                 else 3 if str(x)[0]=='3'\\\n",
    "                                                                                                                 else 2 if str(x)[0]=='4'\\\n",
    "                                                                                                                 else 1 )\n",
    "    df_fewNA_encoded[\"LIFE_STAGE\"] = df_fewNA_encoded.loc[df_fewNA_encoded['CAMEO_INTL_2015'].notnull(),\"CAMEO_INTL_2015\"].apply(lambda x: int(str(x)[1]))\n",
    "    # Return the cleaned dataframe.\n",
    "    df_fewNA_final = df_fewNA_encoded.drop(['PRAEGENDE_JUGENDJAHRE',\"CAMEO_INTL_2015\",\"LP_LEBENSPHASE_GROB\",\"LP_LEBENSPHASE_FEIN\",\"PLZ8_BAUMAX\",\"WOHNLAGE\"],axis=1)\n",
    "                                    \n",
    "    return df_fewNA_final"
   ]
  },
  {
   "cell_type": "markdown",
   "metadata": {},
   "source": [
    "## Step 2: Feature Transformation\n",
    "\n",
    "### Step 2.1: Apply Feature Scaling\n",
    "\n",
    "Before we apply dimensionality reduction techniques to the data, we need to perform feature scaling so that the principal component vectors are not influenced by the natural differences in scale for features. Starting from this part of the project, you'll want to keep an eye on the [API reference page for sklearn](http://scikit-learn.org/stable/modules/classes.html) to help you navigate to all of the classes and functions that you'll need. In this substep, you'll need to check the following:\n",
    "\n",
    "- sklearn requires that data not have missing values in order for its estimators to work properly. So, before applying the scaler to your data, make sure that you've cleaned the DataFrame of the remaining missing values. This can be as simple as just removing all data points with missing data, or applying an [Imputer](http://scikit-learn.org/stable/modules/generated/sklearn.preprocessing.Imputer.html) to replace all missing values. You might also try a more complicated procedure where you temporarily remove missing values in order to compute the scaling parameters before re-introducing those missing values and applying imputation. Think about how much missing data you have and what possible effects each approach might have on your analysis, and justify your decision in the discussion section below.\n",
    "- For the actual scaling function, a [StandardScaler](http://scikit-learn.org/stable/modules/generated/sklearn.preprocessing.StandardScaler.html) instance is suggested, scaling each feature to mean 0 and standard deviation 1.\n",
    "- For these classes, you can make use of the `.fit_transform()` method to both fit a procedure to the data as well as apply the transformation to the data at the same time. Don't forget to keep the fit sklearn objects handy, since you'll be applying them to the customer demographics data towards the end of the project."
   ]
  },
  {
   "cell_type": "code",
   "execution_count": 219,
   "metadata": {},
   "outputs": [
    {
     "data": {
      "text/plain": [
       "(174856, 116)"
      ]
     },
     "execution_count": 219,
     "metadata": {},
     "output_type": "execute_result"
    }
   ],
   "source": [
    "# If you've not yet cleaned the dataset of all NaN values, then investigate and\n",
    "# do that now.\n",
    "from sklearn.preprocessing import Imputer, StandardScaler\n",
    "azdias_fewNA_final[azdias_fewNA_final.isnull().sum(axis=1)>0].shape"
   ]
  },
  {
   "cell_type": "code",
   "execution_count": 220,
   "metadata": {},
   "outputs": [
    {
     "data": {
      "text/plain": [
       "(798067, 116)"
      ]
     },
     "execution_count": 220,
     "metadata": {},
     "output_type": "execute_result"
    }
   ],
   "source": [
    "azdias_fewNA_final.shape"
   ]
  },
  {
   "cell_type": "code",
   "execution_count": 221,
   "metadata": {},
   "outputs": [
    {
     "data": {
      "text/plain": [
       "StandardScaler(copy=True, with_mean=True, with_std=True)"
      ]
     },
     "execution_count": 221,
     "metadata": {},
     "output_type": "execute_result"
    }
   ],
   "source": [
    "# temporaritly remove the rows with NA, only keep rows with 0 NA to fit standardscaler\n",
    "azdias_NoNA = azdias_fewNA_final[azdias_fewNA_final.isnull().sum(axis=1)==0]\n",
    "std = StandardScaler()\n",
    "std.fit(azdias_NoNA)"
   ]
  },
  {
   "cell_type": "code",
   "execution_count": 222,
   "metadata": {},
   "outputs": [],
   "source": [
    "# impute NA with median value by column\n",
    "imp = Imputer(strategy=\"median\")\n",
    "azdias_final_clean = imp.fit_transform(azdias_fewNA_final)\n",
    "# std transform the clean df as final df\n",
    "# Apply feature scaling to the general population demographics data.\n",
    "azdias_final_std = std.transform(azdias_final_clean)"
   ]
  },
  {
   "cell_type": "markdown",
   "metadata": {},
   "source": [
    "### Discussion 2.1: Apply Feature Scaling\n",
    "\n",
    "I chose the more complicated approach - remove the rows with any NA first and fit the standardscaler on that subset, then impute the missing values with the median by column, finally transform the whole dataset with the scaling parameters learned from the Non-NA subset.\n",
    "\n",
    "The reason why I chose this approach is that there are over 170k rows with Nan values - about 1/5 of the total number of rows in the azdias_fewNA_final. It's too big of a number to be thrown away, so I don't want to exclude them. Using only the subset of the Non-Na records to fit the standardscaler can produce a more accurate scaler parameter. that's because applying the median imputer will dilute the standard deviation of the data set. I think it's better to transform the dataset with the standard scaler parameter learned from the original non-na dataset before the median imputer is applied."
   ]
  },
  {
   "cell_type": "markdown",
   "metadata": {},
   "source": [
    "### Step 2.2: Perform Dimensionality Reduction\n",
    "\n",
    "On your scaled data, you are now ready to apply dimensionality reduction techniques.\n",
    "\n",
    "- Use sklearn's [PCA](http://scikit-learn.org/stable/modules/generated/sklearn.decomposition.PCA.html) class to apply principal component analysis on the data, thus finding the vectors of maximal variance in the data. To start, you should not set any parameters (so all components are computed) or set a number of components that is at least half the number of features (so there's enough features to see the general trend in variability).\n",
    "- Check out the ratio of variance explained by each principal component as well as the cumulative variance explained. Try plotting the cumulative or sequential values using matplotlib's [`plot()`](https://matplotlib.org/api/_as_gen/matplotlib.pyplot.plot.html) function. Based on what you find, select a value for the number of transformed features you'll retain for the clustering part of the project.\n",
    "- Once you've made a choice for the number of components to keep, make sure you re-fit a PCA instance to perform the decided-on transformation."
   ]
  },
  {
   "cell_type": "code",
   "execution_count": 223,
   "metadata": {},
   "outputs": [
    {
     "data": {
      "text/plain": [
       "PCA(copy=True, iterated_power='auto', n_components=None, random_state=None,\n",
       "  svd_solver='auto', tol=0.0, whiten=False)"
      ]
     },
     "execution_count": 223,
     "metadata": {},
     "output_type": "execute_result"
    }
   ],
   "source": [
    "# Apply PCA to the data.\n",
    "from sklearn.decomposition import PCA\n",
    "pca = PCA()\n",
    "pca.fit(azdias_final_std)"
   ]
  },
  {
   "cell_type": "code",
   "execution_count": 224,
   "metadata": {},
   "outputs": [
    {
     "name": "stdout",
     "output_type": "stream",
     "text": [
      "[1.16401216e-01 9.01973181e-02 5.65919765e-02 4.13768839e-02\n",
      " 3.60262979e-02 2.49913803e-02 2.08258625e-02 1.99384076e-02\n",
      " 1.98421878e-02 1.75435011e-02 1.65491743e-02 1.58437642e-02\n",
      " 1.50795099e-02 1.35629807e-02 1.33105339e-02 1.28568150e-02\n",
      " 1.24542637e-02 1.19344255e-02 1.17540073e-02 1.13859107e-02\n",
      " 1.12334966e-02 1.10867611e-02 1.09206911e-02 1.06640650e-02\n",
      " 1.06072166e-02 1.04944786e-02 1.02076435e-02 1.00363294e-02\n",
      " 9.93339332e-03 9.81462802e-03 9.78918238e-03 9.57836603e-03\n",
      " 9.44266982e-03 9.36454198e-03 9.24607593e-03 9.15951540e-03\n",
      " 8.94416661e-03 8.92608831e-03 8.71576329e-03 8.57332075e-03\n",
      " 8.24309107e-03 8.19003809e-03 8.14502767e-03 7.96492684e-03\n",
      " 7.88212311e-03 7.78562880e-03 7.62367795e-03 7.30865903e-03\n",
      " 7.19266164e-03 6.96357610e-03 6.83901762e-03 6.70641567e-03\n",
      " 6.59996312e-03 6.19715421e-03 6.00227449e-03 5.79759634e-03\n",
      " 5.20786300e-03 5.02181183e-03 4.93976123e-03 4.71888887e-03\n",
      " 3.99160726e-03 3.97435442e-03 3.87465105e-03 3.76736582e-03\n",
      " 3.73500081e-03 3.56662363e-03 3.45069469e-03 3.27450436e-03\n",
      " 3.22371487e-03 3.05593496e-03 2.85974146e-03 2.77383498e-03\n",
      " 2.70078747e-03 2.59421348e-03 2.47887558e-03 2.34508160e-03\n",
      " 2.28519072e-03 2.26377559e-03 2.18106817e-03 2.08438911e-03\n",
      " 2.00980255e-03 1.96236007e-03 1.77042632e-03 1.72940379e-03\n",
      " 1.67701126e-03 1.59851099e-03 1.56361270e-03 1.49727749e-03\n",
      " 1.47335942e-03 1.43890109e-03 1.32714496e-03 1.26631299e-03\n",
      " 1.18097423e-03 1.13639768e-03 1.04925684e-03 1.00549544e-03\n",
      " 9.40555034e-04 7.99285433e-04 7.62157857e-04 7.38652697e-04\n",
      " 6.81962074e-04 4.49596450e-04 4.15569772e-04 1.53335889e-04\n",
      " 1.23457739e-04 9.45888679e-05 6.20687993e-05 5.16743424e-05\n",
      " 1.67254768e-05 7.74445655e-06 1.55723264e-31 8.75733029e-33\n",
      " 5.90139605e-33 3.75022693e-33 2.52938940e-33 9.67045367e-34]\n"
     ]
    }
   ],
   "source": [
    "# Investigate the variance accounted for by each principal component.\n",
    "print(pca.explained_variance_ratio_)  \n",
    "#print(pca.singular_values_)"
   ]
  },
  {
   "cell_type": "code",
   "execution_count": 225,
   "metadata": {},
   "outputs": [
    {
     "name": "stdout",
     "output_type": "stream",
     "text": [
      "[0.11640122 0.20659853 0.26319051 0.30456739 0.34059369 0.36558507\n",
      " 0.38641094 0.40634934 0.42619153 0.44373503 0.46028421 0.47612797\n",
      " 0.49120748 0.50477046 0.51808099 0.53093781 0.54339207 0.5553265\n",
      " 0.56708051 0.57846642 0.58969991 0.60078667 0.61170737 0.62237143\n",
      " 0.63297865 0.64347313 0.65368077 0.6637171  0.67365049 0.68346512\n",
      " 0.6932543  0.70283267 0.71227534 0.72163988 0.73088596 0.74004547\n",
      " 0.74898964 0.75791573 0.76663149 0.77520481 0.7834479  0.79163794\n",
      " 0.79978297 0.80774789 0.81563002 0.82341565 0.83103932 0.83834798\n",
      " 0.84554064 0.85250422 0.85934324 0.86604965 0.87264962 0.87884677\n",
      " 0.88484905 0.89064664 0.89585451 0.90087632 0.90581608 0.91053497\n",
      " 0.91452657 0.91850093 0.92237558 0.92614295 0.92987795 0.93344457\n",
      " 0.93689526 0.94016977 0.94339348 0.94644942 0.94930916 0.952083\n",
      " 0.95478378 0.957378   0.95985687 0.96220195 0.96448714 0.96675092\n",
      " 0.96893199 0.97101638 0.97302618 0.97498854 0.97675897 0.97848837\n",
      " 0.98016538 0.98176389 0.9833275  0.98482478 0.98629814 0.98773704\n",
      " 0.98906419 0.9903305  0.99151148 0.99264787 0.99369713 0.99470263\n",
      " 0.99564318 0.99644247 0.99720462 0.99794328 0.99862524 0.99907483\n",
      " 0.9994904  0.99964374 0.9997672  0.99986179 0.99992386 0.99997553\n",
      " 0.99999226 1.         1.         1.         1.         1.\n",
      " 1.         1.        ]\n"
     ]
    }
   ],
   "source": [
    "print(pca.explained_variance_ratio_.cumsum())  "
   ]
  },
  {
   "cell_type": "code",
   "execution_count": 226,
   "metadata": {},
   "outputs": [
    {
     "data": {
      "image/png": "[encoded data removed]",
      "text/plain": [
       "<Figure size 720x432 with 1 Axes>"
      ]
     },
     "metadata": {},
     "output_type": "display_data"
    }
   ],
   "source": [
    "def scree_plot(pca):\n",
    "    '''\n",
    "    Creates a scree plot associated with the principal components \n",
    "    \n",
    "    INPUT: pca - the result of instantian of PCA in scikit learn\n",
    "            \n",
    "    OUTPUT:\n",
    "            None\n",
    "    '''\n",
    "    num_components = len(pca.explained_variance_ratio_)\n",
    "    ind = np.arange(num_components)\n",
    "    vals = pca.explained_variance_ratio_\n",
    " \n",
    "    plt.figure(figsize=(10, 6))\n",
    "    ax = plt.subplot(111)\n",
    "    cumvals = np.cumsum(vals)\n",
    "    ax.bar(ind, vals)\n",
    "    ax.plot(ind, cumvals)\n",
    " \n",
    "    ax.xaxis.set_tick_params(width=0)\n",
    "    ax.yaxis.set_tick_params(width=1, length=12)\n",
    " \n",
    "    ax.set_xlabel(\"Principal Component\")\n",
    "    ax.set_ylabel(\"Variance Explained (%)\")\n",
    "    plt.title('Explained Variance Per Principal Component')\n",
    "    \n",
    "\n",
    "scree_plot(pca)"
   ]
  },
  {
   "cell_type": "code",
   "execution_count": 227,
   "metadata": {},
   "outputs": [],
   "source": [
    "# Re-apply PCA to the data while selecting for number of components to retain.\n",
    "\n",
    "pca1 = PCA(n_components=58)\n",
    "azdias_final_pca = pca1.fit_transform(azdias_final_std)"
   ]
  },
  {
   "cell_type": "markdown",
   "metadata": {},
   "source": [
    "### Discussion 2.2: Perform Dimensionality Reduction\n",
    "\n",
    "From the plot, we can see the first 58 components can explain roughly 90% of the variances of the data. Cross check with the cumulative sum of explained variance, I decided to retain the first 58 components which account for 0.90 of the variance."
   ]
  },
  {
   "cell_type": "markdown",
   "metadata": {},
   "source": [
    "### Step 2.3: Interpret Principal Components\n",
    "\n",
    "Now that we have our transformed principal components, it's a nice idea to check out the weight of each variable on the first few components to see if they can be interpreted in some fashion.\n",
    "\n",
    "As a reminder, each principal component is a unit vector that points in the direction of highest variance (after accounting for the variance captured by earlier principal components). The further a weight is from zero, the more the principal component is in the direction of the corresponding feature. If two features have large weights of the same sign (both positive or both negative), then increases in one tend expect to be associated with increases in the other. To contrast, features with different signs can be expected to show a negative correlation: increases in one variable should result in a decrease in the other.\n",
    "\n",
    "- To investigate the features, you should map each weight to their corresponding feature name, then sort the features according to weight. The most interesting features for each principal component, then, will be those at the beginning and end of the sorted list. Use the data dictionary document to help you understand these most prominent features, their relationships, and what a positive or negative value on the principal component might indicate.\n",
    "- You should investigate and interpret feature associations from the first three principal components in this substep. To help facilitate this, you should write a function that you can call at any time to print the sorted list of feature weights, for the *i*-th principal component. This might come in handy in the next step of the project, when you interpret the tendencies of the discovered clusters."
   ]
  },
  {
   "cell_type": "code",
   "execution_count": 228,
   "metadata": {},
   "outputs": [
    {
     "data": {
      "text/plain": [
       "LP_STATUS_GROB_1.0       0.201760\n",
       "HH_EINKOMMEN_SCORE       0.199264\n",
       "PLZ8_ANTG3               0.189517\n",
       "PLZ8_ANTG4               0.181696\n",
       "EWDICHTE                 0.168248\n",
       "ORTSGR_KLS9              0.167642\n",
       "FINANZ_HAUSBAUER         0.162764\n",
       "KBA05_ANTG4              0.135757\n",
       "FINANZ_SPARER            0.131343\n",
       "PLZ8_ANTG2               0.130993\n",
       "FINANZTYP_1              0.128229\n",
       "ANZ_HAUSHALTE_AKTIV      0.124917\n",
       "ARBEIT                   0.121969\n",
       "KBA05_ANTG3              0.120757\n",
       "RELAT_AB                 0.116469\n",
       "CAMEO_DEUG_2015_9        0.115994\n",
       "SEMIO_REL                0.094718\n",
       "SEMIO_PFLICHT            0.094251\n",
       "CAMEO_DEUG_2015_8        0.091973\n",
       "ZABEOTYP_5               0.083270\n",
       "LP_FAMILIE_GROB_1.0      0.081244\n",
       "SEMIO_RAT                0.078388\n",
       "GEBAEUDETYP_3.0          0.072888\n",
       "SEMIO_TRADV              0.070067\n",
       "FINANZ_ANLEGER           0.065442\n",
       "FINANZ_UNAUFFAELLIGER    0.062407\n",
       "SEMIO_FAM                0.058992\n",
       "SEMIO_MAT                0.058931\n",
       "REGIOTYP                 0.056766\n",
       "SEMIO_KULT               0.054180\n",
       "                           ...   \n",
       "KBA13_ANZAHL_PKW        -0.065779\n",
       "FINANZTYP_3             -0.070830\n",
       "CAMEO_DEUG_2015_3       -0.071196\n",
       "CAMEO_DEUG_2015_4       -0.074559\n",
       "ANZ_PERSONEN            -0.080783\n",
       "GENERATION              -0.083094\n",
       "NATIONALITAET_KZ_1.0    -0.083872\n",
       "FINANZTYP_2             -0.088069\n",
       "CAMEO_DEUG_2015_2       -0.095109\n",
       "FINANZ_VORSORGER        -0.095279\n",
       "GEBAEUDETYP_1.0         -0.096414\n",
       "ALTERSKATEGORIE_GROB    -0.097687\n",
       "ZABEOTYP_1              -0.098918\n",
       "GREEN_AVANTGARDE        -0.101401\n",
       "MOVEMENT                -0.101401\n",
       "BALLRAUM                -0.105476\n",
       "GEBAEUDETYP_RASTER      -0.106053\n",
       "LP_STATUS_GROB_5.0      -0.111823\n",
       "LIFE_STAGE              -0.112322\n",
       "LP_STATUS_GROB_4.0      -0.127136\n",
       "PLZ8_GBZ                -0.137791\n",
       "INNENSTADT              -0.137906\n",
       "KONSUMNAEHE             -0.149129\n",
       "MIN_GEBAEUDEJAHR        -0.149689\n",
       "KBA05_GBZ               -0.185441\n",
       "PLZ8_ANTG1              -0.187682\n",
       "KBA05_ANTG1             -0.188331\n",
       "WEALTH                  -0.190741\n",
       "FINANZ_MINIMALIST       -0.208146\n",
       "MOBI_REGIO              -0.209104\n",
       "Length: 116, dtype: float64"
      ]
     },
     "execution_count": 228,
     "metadata": {},
     "output_type": "execute_result"
    }
   ],
   "source": [
    "# Map weights for the first principal component to corresponding feature names\n",
    "# and then print the linked values, sorted by weight.\n",
    "# HINT: Try defining a function here or in a new cell that you can reuse in the\n",
    "# other cells.\n",
    "def pca_interpretation(model, num_component):\n",
    "    return pd.Series(model.components_[num_component], index = azdias_fewNA_final.columns).sort_values(ascending=False)\n",
    "    \n",
    "pca_interpretation(pca1,0)"
   ]
  },
  {
   "cell_type": "markdown",
   "metadata": {},
   "source": [
    "first component has large positive associations with the large household size(more than 6 people family) and low household income; it is largely inversely related to small household size and number of small families in the area. So this first component is mainly about the household level demographics, particularly large family size households with low income and move often."
   ]
  },
  {
   "cell_type": "code",
   "execution_count": 229,
   "metadata": {},
   "outputs": [
    {
     "data": {
      "text/plain": [
       "GENERATION               0.236750\n",
       "ALTERSKATEGORIE_GROB     0.232261\n",
       "FINANZ_VORSORGER         0.220408\n",
       "ZABEOTYP_3               0.205235\n",
       "SEMIO_ERL                0.191079\n",
       "SEMIO_LUST               0.166015\n",
       "RETOURTYP_BK_S           0.154217\n",
       "W_KEIT_KIND_HH           0.121674\n",
       "CJT_GESAMTTYP_2.0        0.110228\n",
       "FINANZ_HAUSBAUER         0.109965\n",
       "FINANZTYP_2              0.093929\n",
       "FINANZTYP_5              0.093427\n",
       "SEMIO_KRIT               0.081688\n",
       "FINANZ_MINIMALIST        0.075172\n",
       "SHOPPER_TYP_3.0          0.074174\n",
       "EWDICHTE                 0.071205\n",
       "NATIONALITAET_KZ_1.0     0.071057\n",
       "SEMIO_KAEM               0.070729\n",
       "CJT_GESAMTTYP_1.0        0.070683\n",
       "FINANZTYP_6              0.070024\n",
       "ORTSGR_KLS9              0.069304\n",
       "PLZ8_ANTG3               0.069244\n",
       "PLZ8_ANTG4               0.064666\n",
       "WOHNDAUER_2008           0.061001\n",
       "KBA05_ANTG4              0.058444\n",
       "ARBEIT                   0.055380\n",
       "ANREDE_KZ                0.054935\n",
       "LP_FAMILIE_GROB_1.0      0.054640\n",
       "ANZ_HAUSHALTE_AKTIV      0.054153\n",
       "HH_EINKOMMEN_SCORE       0.053599\n",
       "                           ...   \n",
       "PLZ8_GBZ                -0.053141\n",
       "KBA05_ANTG1             -0.054275\n",
       "INNENSTADT              -0.055229\n",
       "CJT_GESAMTTYP_4.0       -0.057110\n",
       "KONSUMNAEHE             -0.058076\n",
       "ANZ_PERSONEN            -0.062866\n",
       "KBA05_GBZ               -0.065776\n",
       "WEALTH                  -0.066013\n",
       "PLZ8_ANTG1              -0.067286\n",
       "MOBI_REGIO              -0.067755\n",
       "LP_FAMILIE_GROB_4.0     -0.068831\n",
       "ZABEOTYP_1              -0.069320\n",
       "SEMIO_SOZ               -0.070743\n",
       "FINANZTYP_4             -0.089772\n",
       "ZABEOTYP_5              -0.090090\n",
       "ZABEOTYP_4              -0.099097\n",
       "FINANZTYP_3             -0.110103\n",
       "FINANZTYP_1             -0.125863\n",
       "SEMIO_MAT               -0.136359\n",
       "SEMIO_FAM               -0.146011\n",
       "MIN_GEBAEUDEJAHR        -0.159149\n",
       "SEMIO_RAT               -0.160418\n",
       "ONLINE_AFFINITAET       -0.165073\n",
       "SEMIO_KULT              -0.173640\n",
       "SEMIO_PFLICHT           -0.197564\n",
       "FINANZ_ANLEGER          -0.199812\n",
       "SEMIO_TRADV             -0.206783\n",
       "SEMIO_REL               -0.224004\n",
       "FINANZ_UNAUFFAELLIGER   -0.225074\n",
       "FINANZ_SPARER           -0.227050\n",
       "Length: 116, dtype: float64"
      ]
     },
     "execution_count": 229,
     "metadata": {},
     "output_type": "execute_result"
    }
   ],
   "source": [
    "# Map weights for the second principal component to corresponding feature names\n",
    "# and then print the linked values, sorted by weight.\n",
    "pca_interpretation(pca1,1)"
   ]
  },
  {
   "cell_type": "code",
   "execution_count": 74,
   "metadata": {},
   "outputs": [
    {
     "data": {
      "text/html": [
       "<div>\n",
       "<style scoped>\n",
       "    .dataframe tbody tr th:only-of-type {\n",
       "        vertical-align: middle;\n",
       "    }\n",
       "\n",
       "    .dataframe tbody tr th {\n",
       "        vertical-align: top;\n",
       "    }\n",
       "\n",
       "    .dataframe thead th {\n",
       "        text-align: right;\n",
       "    }\n",
       "</style>\n",
       "<table border=\"1\" class=\"dataframe\">\n",
       "  <thead>\n",
       "    <tr style=\"text-align: right;\">\n",
       "      <th></th>\n",
       "      <th>FINANZ_VORSORGER</th>\n",
       "      <th>FINANZ_SPARER</th>\n",
       "    </tr>\n",
       "  </thead>\n",
       "  <tbody>\n",
       "    <tr>\n",
       "      <th>1</th>\n",
       "      <td>2</td>\n",
       "      <td>5</td>\n",
       "    </tr>\n",
       "    <tr>\n",
       "      <th>2</th>\n",
       "      <td>1</td>\n",
       "      <td>4</td>\n",
       "    </tr>\n",
       "    <tr>\n",
       "      <th>3</th>\n",
       "      <td>5</td>\n",
       "      <td>2</td>\n",
       "    </tr>\n",
       "    <tr>\n",
       "      <th>4</th>\n",
       "      <td>4</td>\n",
       "      <td>3</td>\n",
       "    </tr>\n",
       "    <tr>\n",
       "      <th>5</th>\n",
       "      <td>5</td>\n",
       "      <td>1</td>\n",
       "    </tr>\n",
       "  </tbody>\n",
       "</table>\n",
       "</div>"
      ],
      "text/plain": [
       "   FINANZ_VORSORGER  FINANZ_SPARER\n",
       "1                 2              5\n",
       "2                 1              4\n",
       "3                 5              2\n",
       "4                 4              3\n",
       "5                 5              1"
      ]
     },
     "execution_count": 74,
     "metadata": {},
     "output_type": "execute_result"
    }
   ],
   "source": [
    "azdias_fewNA_final[['FINANZ_VORSORGER','FINANZ_SPARER']].head()"
   ]
  },
  {
   "cell_type": "markdown",
   "metadata": {},
   "source": [
    "The second component is positively correlated to increasing age and older generation, lower affinity to being prepared in financial investment, ie. low interest in financial investment. The top 2 negatively related features mean they have high affinity to saving money and are religious. The second component is mainly about personal level demographics, especially their financial typology. It's about older people who are money savers, religious and traditional-minded."
   ]
  },
  {
   "cell_type": "code",
   "execution_count": 230,
   "metadata": {},
   "outputs": [
    {
     "data": {
      "text/plain": [
       "SEMIO_VERT               0.329152\n",
       "SEMIO_SOZ                0.259897\n",
       "SEMIO_FAM                0.257927\n",
       "SEMIO_KULT               0.247919\n",
       "FINANZ_MINIMALIST        0.136183\n",
       "FINANZTYP_5              0.134959\n",
       "SHOPPER_TYP_0.0          0.122917\n",
       "ZABEOTYP_1               0.115088\n",
       "SEMIO_REL                0.105771\n",
       "RETOURTYP_BK_S           0.083768\n",
       "W_KEIT_KIND_HH           0.076588\n",
       "SEMIO_MAT                0.075909\n",
       "GENERATION               0.067324\n",
       "FINANZ_VORSORGER         0.065161\n",
       "GREEN_AVANTGARDE         0.057796\n",
       "MOVEMENT                 0.057796\n",
       "SHOPPER_TYP_1.0          0.052879\n",
       "EWDICHTE                 0.052746\n",
       "ORTSGR_KLS9              0.051814\n",
       "ZABEOTYP_6               0.051776\n",
       "PLZ8_ANTG3               0.041610\n",
       "PLZ8_ANTG4               0.041108\n",
       "LP_STATUS_GROB_5.0       0.038847\n",
       "SEMIO_LUST               0.035158\n",
       "ARBEIT                   0.032373\n",
       "RELAT_AB                 0.032217\n",
       "ALTERSKATEGORIE_GROB     0.031637\n",
       "PLZ8_ANTG2               0.030561\n",
       "GEBAEUDETYP_3.0          0.027777\n",
       "WOHNDAUER_2008           0.027639\n",
       "                           ...   \n",
       "KKK                     -0.028831\n",
       "ZABEOTYP_5              -0.031324\n",
       "PLZ8_GBZ                -0.031388\n",
       "SEMIO_TRADV             -0.032776\n",
       "NATIONALITAET_KZ_3.0    -0.033599\n",
       "ONLINE_AFFINITAET       -0.034968\n",
       "SEMIO_PFLICHT           -0.036349\n",
       "CJT_GESAMTTYP_6.0       -0.036727\n",
       "GEBAEUDETYP_RASTER      -0.037049\n",
       "ZABEOTYP_2              -0.037787\n",
       "BALLRAUM                -0.039970\n",
       "PLZ8_ANTG1              -0.040391\n",
       "KONSUMNAEHE             -0.044043\n",
       "INNENSTADT              -0.046595\n",
       "FINANZ_HAUSBAUER        -0.046960\n",
       "LP_FAMILIE_GROB_3.0     -0.049274\n",
       "SHOPPER_TYP_3.0         -0.054556\n",
       "ZABEOTYP_4              -0.066056\n",
       "FINANZ_UNAUFFAELLIGER   -0.069809\n",
       "FINANZ_SPARER           -0.071748\n",
       "SHOPPER_TYP_2.0         -0.090807\n",
       "MIN_GEBAEUDEJAHR        -0.098104\n",
       "FINANZTYP_1             -0.111140\n",
       "FINANZ_ANLEGER          -0.163114\n",
       "SEMIO_RAT               -0.168466\n",
       "SEMIO_ERL               -0.201479\n",
       "SEMIO_KRIT              -0.273989\n",
       "SEMIO_DOM               -0.287361\n",
       "SEMIO_KAEM              -0.316217\n",
       "ANREDE_KZ               -0.353516\n",
       "Length: 116, dtype: float64"
      ]
     },
     "execution_count": 230,
     "metadata": {},
     "output_type": "execute_result"
    }
   ],
   "source": [
    "# Map weights for the third principal component to corresponding feature names\n",
    "# and then print the linked values, sorted by weight.\n",
    "\n",
    "pca_interpretation(pca1,2)"
   ]
  },
  {
   "cell_type": "code",
   "execution_count": 76,
   "metadata": {},
   "outputs": [
    {
     "data": {
      "text/plain": [
       "2    416181\n",
       "1    381886\n",
       "Name: ANREDE_KZ, dtype: int64"
      ]
     },
     "execution_count": 76,
     "metadata": {},
     "output_type": "execute_result"
    }
   ],
   "source": [
    "azdias_fewNA_final['ANREDE_KZ'].value_counts() # gender. 1=male, 2=female"
   ]
  },
  {
   "cell_type": "markdown",
   "metadata": {},
   "source": [
    "The third component have more detailed person level demographics- their personalities and mindset. The top 5 negatively correlated fields means high affinity of those personality typology. The top negatively related \"SEMIO\" group features correspond to higher affinity of those characteristics while the top positive SEMIO features mean lower affinity of them. The high negative correlation to \"ANREDE_KZ\" indicates male (1= male).  This component is about people who are rational, dominant, aggresive and critically-minded, mostly male group."
   ]
  },
  {
   "cell_type": "markdown",
   "metadata": {},
   "source": [
    "### Discussion 2.3: Interpret Principal Components\n",
    "\n",
    "The first component is on the community level, about the large size families(more than 6 people) in the neighborhood, since it's positively correlated with density of large family households in the region, Size of community, and negatively correlated with small family households in the region.\n",
    "\n",
    "The second component is on person level. It mainly descibes people's financial typology. It's positively correlated to people's age, and people's conservative mindset. This component is about older people who are money savers, religious and traditional-minded.\n",
    "\n",
    "The third component is also on person level. This component is about people who are rational, dominant, aggresive and critically-minded, mostly male group, since those fields are highly negatively corelated with the component. That means the higher the component's eigenvalues, the lower the values of those fields. And the lower values mean higher affinity to those personality types."
   ]
  },
  {
   "cell_type": "markdown",
   "metadata": {},
   "source": [
    "## Step 3: Clustering\n",
    "\n",
    "### Step 3.1: Apply Clustering to General Population\n",
    "\n",
    "You've assessed and cleaned the demographics data, then scaled and transformed them. Now, it's time to see how the data clusters in the principal components space. In this substep, you will apply k-means clustering to the dataset and use the average within-cluster distances from each point to their assigned cluster's centroid to decide on a number of clusters to keep.\n",
    "\n",
    "- Use sklearn's [KMeans](http://scikit-learn.org/stable/modules/generated/sklearn.cluster.KMeans.html#sklearn.cluster.KMeans) class to perform k-means clustering on the PCA-transformed data.\n",
    "- Then, compute the average difference from each point to its assigned cluster's center. **Hint**: The KMeans object's `.score()` method might be useful here, but note that in sklearn, scores tend to be defined so that larger is better. Try applying it to a small, toy dataset, or use an internet search to help your understanding.\n",
    "- Perform the above two steps for a number of different cluster counts. You can then see how the average distance decreases with an increasing number of clusters. However, each additional cluster provides a smaller net benefit. Use this fact to select a final number of clusters in which to group the data. **Warning**: because of the large size of the dataset, it can take a long time for the algorithm to resolve. The more clusters to fit, the longer the algorithm will take. You should test for cluster counts through at least 10 clusters to get the full picture, but you shouldn't need to test for a number of clusters above about 30.\n",
    "- Once you've selected a final number of clusters to use, re-fit a KMeans instance to perform the clustering operation. Make sure that you also obtain the cluster assignments for the general demographics data, since you'll be using them in the final Step 3.3."
   ]
  },
  {
   "cell_type": "code",
   "execution_count": 77,
   "metadata": {},
   "outputs": [],
   "source": [
    "from sklearn.cluster import KMeans\n",
    "scores = []\n",
    "Nc = range(1,25)\n",
    "for n in Nc:\n",
    "    kmeans = KMeans(n_clusters= n)\n",
    "    kmeans.fit(azdias_final_pca)\n",
    "    scores.append(kmeans.score(azdias_final_pca))    "
   ]
  },
  {
   "cell_type": "code",
   "execution_count": 83,
   "metadata": {},
   "outputs": [
    {
     "data": {
      "text/plain": [
       "([<matplotlib.axis.XTick at 0x1a310bc4a8>,\n",
       "  <matplotlib.axis.XTick at 0x1a310bada0>,\n",
       "  <matplotlib.axis.XTick at 0x1a310bab70>,\n",
       "  <matplotlib.axis.XTick at 0x1a31143a20>,\n",
       "  <matplotlib.axis.XTick at 0x1a31143f28>,\n",
       "  <matplotlib.axis.XTick at 0x1a3114a470>,\n",
       "  <matplotlib.axis.XTick at 0x1a3114a978>,\n",
       "  <matplotlib.axis.XTick at 0x1a3114ae80>,\n",
       "  <matplotlib.axis.XTick at 0x1a311533c8>,\n",
       "  <matplotlib.axis.XTick at 0x1a311538d0>,\n",
       "  <matplotlib.axis.XTick at 0x1a31153dd8>,\n",
       "  <matplotlib.axis.XTick at 0x1a311536d8>,\n",
       "  <matplotlib.axis.XTick at 0x1a3114aa58>,\n",
       "  <matplotlib.axis.XTick at 0x1a3115a1d0>,\n",
       "  <matplotlib.axis.XTick at 0x1a3115a898>,\n",
       "  <matplotlib.axis.XTick at 0x1a3115ada0>,\n",
       "  <matplotlib.axis.XTick at 0x1a311632e8>,\n",
       "  <matplotlib.axis.XTick at 0x1a311637f0>,\n",
       "  <matplotlib.axis.XTick at 0x1a31163cf8>,\n",
       "  <matplotlib.axis.XTick at 0x1a3116a240>,\n",
       "  <matplotlib.axis.XTick at 0x1a3116a748>,\n",
       "  <matplotlib.axis.XTick at 0x1a311638d0>,\n",
       "  <matplotlib.axis.XTick at 0x1a3115a240>,\n",
       "  <matplotlib.axis.XTick at 0x1a3116a048>],\n",
       " <a list of 24 Text xticklabel objects>)"
      ]
     },
     "execution_count": 83,
     "metadata": {},
     "output_type": "execute_result"
    },
    {
     "data": {
      "image/png": "[encoded data removed]",
      "text/plain": [
       "<Figure size 432x288 with 1 Axes>"
      ]
     },
     "metadata": {},
     "output_type": "display_data"
    }
   ],
   "source": [
    "plt.plot(range(1,25),scores)\n",
    "\n",
    "plt.xlabel('Number of Clusters')\n",
    "\n",
    "plt.ylabel('Score')\n",
    "\n",
    "plt.xticks(range(1,25))  "
   ]
  },
  {
   "cell_type": "code",
   "execution_count": 82,
   "metadata": {},
   "outputs": [
    {
     "data": {
      "text/plain": [
       "([<matplotlib.axis.XTick at 0x1a31038320>,\n",
       "  <matplotlib.axis.XTick at 0x1a3102fc18>,\n",
       "  <matplotlib.axis.XTick at 0x1a3102f978>,\n",
       "  <matplotlib.axis.XTick at 0x1a31058908>,\n",
       "  <matplotlib.axis.XTick at 0x1a31058e10>,\n",
       "  <matplotlib.axis.XTick at 0x1a3105f358>,\n",
       "  <matplotlib.axis.XTick at 0x1a3105f860>,\n",
       "  <matplotlib.axis.XTick at 0x1a3105fd68>,\n",
       "  <matplotlib.axis.XTick at 0x1a3105f940>,\n",
       "  <matplotlib.axis.XTick at 0x1a31058c18>,\n",
       "  <matplotlib.axis.XTick at 0x1a31067630>,\n",
       "  <matplotlib.axis.XTick at 0x1a31067b38>,\n",
       "  <matplotlib.axis.XTick at 0x1a310700f0>,\n",
       "  <matplotlib.axis.XTick at 0x1a31070588>,\n",
       "  <matplotlib.axis.XTick at 0x1a31070a90>,\n",
       "  <matplotlib.axis.XTick at 0x1a31070e80>,\n",
       "  <matplotlib.axis.XTick at 0x1a310784e0>,\n",
       "  <matplotlib.axis.XTick at 0x1a31070908>,\n",
       "  <matplotlib.axis.XTick at 0x1a31067940>,\n",
       "  <matplotlib.axis.XTick at 0x1a31078710>,\n",
       "  <matplotlib.axis.XTick at 0x1a31078e80>,\n",
       "  <matplotlib.axis.XTick at 0x1a310823c8>,\n",
       "  <matplotlib.axis.XTick at 0x1a310828d0>,\n",
       "  <matplotlib.axis.XTick at 0x1a31082dd8>],\n",
       " <a list of 24 Text xticklabel objects>)"
      ]
     },
     "execution_count": 82,
     "metadata": {},
     "output_type": "execute_result"
    },
    {
     "data": {
      "image/png": "[encoded data removed]",
      "text/plain": [
       "<Figure size 432x288 with 1 Axes>"
      ]
     },
     "metadata": {},
     "output_type": "display_data"
    }
   ],
   "source": [
    "inertias = []\n",
    "for n in Nc:\n",
    "    kmeans = KMeans(n_clusters= n)\n",
    "    kmeans.fit(azdias_final_pca)\n",
    "    inertias.append(kmeans.inertia_)\n",
    "\n",
    "plt.plot(Nc, inertias, '-o')\n",
    "plt.xlabel('number of clusters')\n",
    "plt.ylabel('Inertia (within-cluster sum of squares criterion)')\n",
    "plt.xticks(Nc)"
   ]
  },
  {
   "cell_type": "code",
   "execution_count": 85,
   "metadata": {},
   "outputs": [
    {
     "data": {
      "text/plain": [
       "([<matplotlib.axis.XTick at 0x1a32773128>,\n",
       "  <matplotlib.axis.XTick at 0x1a3276fa90>,\n",
       "  <matplotlib.axis.XTick at 0x1a3276f7f0>,\n",
       "  <matplotlib.axis.XTick at 0x1a32790780>,\n",
       "  <matplotlib.axis.XTick at 0x1a32790c50>,\n",
       "  <matplotlib.axis.XTick at 0x1a327fb198>,\n",
       "  <matplotlib.axis.XTick at 0x1a327fb630>,\n",
       "  <matplotlib.axis.XTick at 0x1a327fbb00>,\n",
       "  <matplotlib.axis.XTick at 0x1a327fbd30>,\n",
       "  <matplotlib.axis.XTick at 0x1a32803518>,\n",
       "  <matplotlib.axis.XTick at 0x1a32803a20>,\n",
       "  <matplotlib.axis.XTick at 0x1a327fbac8>,\n",
       "  <matplotlib.axis.XTick at 0x1a32790cf8>,\n",
       "  <matplotlib.axis.XTick at 0x1a32803eb8>,\n",
       "  <matplotlib.axis.XTick at 0x1a3280b400>,\n",
       "  <matplotlib.axis.XTick at 0x1a3280b908>,\n",
       "  <matplotlib.axis.XTick at 0x1a3280be10>,\n",
       "  <matplotlib.axis.XTick at 0x1a32813358>,\n",
       "  <matplotlib.axis.XTick at 0x1a32813860>,\n",
       "  <matplotlib.axis.XTick at 0x1a32813d68>,\n",
       "  <matplotlib.axis.XTick at 0x1a328137b8>,\n",
       "  <matplotlib.axis.XTick at 0x1a3280b9b0>,\n",
       "  <matplotlib.axis.XTick at 0x1a32790ba8>,\n",
       "  <matplotlib.axis.XTick at 0x1a3281b668>],\n",
       " <a list of 24 Text xticklabel objects>)"
      ]
     },
     "execution_count": 85,
     "metadata": {},
     "output_type": "execute_result"
    },
    {
     "data": {
      "image/png": "[encoded data removed]",
      "text/plain": [
       "<Figure size 432x288 with 1 Axes>"
      ]
     },
     "metadata": {},
     "output_type": "display_data"
    }
   ],
   "source": [
    "diff = []\n",
    "for i in range(len(scores)-1):\n",
    "    diff.append(scores[i+1]- scores[i])\n",
    "plt.plot(diff)\n",
    "plt.xticks(range(1,25))\n",
    "# the difference of scores with increasing number of clusters gets significantly lower "
   ]
  },
  {
   "cell_type": "code",
   "execution_count": 87,
   "metadata": {},
   "outputs": [
    {
     "name": "stdout",
     "output_type": "stream",
     "text": [
      "1 8065775.027803332 -86551623.59541863\n",
      "2 4039537.6650016606 -78485848.5676153\n",
      "3 2790214.2053738385 -74446310.90261364\n",
      "4 2454785.755530849 -71656096.6972398\n",
      "5 1642080.0930709988 -69201310.94170895\n",
      "6 1402235.0580839962 -67559230.84863795\n",
      "7 1172245.4556728378 -66156995.79055396\n",
      "8 940934.2341194078 -64984750.33488112\n",
      "9 692529.4185926244 -64043816.10076171\n",
      "10 608739.8805125803 -63351286.68216909\n",
      "11 679037.5450750142 -62742546.80165651\n",
      "12 457274.07037845254 -62063509.25658149\n",
      "13 686363.7422033921 -61606235.18620304\n",
      "14 513259.64501826465 -60919871.44399965\n",
      "15 377624.2363991812 -60406611.79898138\n",
      "16 647528.8625883162 -60028987.5625822\n",
      "17 290246.33345641196 -59381458.699993886\n",
      "18 476058.57909647375 -59091212.366537474\n",
      "19 150913.48359404504 -58615153.787441\n",
      "20 681227.118372418 -58464240.303846955\n",
      "21 448586.9815967232 -57783013.18547454\n",
      "22 173782.66030912846 -57334426.203877814\n",
      "23 228488.84702128917 -57160643.543568686\n"
     ]
    }
   ],
   "source": [
    "for i in range(len(diff)):\n",
    "    print(i+1, diff[i], scores[i])"
   ]
  },
  {
   "cell_type": "markdown",
   "metadata": {},
   "source": [
    "Both the score plot and and inertia plot indicate the \"elbow\", aka the starting point where the margine benefit of decrease in within cluster sum of square centrion with the increase of cluster number becomes plateaued, happpens around the cluster number 6-8. So I decide to keep 6 clusters.\n"
   ]
  },
  {
   "cell_type": "code",
   "execution_count": 242,
   "metadata": {},
   "outputs": [
    {
     "data": {
      "text/plain": [
       "KMeans(algorithm='auto', copy_x=True, init='k-means++', max_iter=300,\n",
       "    n_clusters=6, n_init=10, n_jobs=1, precompute_distances='auto',\n",
       "    random_state=None, tol=0.0001, verbose=0)"
      ]
     },
     "execution_count": 242,
     "metadata": {},
     "output_type": "execute_result"
    }
   ],
   "source": [
    "# Re-fit the k-means model with the selected number of clusters and obtain\n",
    "# cluster predictions for the general population demographics data.\n",
    "kmeans_final = KMeans(n_clusters= 6)\n",
    "kmeans_final.fit(azdias_final_pca)"
   ]
  },
  {
   "cell_type": "code",
   "execution_count": 243,
   "metadata": {},
   "outputs": [],
   "source": [
    "general_population_cluster = kmeans_final.predict(azdias_final_pca)"
   ]
  },
  {
   "cell_type": "markdown",
   "metadata": {},
   "source": [
    "### Discussion 3.1: Apply Clustering to General Population\n",
    "\n",
    "(Double-click this cell and replace this text with your own text, reporting your findings and decisions regarding clustering. Into how many clusters have you decided to segment the population?)"
   ]
  },
  {
   "cell_type": "markdown",
   "metadata": {},
   "source": [
    "### Step 3.2: Apply All Steps to the Customer Data\n",
    "\n",
    "Now that you have clusters and cluster centers for the general population, it's time to see how the customer data maps on to those clusters. Take care to not confuse this for re-fitting all of the models to the customer data. Instead, you're going to use the fits from the general population to clean, transform, and cluster the customer data. In the last step of the project, you will interpret how the general population fits apply to the customer data.\n",
    "\n",
    "- Don't forget when loading in the customers data, that it is semicolon (`;`) delimited.\n",
    "- Apply the same feature wrangling, selection, and engineering steps to the customer demographics using the `clean_data()` function you created earlier. (You can assume that the customer demographics data has similar meaning behind missing data patterns as the general demographics data.)\n",
    "- Use the sklearn objects from the general demographics data, and apply their transformations to the customers data. That is, you should not be using a `.fit()` or `.fit_transform()` method to re-fit the old objects, nor should you be creating new sklearn objects! Carry the data through the feature scaling, PCA, and clustering steps, obtaining cluster assignments for all of the data in the customer demographics data."
   ]
  },
  {
   "cell_type": "code",
   "execution_count": 233,
   "metadata": {},
   "outputs": [],
   "source": [
    "# Load in the customer demographics data.\n",
    "customers = pd.read_csv('Udacity_CUSTOMERS_Subset.csv', delimiter = ';')"
   ]
  },
  {
   "cell_type": "code",
   "execution_count": 234,
   "metadata": {},
   "outputs": [
    {
     "data": {
      "text/html": [
       "<div>\n",
       "<style scoped>\n",
       "    .dataframe tbody tr th:only-of-type {\n",
       "        vertical-align: middle;\n",
       "    }\n",
       "\n",
       "    .dataframe tbody tr th {\n",
       "        vertical-align: top;\n",
       "    }\n",
       "\n",
       "    .dataframe thead th {\n",
       "        text-align: right;\n",
       "    }\n",
       "</style>\n",
       "<table border=\"1\" class=\"dataframe\">\n",
       "  <thead>\n",
       "    <tr style=\"text-align: right;\">\n",
       "      <th></th>\n",
       "      <th>AGER_TYP</th>\n",
       "      <th>ALTERSKATEGORIE_GROB</th>\n",
       "      <th>ANREDE_KZ</th>\n",
       "      <th>CJT_GESAMTTYP</th>\n",
       "      <th>FINANZ_MINIMALIST</th>\n",
       "      <th>FINANZ_SPARER</th>\n",
       "      <th>FINANZ_VORSORGER</th>\n",
       "      <th>FINANZ_ANLEGER</th>\n",
       "      <th>FINANZ_UNAUFFAELLIGER</th>\n",
       "      <th>FINANZ_HAUSBAUER</th>\n",
       "      <th>...</th>\n",
       "      <th>PLZ8_ANTG1</th>\n",
       "      <th>PLZ8_ANTG2</th>\n",
       "      <th>PLZ8_ANTG3</th>\n",
       "      <th>PLZ8_ANTG4</th>\n",
       "      <th>PLZ8_BAUMAX</th>\n",
       "      <th>PLZ8_HHZ</th>\n",
       "      <th>PLZ8_GBZ</th>\n",
       "      <th>ARBEIT</th>\n",
       "      <th>ORTSGR_KLS9</th>\n",
       "      <th>RELAT_AB</th>\n",
       "    </tr>\n",
       "  </thead>\n",
       "  <tbody>\n",
       "    <tr>\n",
       "      <th>0</th>\n",
       "      <td>2</td>\n",
       "      <td>4</td>\n",
       "      <td>1</td>\n",
       "      <td>5.0</td>\n",
       "      <td>5</td>\n",
       "      <td>1</td>\n",
       "      <td>5</td>\n",
       "      <td>1</td>\n",
       "      <td>2</td>\n",
       "      <td>2</td>\n",
       "      <td>...</td>\n",
       "      <td>3.0</td>\n",
       "      <td>3.0</td>\n",
       "      <td>1.0</td>\n",
       "      <td>0.0</td>\n",
       "      <td>1.0</td>\n",
       "      <td>5.0</td>\n",
       "      <td>5.0</td>\n",
       "      <td>1.0</td>\n",
       "      <td>2.0</td>\n",
       "      <td>1.0</td>\n",
       "    </tr>\n",
       "    <tr>\n",
       "      <th>1</th>\n",
       "      <td>-1</td>\n",
       "      <td>4</td>\n",
       "      <td>1</td>\n",
       "      <td>NaN</td>\n",
       "      <td>5</td>\n",
       "      <td>1</td>\n",
       "      <td>5</td>\n",
       "      <td>1</td>\n",
       "      <td>3</td>\n",
       "      <td>2</td>\n",
       "      <td>...</td>\n",
       "      <td>NaN</td>\n",
       "      <td>NaN</td>\n",
       "      <td>NaN</td>\n",
       "      <td>NaN</td>\n",
       "      <td>NaN</td>\n",
       "      <td>NaN</td>\n",
       "      <td>NaN</td>\n",
       "      <td>NaN</td>\n",
       "      <td>NaN</td>\n",
       "      <td>NaN</td>\n",
       "    </tr>\n",
       "    <tr>\n",
       "      <th>2</th>\n",
       "      <td>-1</td>\n",
       "      <td>4</td>\n",
       "      <td>2</td>\n",
       "      <td>2.0</td>\n",
       "      <td>5</td>\n",
       "      <td>1</td>\n",
       "      <td>5</td>\n",
       "      <td>1</td>\n",
       "      <td>4</td>\n",
       "      <td>4</td>\n",
       "      <td>...</td>\n",
       "      <td>2.0</td>\n",
       "      <td>3.0</td>\n",
       "      <td>3.0</td>\n",
       "      <td>1.0</td>\n",
       "      <td>3.0</td>\n",
       "      <td>3.0</td>\n",
       "      <td>2.0</td>\n",
       "      <td>3.0</td>\n",
       "      <td>5.0</td>\n",
       "      <td>3.0</td>\n",
       "    </tr>\n",
       "    <tr>\n",
       "      <th>3</th>\n",
       "      <td>1</td>\n",
       "      <td>4</td>\n",
       "      <td>1</td>\n",
       "      <td>2.0</td>\n",
       "      <td>5</td>\n",
       "      <td>1</td>\n",
       "      <td>5</td>\n",
       "      <td>2</td>\n",
       "      <td>1</td>\n",
       "      <td>2</td>\n",
       "      <td>...</td>\n",
       "      <td>3.0</td>\n",
       "      <td>2.0</td>\n",
       "      <td>1.0</td>\n",
       "      <td>0.0</td>\n",
       "      <td>1.0</td>\n",
       "      <td>3.0</td>\n",
       "      <td>4.0</td>\n",
       "      <td>1.0</td>\n",
       "      <td>3.0</td>\n",
       "      <td>1.0</td>\n",
       "    </tr>\n",
       "    <tr>\n",
       "      <th>4</th>\n",
       "      <td>-1</td>\n",
       "      <td>3</td>\n",
       "      <td>1</td>\n",
       "      <td>6.0</td>\n",
       "      <td>3</td>\n",
       "      <td>1</td>\n",
       "      <td>4</td>\n",
       "      <td>4</td>\n",
       "      <td>5</td>\n",
       "      <td>2</td>\n",
       "      <td>...</td>\n",
       "      <td>2.0</td>\n",
       "      <td>4.0</td>\n",
       "      <td>2.0</td>\n",
       "      <td>1.0</td>\n",
       "      <td>2.0</td>\n",
       "      <td>3.0</td>\n",
       "      <td>3.0</td>\n",
       "      <td>3.0</td>\n",
       "      <td>5.0</td>\n",
       "      <td>1.0</td>\n",
       "    </tr>\n",
       "  </tbody>\n",
       "</table>\n",
       "<p>5 rows × 85 columns</p>\n",
       "</div>"
      ],
      "text/plain": [
       "   AGER_TYP  ALTERSKATEGORIE_GROB  ANREDE_KZ  CJT_GESAMTTYP  \\\n",
       "0         2                     4          1            5.0   \n",
       "1        -1                     4          1            NaN   \n",
       "2        -1                     4          2            2.0   \n",
       "3         1                     4          1            2.0   \n",
       "4        -1                     3          1            6.0   \n",
       "\n",
       "   FINANZ_MINIMALIST  FINANZ_SPARER  FINANZ_VORSORGER  FINANZ_ANLEGER  \\\n",
       "0                  5              1                 5               1   \n",
       "1                  5              1                 5               1   \n",
       "2                  5              1                 5               1   \n",
       "3                  5              1                 5               2   \n",
       "4                  3              1                 4               4   \n",
       "\n",
       "   FINANZ_UNAUFFAELLIGER  FINANZ_HAUSBAUER    ...     PLZ8_ANTG1  PLZ8_ANTG2  \\\n",
       "0                      2                 2    ...            3.0         3.0   \n",
       "1                      3                 2    ...            NaN         NaN   \n",
       "2                      4                 4    ...            2.0         3.0   \n",
       "3                      1                 2    ...            3.0         2.0   \n",
       "4                      5                 2    ...            2.0         4.0   \n",
       "\n",
       "   PLZ8_ANTG3  PLZ8_ANTG4  PLZ8_BAUMAX  PLZ8_HHZ  PLZ8_GBZ  ARBEIT  \\\n",
       "0         1.0         0.0          1.0       5.0       5.0     1.0   \n",
       "1         NaN         NaN          NaN       NaN       NaN     NaN   \n",
       "2         3.0         1.0          3.0       3.0       2.0     3.0   \n",
       "3         1.0         0.0          1.0       3.0       4.0     1.0   \n",
       "4         2.0         1.0          2.0       3.0       3.0     3.0   \n",
       "\n",
       "   ORTSGR_KLS9  RELAT_AB  \n",
       "0          2.0       1.0  \n",
       "1          NaN       NaN  \n",
       "2          5.0       3.0  \n",
       "3          3.0       1.0  \n",
       "4          5.0       1.0  \n",
       "\n",
       "[5 rows x 85 columns]"
      ]
     },
     "execution_count": 234,
     "metadata": {},
     "output_type": "execute_result"
    }
   ],
   "source": [
    "customers.head()"
   ]
  },
  {
   "cell_type": "code",
   "execution_count": 235,
   "metadata": {},
   "outputs": [
    {
     "name": "stderr",
     "output_type": "stream",
     "text": [
      "/Users/lalago31/anaconda3/lib/python3.6/site-packages/ipykernel_launcher.py:17: SettingWithCopyWarning: \n",
      "A value is trying to be set on a copy of a slice from a DataFrame\n",
      "\n",
      "See the caveats in the documentation: http://pandas.pydata.org/pandas-docs/stable/indexing.html#indexing-view-versus-copy\n",
      "/Users/lalago31/anaconda3/lib/python3.6/site-packages/ipykernel_launcher.py:32: SettingWithCopyWarning: \n",
      "A value is trying to be set on a copy of a slice from a DataFrame.\n",
      "Try using .loc[row_indexer,col_indexer] = value instead\n",
      "\n",
      "See the caveats in the documentation: http://pandas.pydata.org/pandas-docs/stable/indexing.html#indexing-view-versus-copy\n"
     ]
    }
   ],
   "source": [
    "# Apply preprocessing, feature transformation, and clustering from the general\n",
    "# demographics onto the customer data, obtaining cluster predictions for the\n",
    "# customer demographics data.\n",
    "\n",
    "customers_final = clean_data(customers)"
   ]
  },
  {
   "cell_type": "code",
   "execution_count": 236,
   "metadata": {},
   "outputs": [
    {
     "data": {
      "text/plain": [
       "Index(['ALTERSKATEGORIE_GROB', 'ANREDE_KZ', 'FINANZ_MINIMALIST',\n",
       "       'FINANZ_SPARER', 'FINANZ_VORSORGER', 'FINANZ_ANLEGER',\n",
       "       'FINANZ_UNAUFFAELLIGER', 'FINANZ_HAUSBAUER', 'GREEN_AVANTGARDE',\n",
       "       'HEALTH_TYP',\n",
       "       ...\n",
       "       'CAMEO_DEUG_2015_4', 'CAMEO_DEUG_2015_5', 'CAMEO_DEUG_2015_6',\n",
       "       'CAMEO_DEUG_2015_7', 'CAMEO_DEUG_2015_8', 'CAMEO_DEUG_2015_9',\n",
       "       'GENERATION', 'MOVEMENT', 'WEALTH', 'LIFE_STAGE'],\n",
       "      dtype='object', length=115)"
      ]
     },
     "execution_count": 236,
     "metadata": {},
     "output_type": "execute_result"
    }
   ],
   "source": [
    "customers_final.columns"
   ]
  },
  {
   "cell_type": "code",
   "execution_count": 237,
   "metadata": {},
   "outputs": [
    {
     "data": {
      "text/html": [
       "<div>\n",
       "<style scoped>\n",
       "    .dataframe tbody tr th:only-of-type {\n",
       "        vertical-align: middle;\n",
       "    }\n",
       "\n",
       "    .dataframe tbody tr th {\n",
       "        vertical-align: top;\n",
       "    }\n",
       "\n",
       "    .dataframe thead th {\n",
       "        text-align: right;\n",
       "    }\n",
       "</style>\n",
       "<table border=\"1\" class=\"dataframe\">\n",
       "  <thead>\n",
       "    <tr style=\"text-align: right;\">\n",
       "      <th></th>\n",
       "      <th>GEBAEUDETYP_5.0</th>\n",
       "    </tr>\n",
       "  </thead>\n",
       "  <tbody>\n",
       "    <tr>\n",
       "      <th>1</th>\n",
       "      <td>0</td>\n",
       "    </tr>\n",
       "    <tr>\n",
       "      <th>2</th>\n",
       "      <td>0</td>\n",
       "    </tr>\n",
       "    <tr>\n",
       "      <th>3</th>\n",
       "      <td>0</td>\n",
       "    </tr>\n",
       "    <tr>\n",
       "      <th>4</th>\n",
       "      <td>0</td>\n",
       "    </tr>\n",
       "    <tr>\n",
       "      <th>5</th>\n",
       "      <td>0</td>\n",
       "    </tr>\n",
       "  </tbody>\n",
       "</table>\n",
       "</div>"
      ],
      "text/plain": [
       "   GEBAEUDETYP_5.0\n",
       "1                0\n",
       "2                0\n",
       "3                0\n",
       "4                0\n",
       "5                0"
      ]
     },
     "execution_count": 237,
     "metadata": {},
     "output_type": "execute_result"
    }
   ],
   "source": [
    "azdias_fewNA_final.loc[:,~azdias_fewNA_final.columns.isin(customers_final.columns)].head()"
   ]
  },
  {
   "cell_type": "code",
   "execution_count": 238,
   "metadata": {},
   "outputs": [
    {
     "name": "stdout",
     "output_type": "stream",
     "text": [
      "1.0    95145\n",
      "3.0    23655\n",
      "8.0    20475\n",
      "2.0     2057\n",
      "4.0      251\n",
      "6.0      142\n",
      "Name: GEBAEUDETYP, dtype: int64\n",
      "1.0    460465\n",
      "3.0    178668\n",
      "8.0    152476\n",
      "2.0      4935\n",
      "4.0       900\n",
      "6.0       628\n",
      "5.0         1\n",
      "Name: GEBAEUDETYP, dtype: int64\n"
     ]
    }
   ],
   "source": [
    "print(customers.GEBAEUDETYP.value_counts())\n",
    "print(azdias.GEBAEUDETYP.value_counts())"
   ]
  },
  {
   "cell_type": "markdown",
   "metadata": {},
   "source": [
    "* The general population has one more level of GEBAEUDETYP field than the customer data. Thus the imputer and standardscaler function cannot be directly applied on customer dataframe because of the difference in number of columns. I will have to add that GEBAEUDETYP_5.0 column to the customer dataset to make the number of columns equal, and since its value is mostly 0 in the general population dataset, I will assign value 0 to the added column in customer dataset."
   ]
  },
  {
   "cell_type": "code",
   "execution_count": 239,
   "metadata": {},
   "outputs": [
    {
     "data": {
      "text/plain": [
       "(array([0, 1], dtype=uint8), array([798066,      1]))"
      ]
     },
     "execution_count": 239,
     "metadata": {},
     "output_type": "execute_result"
    }
   ],
   "source": [
    "np.unique(azdias_fewNA_final.loc[:,~azdias_fewNA_final.columns.isin(customers_final.columns)].values, return_counts= True)"
   ]
  },
  {
   "cell_type": "code",
   "execution_count": 240,
   "metadata": {},
   "outputs": [],
   "source": [
    "customers_final['GEBAEUDETYP_5.0'] = 0\n",
    "customers_clean = imp.transform(customers_final)  "
   ]
  },
  {
   "cell_type": "code",
   "execution_count": 260,
   "metadata": {},
   "outputs": [],
   "source": [
    "#customers_clean = customers_final.fillna(customers_final.median())"
   ]
  },
  {
   "cell_type": "code",
   "execution_count": 244,
   "metadata": {},
   "outputs": [],
   "source": [
    "customer_final_std = std.transform(customers_clean)\n",
    "# Re-apply PCA to the data while selecting for number of components to retain.\n",
    "customer_pca = pca1.transform(customer_final_std)\n",
    "\n",
    "# predict customer cluster with fitted pca \n",
    "customer_cluster = kmeans_final.predict(customer_pca)"
   ]
  },
  {
   "cell_type": "markdown",
   "metadata": {},
   "source": [
    "### Step 3.3: Compare Customer Data to Demographics Data\n",
    "\n",
    "At this point, you have clustered data based on demographics of the general population of Germany, and seen how the customer data for a mail-order sales company maps onto those demographic clusters. In this final substep, you will compare the two cluster distributions to see where the strongest customer base for the company is.\n",
    "\n",
    "Consider the proportion of persons in each cluster for the general population, and the proportions for the customers. If we think the company's customer base to be universal, then the cluster assignment proportions should be fairly similar between the two. If there are only particular segments of the population that are interested in the company's products, then we should see a mismatch from one to the other. If there is a higher proportion of persons in a cluster for the customer data compared to the general population (e.g. 5% of persons are assigned to a cluster for the general population, but 15% of the customer data is closest to that cluster's centroid) then that suggests the people in that cluster to be a target audience for the company. On the other hand, the proportion of the data in a cluster being larger in the general population than the customer data (e.g. only 2% of customers closest to a population centroid that captures 6% of the data) suggests that group of persons to be outside of the target demographics.\n",
    "\n",
    "Take a look at the following points in this step:\n",
    "\n",
    "- Compute the proportion of data points in each cluster for the general population and the customer data. Visualizations will be useful here: both for the individual dataset proportions, but also to visualize the ratios in cluster representation between groups. Seaborn's [`countplot()`](https://seaborn.pydata.org/generated/seaborn.countplot.html) or [`barplot()`](https://seaborn.pydata.org/generated/seaborn.barplot.html) function could be handy.\n",
    "  - Recall the analysis you performed in step 1.1.3 of the project, where you separated out certain data points from the dataset if they had more than a specified threshold of missing values. If you found that this group was qualitatively different from the main bulk of the data, you should treat this as an additional data cluster in this analysis. Make sure that you account for the number of data points in this subset, for both the general population and customer datasets, when making your computations!\n",
    "- Which cluster or clusters are overrepresented in the customer dataset compared to the general population? Select at least one such cluster and infer what kind of people might be represented by that cluster. Use the principal component interpretations from step 2.3 or look at additional components to help you make this inference. Alternatively, you can use the `.inverse_transform()` method of the PCA and StandardScaler objects to transform centroids back to the original data space and interpret the retrieved values directly.\n",
    "- Perform a similar investigation for the underrepresented clusters. Which cluster or clusters are underrepresented in the customer dataset compared to the general population, and what kinds of people are typified by these clusters?"
   ]
  },
  {
   "cell_type": "code",
   "execution_count": 245,
   "metadata": {},
   "outputs": [
    {
     "name": "stdout",
     "output_type": "stream",
     "text": [
      "141725\n",
      "798067\n"
     ]
    }
   ],
   "source": [
    "print(len(customer_cluster))\n",
    "print(len(general_population_cluster))"
   ]
  },
  {
   "cell_type": "code",
   "execution_count": 246,
   "metadata": {},
   "outputs": [
    {
     "data": {
      "text/plain": [
       "outliers    49927\n",
       "dtype: int64"
      ]
     },
     "execution_count": 246,
     "metadata": {},
     "output_type": "execute_result"
    }
   ],
   "source": [
    "# put the filtered outlier data points from customer dataset into a separate cluster\n",
    "outlier_filtered_customer  = pd.Series(customers.shape[0] - customers_final.shape[0])\n",
    "outlier_filtered_customer.rename({0:'outliers'},axis='index', inplace=True)\n",
    "outlier_filtered_customer"
   ]
  },
  {
   "cell_type": "code",
   "execution_count": 247,
   "metadata": {},
   "outputs": [
    {
     "data": {
      "text/plain": [
       "4           0.493097\n",
       "3           0.155913\n",
       "1           0.029183\n",
       "2           0.027143\n",
       "5           0.019400\n",
       "0           0.014756\n",
       "outliers    0.260509\n",
       "dtype: float64"
      ]
     },
     "execution_count": 247,
     "metadata": {},
     "output_type": "execute_result"
    }
   ],
   "source": [
    "pd.concat([pd.Series(customer_cluster).value_counts(),outlier_filtered_customer])/len(customers)\n",
    "# filtered outliers account for 26% of the customer data"
   ]
  },
  {
   "cell_type": "code",
   "execution_count": 248,
   "metadata": {},
   "outputs": [
    {
     "data": {
      "text/plain": [
       "outliers    93154\n",
       "dtype: int64"
      ]
     },
     "execution_count": 248,
     "metadata": {},
     "output_type": "execute_result"
    }
   ],
   "source": [
    "outlier_filtered_population  = pd.Series(azdias_lotsNA.shape[0])\n",
    "outlier_filtered_population.rename({0:'outliers'},axis='index', inplace=True)\n",
    "outlier_filtered_population"
   ]
  },
  {
   "cell_type": "code",
   "execution_count": 249,
   "metadata": {},
   "outputs": [
    {
     "data": {
      "text/plain": [
       "3           0.224174\n",
       "5           0.180857\n",
       "1           0.171086\n",
       "0           0.151649\n",
       "4           0.121913\n",
       "2           0.045797\n",
       "outliers    0.104524\n",
       "dtype: float64"
      ]
     },
     "execution_count": 249,
     "metadata": {},
     "output_type": "execute_result"
    }
   ],
   "source": [
    "pd.concat([pd.Series(general_population_cluster).value_counts(),outlier_filtered_population])/len(azdias)\n",
    "# filtered outliers(rows with lots of NA) account for 10% of the general population data"
   ]
  },
  {
   "cell_type": "code",
   "execution_count": 252,
   "metadata": {},
   "outputs": [
    {
     "data": {
      "text/plain": [
       "0           0.151649\n",
       "1           0.171086\n",
       "2           0.045797\n",
       "3           0.224174\n",
       "4           0.121913\n",
       "5           0.180857\n",
       "outliers    0.104524\n",
       "dtype: float64"
      ]
     },
     "execution_count": 252,
     "metadata": {},
     "output_type": "execute_result"
    }
   ],
   "source": [
    "pd.concat([(pd.Series(general_population_cluster).value_counts()/len(azdias)).sort_index(), outlier_filtered_population/len(azdias)],axis=0)"
   ]
  },
  {
   "cell_type": "code",
   "execution_count": 250,
   "metadata": {},
   "outputs": [],
   "source": [
    "# Compare the proportion of data in each cluster for the customer data to the\n",
    "# proportion of data in each cluster for the general population."
   ]
  },
  {
   "cell_type": "code",
   "execution_count": 267,
   "metadata": {},
   "outputs": [
    {
     "data": {
      "text/plain": [
       "Text(0,0.5,'proportion')"
      ]
     },
     "execution_count": 267,
     "metadata": {},
     "output_type": "execute_result"
    },
    {
     "data": {
      "image/png": "[encoded data removed]",
      "text/plain": [
       "<Figure size 1440x720 with 2 Axes>"
      ]
     },
     "metadata": {},
     "output_type": "display_data"
    }
   ],
   "source": [
    "#fig = plt.figure(figsize=(20,10))\n",
    "f, (ax1, ax2) = plt.subplots(1, 2, figsize=(20,10),sharey=True)\n",
    "#ax1 = fig.add_subplot(121)\n",
    "\n",
    "#pd.Series(general_population_cluster).value_counts()/len(general_population_cluster)\n",
    "general_population_cluster_proportion = pd.concat([(pd.Series(general_population_cluster).value_counts()/len(azdias)).sort_index(), outlier_filtered_population/len(azdias)],axis=0)\n",
    "general_population_cluster_proportion.plot(kind='bar',rot=0, ax=ax1)\n",
    "ax1.set_title('proportion of clusters for general population data')\n",
    "ax1.set_xlabel('cluster label')\n",
    "ax1.set_ylabel('proportion')\n",
    "\n",
    "\n",
    "#ax2 = fig.add_subplot(122)\n",
    "\n",
    "customer_cluster_proportion= pd.concat([(pd.Series(customer_cluster).value_counts()/len(customers)).sort_index(), outlier_filtered_customer/len(customers)],axis=0)\n",
    "customer_cluster_proportion.plot(kind='bar',rot=0, ax=ax2)\n",
    "ax2.set_title('proportion of clusters for customer data')\n",
    "ax2.set_xlabel('cluster label')\n",
    "ax2.set_ylabel('proportion')"
   ]
  },
  {
   "cell_type": "code",
   "execution_count": 255,
   "metadata": {},
   "outputs": [
    {
     "data": {
      "text/html": [
       "<div>\n",
       "<style scoped>\n",
       "    .dataframe tbody tr th:only-of-type {\n",
       "        vertical-align: middle;\n",
       "    }\n",
       "\n",
       "    .dataframe tbody tr th {\n",
       "        vertical-align: top;\n",
       "    }\n",
       "\n",
       "    .dataframe thead th {\n",
       "        text-align: right;\n",
       "    }\n",
       "</style>\n",
       "<table border=\"1\" class=\"dataframe\">\n",
       "  <thead>\n",
       "    <tr style=\"text-align: right;\">\n",
       "      <th></th>\n",
       "      <th>customer</th>\n",
       "      <th>population</th>\n",
       "      <th>difference</th>\n",
       "    </tr>\n",
       "  </thead>\n",
       "  <tbody>\n",
       "    <tr>\n",
       "      <th>4</th>\n",
       "      <td>0.493097</td>\n",
       "      <td>0.121913</td>\n",
       "      <td>0.371184</td>\n",
       "    </tr>\n",
       "    <tr>\n",
       "      <th>outliers</th>\n",
       "      <td>0.260509</td>\n",
       "      <td>0.104524</td>\n",
       "      <td>0.155985</td>\n",
       "    </tr>\n",
       "    <tr>\n",
       "      <th>2</th>\n",
       "      <td>0.027143</td>\n",
       "      <td>0.045797</td>\n",
       "      <td>-0.018654</td>\n",
       "    </tr>\n",
       "    <tr>\n",
       "      <th>3</th>\n",
       "      <td>0.155913</td>\n",
       "      <td>0.224174</td>\n",
       "      <td>-0.068262</td>\n",
       "    </tr>\n",
       "    <tr>\n",
       "      <th>0</th>\n",
       "      <td>0.014756</td>\n",
       "      <td>0.151649</td>\n",
       "      <td>-0.136893</td>\n",
       "    </tr>\n",
       "    <tr>\n",
       "      <th>1</th>\n",
       "      <td>0.029183</td>\n",
       "      <td>0.171086</td>\n",
       "      <td>-0.141902</td>\n",
       "    </tr>\n",
       "    <tr>\n",
       "      <th>5</th>\n",
       "      <td>0.019400</td>\n",
       "      <td>0.180857</td>\n",
       "      <td>-0.161458</td>\n",
       "    </tr>\n",
       "  </tbody>\n",
       "</table>\n",
       "</div>"
      ],
      "text/plain": [
       "          customer  population  difference\n",
       "4         0.493097    0.121913    0.371184\n",
       "outliers  0.260509    0.104524    0.155985\n",
       "2         0.027143    0.045797   -0.018654\n",
       "3         0.155913    0.224174   -0.068262\n",
       "0         0.014756    0.151649   -0.136893\n",
       "1         0.029183    0.171086   -0.141902\n",
       "5         0.019400    0.180857   -0.161458"
      ]
     },
     "execution_count": 255,
     "metadata": {},
     "output_type": "execute_result"
    }
   ],
   "source": [
    "combined_proportion = pd.concat([customer_cluster_proportion,general_population_cluster_proportion],axis=1).rename({0:'customer',1:'population'},axis=1)\n",
    "combined_proportion['difference'] = combined_proportion['customer']-combined_proportion['population']\n",
    "combined_proportion.sort_values(by='difference',ascending = False)"
   ]
  },
  {
   "cell_type": "markdown",
   "metadata": {},
   "source": [
    "cluster 4 has 37% more data points in the customer dataset than the general population! This is apparently the most overrepresented cluster in the customer dataset and is the potential customer group we want to reach out for the campaign. On the other hand, cluster 5 is the most underrepresented ones in customer data, accounting for around 16% less data points than that of the general population. "
   ]
  },
  {
   "cell_type": "code",
   "execution_count": 256,
   "metadata": {},
   "outputs": [],
   "source": [
    "# What kinds of people are part of a cluster that is overrepresented in the\n",
    "# customer data compared to the general population?\n",
    "customers_final['cluster_label'] = customer_cluster"
   ]
  },
  {
   "cell_type": "code",
   "execution_count": 258,
   "metadata": {},
   "outputs": [
    {
     "data": {
      "text/html": [
       "<div>\n",
       "<style scoped>\n",
       "    .dataframe tbody tr th:only-of-type {\n",
       "        vertical-align: middle;\n",
       "    }\n",
       "\n",
       "    .dataframe tbody tr th {\n",
       "        vertical-align: top;\n",
       "    }\n",
       "\n",
       "    .dataframe thead th {\n",
       "        text-align: right;\n",
       "    }\n",
       "</style>\n",
       "<table border=\"1\" class=\"dataframe\">\n",
       "  <thead>\n",
       "    <tr style=\"text-align: right;\">\n",
       "      <th></th>\n",
       "      <th>PCA0</th>\n",
       "      <th>PCA1</th>\n",
       "      <th>PCA2</th>\n",
       "      <th>PCA3</th>\n",
       "      <th>PCA4</th>\n",
       "      <th>PCA5</th>\n",
       "      <th>PCA6</th>\n",
       "      <th>PCA7</th>\n",
       "      <th>PCA8</th>\n",
       "      <th>PCA9</th>\n",
       "      <th>...</th>\n",
       "      <th>PCA49</th>\n",
       "      <th>PCA50</th>\n",
       "      <th>PCA51</th>\n",
       "      <th>PCA52</th>\n",
       "      <th>PCA53</th>\n",
       "      <th>PCA54</th>\n",
       "      <th>PCA55</th>\n",
       "      <th>PCA56</th>\n",
       "      <th>PCA57</th>\n",
       "      <th>cluster_label</th>\n",
       "    </tr>\n",
       "  </thead>\n",
       "  <tbody>\n",
       "    <tr>\n",
       "      <th>0</th>\n",
       "      <td>-4.621578</td>\n",
       "      <td>1.779463</td>\n",
       "      <td>4.428417</td>\n",
       "      <td>-1.709915</td>\n",
       "      <td>4.299897</td>\n",
       "      <td>-2.198628</td>\n",
       "      <td>0.496268</td>\n",
       "      <td>2.029469</td>\n",
       "      <td>-2.027791</td>\n",
       "      <td>-0.798784</td>\n",
       "      <td>...</td>\n",
       "      <td>2.059819</td>\n",
       "      <td>0.738409</td>\n",
       "      <td>-0.190847</td>\n",
       "      <td>0.166637</td>\n",
       "      <td>-0.121378</td>\n",
       "      <td>1.273525</td>\n",
       "      <td>-2.701729</td>\n",
       "      <td>-0.527198</td>\n",
       "      <td>1.389075</td>\n",
       "      <td>4</td>\n",
       "    </tr>\n",
       "    <tr>\n",
       "      <th>1</th>\n",
       "      <td>-0.527364</td>\n",
       "      <td>4.938053</td>\n",
       "      <td>-0.558590</td>\n",
       "      <td>-0.524181</td>\n",
       "      <td>3.623090</td>\n",
       "      <td>-0.536344</td>\n",
       "      <td>-1.397913</td>\n",
       "      <td>-1.437893</td>\n",
       "      <td>1.513765</td>\n",
       "      <td>-0.519028</td>\n",
       "      <td>...</td>\n",
       "      <td>0.586658</td>\n",
       "      <td>0.459250</td>\n",
       "      <td>-0.128794</td>\n",
       "      <td>0.165392</td>\n",
       "      <td>-0.541191</td>\n",
       "      <td>0.832820</td>\n",
       "      <td>0.089260</td>\n",
       "      <td>0.938442</td>\n",
       "      <td>0.516159</td>\n",
       "      <td>4</td>\n",
       "    </tr>\n",
       "    <tr>\n",
       "      <th>2</th>\n",
       "      <td>-3.234089</td>\n",
       "      <td>0.027905</td>\n",
       "      <td>3.540816</td>\n",
       "      <td>-0.929665</td>\n",
       "      <td>-0.467640</td>\n",
       "      <td>0.447123</td>\n",
       "      <td>1.516450</td>\n",
       "      <td>-0.870095</td>\n",
       "      <td>0.083965</td>\n",
       "      <td>1.109445</td>\n",
       "      <td>...</td>\n",
       "      <td>0.612499</td>\n",
       "      <td>2.304859</td>\n",
       "      <td>-0.502199</td>\n",
       "      <td>2.149347</td>\n",
       "      <td>-0.212341</td>\n",
       "      <td>1.404941</td>\n",
       "      <td>-0.520098</td>\n",
       "      <td>0.653745</td>\n",
       "      <td>0.420452</td>\n",
       "      <td>4</td>\n",
       "    </tr>\n",
       "    <tr>\n",
       "      <th>3</th>\n",
       "      <td>2.118319</td>\n",
       "      <td>-0.950358</td>\n",
       "      <td>2.003619</td>\n",
       "      <td>-0.663527</td>\n",
       "      <td>1.653702</td>\n",
       "      <td>2.274239</td>\n",
       "      <td>0.766587</td>\n",
       "      <td>1.901534</td>\n",
       "      <td>0.732538</td>\n",
       "      <td>0.412208</td>\n",
       "      <td>...</td>\n",
       "      <td>0.131004</td>\n",
       "      <td>0.394270</td>\n",
       "      <td>-0.362444</td>\n",
       "      <td>2.034157</td>\n",
       "      <td>-0.184352</td>\n",
       "      <td>-0.197374</td>\n",
       "      <td>0.609696</td>\n",
       "      <td>1.495186</td>\n",
       "      <td>1.354793</td>\n",
       "      <td>5</td>\n",
       "    </tr>\n",
       "    <tr>\n",
       "      <th>4</th>\n",
       "      <td>-1.443754</td>\n",
       "      <td>0.869050</td>\n",
       "      <td>3.518346</td>\n",
       "      <td>-0.850880</td>\n",
       "      <td>4.672055</td>\n",
       "      <td>-0.254301</td>\n",
       "      <td>-0.484398</td>\n",
       "      <td>1.268261</td>\n",
       "      <td>2.655716</td>\n",
       "      <td>0.452415</td>\n",
       "      <td>...</td>\n",
       "      <td>-1.420452</td>\n",
       "      <td>2.379664</td>\n",
       "      <td>-0.312572</td>\n",
       "      <td>0.512752</td>\n",
       "      <td>-0.275089</td>\n",
       "      <td>-0.438865</td>\n",
       "      <td>-0.961808</td>\n",
       "      <td>-0.258578</td>\n",
       "      <td>-1.473301</td>\n",
       "      <td>4</td>\n",
       "    </tr>\n",
       "  </tbody>\n",
       "</table>\n",
       "<p>5 rows × 59 columns</p>\n",
       "</div>"
      ],
      "text/plain": [
       "       PCA0      PCA1      PCA2      PCA3      PCA4      PCA5      PCA6  \\\n",
       "0 -4.621578  1.779463  4.428417 -1.709915  4.299897 -2.198628  0.496268   \n",
       "1 -0.527364  4.938053 -0.558590 -0.524181  3.623090 -0.536344 -1.397913   \n",
       "2 -3.234089  0.027905  3.540816 -0.929665 -0.467640  0.447123  1.516450   \n",
       "3  2.118319 -0.950358  2.003619 -0.663527  1.653702  2.274239  0.766587   \n",
       "4 -1.443754  0.869050  3.518346 -0.850880  4.672055 -0.254301 -0.484398   \n",
       "\n",
       "       PCA7      PCA8      PCA9      ...           PCA49     PCA50     PCA51  \\\n",
       "0  2.029469 -2.027791 -0.798784      ...        2.059819  0.738409 -0.190847   \n",
       "1 -1.437893  1.513765 -0.519028      ...        0.586658  0.459250 -0.128794   \n",
       "2 -0.870095  0.083965  1.109445      ...        0.612499  2.304859 -0.502199   \n",
       "3  1.901534  0.732538  0.412208      ...        0.131004  0.394270 -0.362444   \n",
       "4  1.268261  2.655716  0.452415      ...       -1.420452  2.379664 -0.312572   \n",
       "\n",
       "      PCA52     PCA53     PCA54     PCA55     PCA56     PCA57  cluster_label  \n",
       "0  0.166637 -0.121378  1.273525 -2.701729 -0.527198  1.389075              4  \n",
       "1  0.165392 -0.541191  0.832820  0.089260  0.938442  0.516159              4  \n",
       "2  2.149347 -0.212341  1.404941 -0.520098  0.653745  0.420452              4  \n",
       "3  2.034157 -0.184352 -0.197374  0.609696  1.495186  1.354793              5  \n",
       "4  0.512752 -0.275089 -0.438865 -0.961808 -0.258578 -1.473301              4  \n",
       "\n",
       "[5 rows x 59 columns]"
      ]
     },
     "execution_count": 258,
     "metadata": {},
     "output_type": "execute_result"
    }
   ],
   "source": [
    "customer_pca_df = pd.DataFrame(customer_pca, columns = ['PCA'+str(i) for i in range(58)])\n",
    "customer_pca_df['cluster_label'] = customer_cluster\n",
    "customer_pca_df.head()"
   ]
  },
  {
   "cell_type": "code",
   "execution_count": 259,
   "metadata": {},
   "outputs": [
    {
     "data": {
      "text/html": [
       "<div>\n",
       "<style scoped>\n",
       "    .dataframe tbody tr th:only-of-type {\n",
       "        vertical-align: middle;\n",
       "    }\n",
       "\n",
       "    .dataframe tbody tr th {\n",
       "        vertical-align: top;\n",
       "    }\n",
       "\n",
       "    .dataframe thead th {\n",
       "        text-align: right;\n",
       "    }\n",
       "</style>\n",
       "<table border=\"1\" class=\"dataframe\">\n",
       "  <thead>\n",
       "    <tr style=\"text-align: right;\">\n",
       "      <th></th>\n",
       "      <th>PCA0</th>\n",
       "      <th>PCA1</th>\n",
       "      <th>PCA2</th>\n",
       "      <th>PCA3</th>\n",
       "      <th>PCA4</th>\n",
       "      <th>PCA5</th>\n",
       "      <th>PCA6</th>\n",
       "      <th>PCA7</th>\n",
       "      <th>PCA8</th>\n",
       "      <th>PCA9</th>\n",
       "      <th>...</th>\n",
       "      <th>PCA49</th>\n",
       "      <th>PCA50</th>\n",
       "      <th>PCA51</th>\n",
       "      <th>PCA52</th>\n",
       "      <th>PCA53</th>\n",
       "      <th>PCA54</th>\n",
       "      <th>PCA55</th>\n",
       "      <th>PCA56</th>\n",
       "      <th>PCA57</th>\n",
       "      <th>cluster_label</th>\n",
       "    </tr>\n",
       "  </thead>\n",
       "  <tbody>\n",
       "    <tr>\n",
       "      <th>0</th>\n",
       "      <td>-4.621578</td>\n",
       "      <td>1.779463</td>\n",
       "      <td>4.428417</td>\n",
       "      <td>-1.709915</td>\n",
       "      <td>4.299897</td>\n",
       "      <td>-2.198628</td>\n",
       "      <td>0.496268</td>\n",
       "      <td>2.029469</td>\n",
       "      <td>-2.027791</td>\n",
       "      <td>-0.798784</td>\n",
       "      <td>...</td>\n",
       "      <td>2.059819</td>\n",
       "      <td>0.738409</td>\n",
       "      <td>-0.190847</td>\n",
       "      <td>0.166637</td>\n",
       "      <td>-0.121378</td>\n",
       "      <td>1.273525</td>\n",
       "      <td>-2.701729</td>\n",
       "      <td>-0.527198</td>\n",
       "      <td>1.389075</td>\n",
       "      <td>4</td>\n",
       "    </tr>\n",
       "    <tr>\n",
       "      <th>1</th>\n",
       "      <td>-0.527364</td>\n",
       "      <td>4.938053</td>\n",
       "      <td>-0.558590</td>\n",
       "      <td>-0.524181</td>\n",
       "      <td>3.623090</td>\n",
       "      <td>-0.536344</td>\n",
       "      <td>-1.397913</td>\n",
       "      <td>-1.437893</td>\n",
       "      <td>1.513765</td>\n",
       "      <td>-0.519028</td>\n",
       "      <td>...</td>\n",
       "      <td>0.586658</td>\n",
       "      <td>0.459250</td>\n",
       "      <td>-0.128794</td>\n",
       "      <td>0.165392</td>\n",
       "      <td>-0.541191</td>\n",
       "      <td>0.832820</td>\n",
       "      <td>0.089260</td>\n",
       "      <td>0.938442</td>\n",
       "      <td>0.516159</td>\n",
       "      <td>4</td>\n",
       "    </tr>\n",
       "    <tr>\n",
       "      <th>2</th>\n",
       "      <td>-3.234089</td>\n",
       "      <td>0.027905</td>\n",
       "      <td>3.540816</td>\n",
       "      <td>-0.929665</td>\n",
       "      <td>-0.467640</td>\n",
       "      <td>0.447123</td>\n",
       "      <td>1.516450</td>\n",
       "      <td>-0.870095</td>\n",
       "      <td>0.083965</td>\n",
       "      <td>1.109445</td>\n",
       "      <td>...</td>\n",
       "      <td>0.612499</td>\n",
       "      <td>2.304859</td>\n",
       "      <td>-0.502199</td>\n",
       "      <td>2.149347</td>\n",
       "      <td>-0.212341</td>\n",
       "      <td>1.404941</td>\n",
       "      <td>-0.520098</td>\n",
       "      <td>0.653745</td>\n",
       "      <td>0.420452</td>\n",
       "      <td>4</td>\n",
       "    </tr>\n",
       "    <tr>\n",
       "      <th>4</th>\n",
       "      <td>-1.443754</td>\n",
       "      <td>0.869050</td>\n",
       "      <td>3.518346</td>\n",
       "      <td>-0.850880</td>\n",
       "      <td>4.672055</td>\n",
       "      <td>-0.254301</td>\n",
       "      <td>-0.484398</td>\n",
       "      <td>1.268261</td>\n",
       "      <td>2.655716</td>\n",
       "      <td>0.452415</td>\n",
       "      <td>...</td>\n",
       "      <td>-1.420452</td>\n",
       "      <td>2.379664</td>\n",
       "      <td>-0.312572</td>\n",
       "      <td>0.512752</td>\n",
       "      <td>-0.275089</td>\n",
       "      <td>-0.438865</td>\n",
       "      <td>-0.961808</td>\n",
       "      <td>-0.258578</td>\n",
       "      <td>-1.473301</td>\n",
       "      <td>4</td>\n",
       "    </tr>\n",
       "    <tr>\n",
       "      <th>5</th>\n",
       "      <td>-5.093982</td>\n",
       "      <td>0.755222</td>\n",
       "      <td>3.797926</td>\n",
       "      <td>-2.224882</td>\n",
       "      <td>3.385692</td>\n",
       "      <td>-1.237585</td>\n",
       "      <td>-0.064906</td>\n",
       "      <td>1.265855</td>\n",
       "      <td>-0.768131</td>\n",
       "      <td>0.046235</td>\n",
       "      <td>...</td>\n",
       "      <td>1.475860</td>\n",
       "      <td>1.175895</td>\n",
       "      <td>-0.391075</td>\n",
       "      <td>1.433274</td>\n",
       "      <td>-0.063870</td>\n",
       "      <td>0.327408</td>\n",
       "      <td>-0.575906</td>\n",
       "      <td>0.990544</td>\n",
       "      <td>1.143245</td>\n",
       "      <td>4</td>\n",
       "    </tr>\n",
       "  </tbody>\n",
       "</table>\n",
       "<p>5 rows × 59 columns</p>\n",
       "</div>"
      ],
      "text/plain": [
       "       PCA0      PCA1      PCA2      PCA3      PCA4      PCA5      PCA6  \\\n",
       "0 -4.621578  1.779463  4.428417 -1.709915  4.299897 -2.198628  0.496268   \n",
       "1 -0.527364  4.938053 -0.558590 -0.524181  3.623090 -0.536344 -1.397913   \n",
       "2 -3.234089  0.027905  3.540816 -0.929665 -0.467640  0.447123  1.516450   \n",
       "4 -1.443754  0.869050  3.518346 -0.850880  4.672055 -0.254301 -0.484398   \n",
       "5 -5.093982  0.755222  3.797926 -2.224882  3.385692 -1.237585 -0.064906   \n",
       "\n",
       "       PCA7      PCA8      PCA9      ...           PCA49     PCA50     PCA51  \\\n",
       "0  2.029469 -2.027791 -0.798784      ...        2.059819  0.738409 -0.190847   \n",
       "1 -1.437893  1.513765 -0.519028      ...        0.586658  0.459250 -0.128794   \n",
       "2 -0.870095  0.083965  1.109445      ...        0.612499  2.304859 -0.502199   \n",
       "4  1.268261  2.655716  0.452415      ...       -1.420452  2.379664 -0.312572   \n",
       "5  1.265855 -0.768131  0.046235      ...        1.475860  1.175895 -0.391075   \n",
       "\n",
       "      PCA52     PCA53     PCA54     PCA55     PCA56     PCA57  cluster_label  \n",
       "0  0.166637 -0.121378  1.273525 -2.701729 -0.527198  1.389075              4  \n",
       "1  0.165392 -0.541191  0.832820  0.089260  0.938442  0.516159              4  \n",
       "2  2.149347 -0.212341  1.404941 -0.520098  0.653745  0.420452              4  \n",
       "4  0.512752 -0.275089 -0.438865 -0.961808 -0.258578 -1.473301              4  \n",
       "5  1.433274 -0.063870  0.327408 -0.575906  0.990544  1.143245              4  \n",
       "\n",
       "[5 rows x 59 columns]"
      ]
     },
     "execution_count": 259,
     "metadata": {},
     "output_type": "execute_result"
    }
   ],
   "source": [
    "customer_pca_df.loc[customer_pca_df['cluster_label']==4,:].head()"
   ]
  },
  {
   "cell_type": "code",
   "execution_count": 260,
   "metadata": {},
   "outputs": [
    {
     "data": {
      "text/plain": [
       "<matplotlib.axes._subplots.AxesSubplot at 0x1a313cad68>"
      ]
     },
     "execution_count": 260,
     "metadata": {},
     "output_type": "execute_result"
    },
    {
     "data": {
      "image/png": "[encoded data removed]",
      "text/plain": [
       "<Figure size 1080x432 with 1 Axes>"
      ]
     },
     "metadata": {},
     "output_type": "display_data"
    }
   ],
   "source": [
    "# relation between cluster 5 and each pca \n",
    "plt.figure(figsize=(15,6))\n",
    "customer_pca_df.loc[customer_pca_df['cluster_label']==4,:].iloc[:,:-1].mean().plot.bar()"
   ]
  },
  {
   "cell_type": "markdown",
   "metadata": {},
   "source": [
    "* PCA 4,2, 26 are most positively related to cluster 4, while PCA 0, 14 are the most negatively related component"
   ]
  },
  {
   "cell_type": "code",
   "execution_count": 269,
   "metadata": {},
   "outputs": [
    {
     "data": {
      "text/plain": [
       "MOVEMENT                 0.325889\n",
       "GREEN_AVANTGARDE         0.325889\n",
       "LP_STATUS_GROB_5.0       0.252027\n",
       "EWDICHTE                 0.246922\n",
       "ORTSGR_KLS9              0.237036\n",
       "ZABEOTYP_2               0.149837\n",
       "ONLINE_AFFINITAET        0.135106\n",
       "ANZ_PERSONEN             0.127065\n",
       "PLZ8_ANTG3               0.119633\n",
       "CAMEO_DEUG_2015_1        0.112398\n",
       "SEMIO_DOM                0.111471\n",
       "PLZ8_ANTG4               0.111293\n",
       "FINANZTYP_5              0.111010\n",
       "PLZ8_HHZ                 0.100777\n",
       "PLZ8_ANTG2               0.097779\n",
       "SEMIO_KAEM               0.097770\n",
       "RELAT_AB                 0.097718\n",
       "FINANZTYP_3              0.094144\n",
       "ZABEOTYP_1               0.093776\n",
       "LP_FAMILIE_GROB_5.0      0.090672\n",
       "MIN_GEBAEUDEJAHR         0.088793\n",
       "WEALTH                   0.083613\n",
       "CAMEO_DEUG_2015_2        0.076003\n",
       "SHOPPER_TYP_3.0          0.075178\n",
       "LP_STATUS_GROB_3.0       0.072230\n",
       "FINANZ_UNAUFFAELLIGER    0.069324\n",
       "OST_WEST_KZ              0.068346\n",
       "ARBEIT                   0.067194\n",
       "LP_FAMILIE_GROB_4.0      0.066690\n",
       "GEBAEUDETYP_3.0          0.062177\n",
       "                           ...   \n",
       "ZABEOTYP_6              -0.028730\n",
       "GENERATION              -0.029920\n",
       "SEMIO_VERT              -0.030707\n",
       "CJT_GESAMTTYP_1.0       -0.034649\n",
       "SEMIO_REL               -0.035048\n",
       "CAMEO_DEUG_2015_6       -0.039841\n",
       "KBA05_ANTG3             -0.043666\n",
       "LP_STATUS_GROB_1.0      -0.044248\n",
       "CAMEO_DEUG_2015_4       -0.046813\n",
       "SEMIO_FAM               -0.046942\n",
       "LP_STATUS_GROB_2.0      -0.049780\n",
       "GEBAEUDETYP_1.0         -0.049972\n",
       "SHOPPER_TYP_0.0         -0.051113\n",
       "CJT_GESAMTTYP_2.0       -0.054684\n",
       "SEMIO_KULT              -0.062436\n",
       "ZABEOTYP_3              -0.069705\n",
       "FINANZ_HAUSBAUER        -0.076949\n",
       "PLZ8_ANTG1              -0.080315\n",
       "GEBAEUDETYP_RASTER      -0.095426\n",
       "FINANZTYP_6             -0.095902\n",
       "W_KEIT_KIND_HH          -0.100406\n",
       "FINANZ_ANLEGER          -0.105813\n",
       "LP_FAMILIE_GROB_1.0     -0.122777\n",
       "REGIOTYP                -0.138989\n",
       "KONSUMNAEHE             -0.140522\n",
       "LP_STATUS_GROB_4.0      -0.168642\n",
       "KKK                     -0.192641\n",
       "INNENSTADT              -0.206601\n",
       "BALLRAUM                -0.210872\n",
       "HH_EINKOMMEN_SCORE      -0.212223\n",
       "Length: 116, dtype: float64"
      ]
     },
     "execution_count": 269,
     "metadata": {},
     "output_type": "execute_result"
    }
   ],
   "source": [
    "pca_interpretation(pca1,4)"
   ]
  },
  {
   "cell_type": "markdown",
   "metadata": {},
   "source": [
    "The top PC that has a high positive correlation with cluster 4 is PCA4. This PC is highly correlated to high income people who have very high purchasing powers, have high environmental sustainability awareness when they are young. They are avantgarde whose mindset and ideas are always ahead of the time. they are keen to try cutting-edge things and enjoy going online. They are mature upper class households with kids(6-10 people). Location-wise, they live close to urban centers. In a nutshell, they are avantgarde-minded top earners of mature households in the urban region."
   ]
  },
  {
   "cell_type": "code",
   "execution_count": 270,
   "metadata": {},
   "outputs": [
    {
     "data": {
      "text/plain": [
       "SEMIO_VERT               0.329152\n",
       "SEMIO_SOZ                0.259897\n",
       "SEMIO_FAM                0.257927\n",
       "SEMIO_KULT               0.247919\n",
       "FINANZ_MINIMALIST        0.136183\n",
       "FINANZTYP_5              0.134959\n",
       "SHOPPER_TYP_0.0          0.122917\n",
       "ZABEOTYP_1               0.115088\n",
       "SEMIO_REL                0.105771\n",
       "RETOURTYP_BK_S           0.083768\n",
       "W_KEIT_KIND_HH           0.076588\n",
       "SEMIO_MAT                0.075909\n",
       "GENERATION               0.067324\n",
       "FINANZ_VORSORGER         0.065161\n",
       "GREEN_AVANTGARDE         0.057796\n",
       "MOVEMENT                 0.057796\n",
       "SHOPPER_TYP_1.0          0.052879\n",
       "EWDICHTE                 0.052746\n",
       "ORTSGR_KLS9              0.051814\n",
       "ZABEOTYP_6               0.051776\n",
       "PLZ8_ANTG3               0.041610\n",
       "PLZ8_ANTG4               0.041108\n",
       "LP_STATUS_GROB_5.0       0.038847\n",
       "SEMIO_LUST               0.035158\n",
       "ARBEIT                   0.032373\n",
       "RELAT_AB                 0.032217\n",
       "ALTERSKATEGORIE_GROB     0.031637\n",
       "PLZ8_ANTG2               0.030561\n",
       "GEBAEUDETYP_3.0          0.027777\n",
       "WOHNDAUER_2008           0.027639\n",
       "                           ...   \n",
       "KKK                     -0.028831\n",
       "ZABEOTYP_5              -0.031324\n",
       "PLZ8_GBZ                -0.031388\n",
       "SEMIO_TRADV             -0.032776\n",
       "NATIONALITAET_KZ_3.0    -0.033599\n",
       "ONLINE_AFFINITAET       -0.034968\n",
       "SEMIO_PFLICHT           -0.036349\n",
       "CJT_GESAMTTYP_6.0       -0.036727\n",
       "GEBAEUDETYP_RASTER      -0.037049\n",
       "ZABEOTYP_2              -0.037787\n",
       "BALLRAUM                -0.039970\n",
       "PLZ8_ANTG1              -0.040391\n",
       "KONSUMNAEHE             -0.044043\n",
       "INNENSTADT              -0.046595\n",
       "FINANZ_HAUSBAUER        -0.046960\n",
       "LP_FAMILIE_GROB_3.0     -0.049274\n",
       "SHOPPER_TYP_3.0         -0.054556\n",
       "ZABEOTYP_4              -0.066056\n",
       "FINANZ_UNAUFFAELLIGER   -0.069809\n",
       "FINANZ_SPARER           -0.071748\n",
       "SHOPPER_TYP_2.0         -0.090807\n",
       "MIN_GEBAEUDEJAHR        -0.098104\n",
       "FINANZTYP_1             -0.111140\n",
       "FINANZ_ANLEGER          -0.163114\n",
       "SEMIO_RAT               -0.168466\n",
       "SEMIO_ERL               -0.201479\n",
       "SEMIO_KRIT              -0.273989\n",
       "SEMIO_DOM               -0.287361\n",
       "SEMIO_KAEM              -0.316217\n",
       "ANREDE_KZ               -0.353516\n",
       "Length: 116, dtype: float64"
      ]
     },
     "execution_count": 270,
     "metadata": {},
     "output_type": "execute_result"
    }
   ],
   "source": [
    "pca_interpretation(pca1,2)"
   ]
  },
  {
   "cell_type": "markdown",
   "metadata": {},
   "source": [
    "PCA 2 is mostly competitive, critically minded and rantional male who like to shop for family. They might be home owners and very interested in investing."
   ]
  },
  {
   "cell_type": "code",
   "execution_count": 272,
   "metadata": {},
   "outputs": [
    {
     "data": {
      "text/plain": [
       "LP_FAMILIE_GROB_2.0     0.354723\n",
       "CAMEO_DEUG_2015_3       0.301847\n",
       "SHOPPER_TYP_2.0         0.276595\n",
       "CAMEO_DEUG_2015_5       0.201111\n",
       "CAMEO_DEUG_2015_9       0.175573\n",
       "FINANZTYP_4             0.174619\n",
       "LP_STATUS_GROB_2.0      0.138127\n",
       "CJT_GESAMTTYP_3.0       0.132658\n",
       "FINANZTYP_2             0.129705\n",
       "ANZ_HH_TITEL            0.127069\n",
       "CJT_GESAMTTYP_5.0       0.114209\n",
       "HEALTH_TYP              0.107150\n",
       "ZABEOTYP_5              0.101894\n",
       "GEBAEUDETYP_1.0         0.100015\n",
       "ANZ_HAUSHALTE_AKTIV     0.098631\n",
       "ONLINE_AFFINITAET       0.079503\n",
       "LP_FAMILIE_GROB_3.0     0.076953\n",
       "GREEN_AVANTGARDE        0.065736\n",
       "MOVEMENT                0.065736\n",
       "PLZ8_ANTG4              0.063934\n",
       "LP_FAMILIE_GROB_4.0     0.061774\n",
       "NATIONALITAET_KZ_2.0    0.060074\n",
       "CJT_GESAMTTYP_2.0       0.058945\n",
       "PLZ8_ANTG2              0.052641\n",
       "PLZ8_ANTG3              0.051662\n",
       "LP_STATUS_GROB_5.0      0.051655\n",
       "KBA05_ANTG4             0.050968\n",
       "BALLRAUM                0.048207\n",
       "OST_WEST_KZ             0.043732\n",
       "FINANZ_MINIMALIST       0.039604\n",
       "                          ...   \n",
       "SEMIO_TRADV            -0.044324\n",
       "CJT_GESAMTTYP_4.0      -0.045523\n",
       "FINANZ_HAUSBAUER       -0.046124\n",
       "KONSUMNAEHE            -0.047540\n",
       "GEBAEUDETYP_8.0        -0.048682\n",
       "ZABEOTYP_4             -0.049120\n",
       "FINANZTYP_5            -0.054974\n",
       "ORTSGR_KLS9            -0.056129\n",
       "SHOPPER_TYP_0.0        -0.061940\n",
       "PLZ8_GBZ               -0.067296\n",
       "NATIONALITAET_KZ_3.0   -0.067429\n",
       "PLZ8_ANTG1             -0.069816\n",
       "GEBAEUDETYP_3.0        -0.070155\n",
       "CJT_GESAMTTYP_6.0      -0.081187\n",
       "WOHNDAUER_2008         -0.083425\n",
       "KBA05_ANTG3            -0.083660\n",
       "RELAT_AB               -0.084230\n",
       "LP_STATUS_GROB_1.0     -0.099824\n",
       "WEALTH                 -0.101038\n",
       "SHOPPER_TYP_3.0        -0.111963\n",
       "SHOPPER_TYP_1.0        -0.114668\n",
       "ARBEIT                 -0.116101\n",
       "CAMEO_DEUG_2015_8      -0.130560\n",
       "LP_FAMILIE_GROB_1.0    -0.139503\n",
       "LP_STATUS_GROB_3.0     -0.139719\n",
       "CAMEO_DEUG_2015_4      -0.172126\n",
       "LP_FAMILIE_GROB_5.0    -0.185511\n",
       "CJT_GESAMTTYP_1.0      -0.207802\n",
       "FINANZTYP_3            -0.216382\n",
       "CAMEO_DEUG_2015_2      -0.248911\n",
       "Length: 116, dtype: float64"
      ]
     },
     "execution_count": 272,
     "metadata": {},
     "output_type": "execute_result"
    }
   ],
   "source": [
    "pca_interpretation(pca1,26)"
   ]
  },
  {
   "cell_type": "markdown",
   "metadata": {},
   "source": [
    "PCA26 is about established middle class couples, financially prepared"
   ]
  },
  {
   "cell_type": "code",
   "execution_count": 273,
   "metadata": {},
   "outputs": [
    {
     "data": {
      "text/plain": [
       "<matplotlib.axes._subplots.AxesSubplot at 0x1ad3eac518>"
      ]
     },
     "execution_count": 273,
     "metadata": {},
     "output_type": "execute_result"
    },
    {
     "data": {
      "image/png": "[encoded data removed]",
      "text/plain": [
       "<Figure size 1080x432 with 1 Axes>"
      ]
     },
     "metadata": {},
     "output_type": "display_data"
    }
   ],
   "source": [
    "# What kinds of people are part of a cluster that is underrepresented in the\n",
    "# customer data compared to the general population?\n",
    "\n",
    "# cluster 0 is the most underrepresented group as the chart above shows. \n",
    "# The biggest affect component of cluster 0 is pca 0\n",
    "plt.figure(figsize=(15,6))\n",
    "customer_pca_df.loc[customer_pca_df['cluster_label']==5,:].iloc[:,:-1].mean().plot.bar()"
   ]
  },
  {
   "cell_type": "code",
   "execution_count": 274,
   "metadata": {},
   "outputs": [
    {
     "data": {
      "text/plain": [
       "LP_STATUS_GROB_1.0       0.201760\n",
       "HH_EINKOMMEN_SCORE       0.199264\n",
       "PLZ8_ANTG3               0.189517\n",
       "PLZ8_ANTG4               0.181696\n",
       "EWDICHTE                 0.168248\n",
       "ORTSGR_KLS9              0.167642\n",
       "FINANZ_HAUSBAUER         0.162764\n",
       "KBA05_ANTG4              0.135757\n",
       "FINANZ_SPARER            0.131343\n",
       "PLZ8_ANTG2               0.130993\n",
       "FINANZTYP_1              0.128229\n",
       "ANZ_HAUSHALTE_AKTIV      0.124917\n",
       "ARBEIT                   0.121969\n",
       "KBA05_ANTG3              0.120757\n",
       "RELAT_AB                 0.116469\n",
       "CAMEO_DEUG_2015_9        0.115994\n",
       "SEMIO_REL                0.094718\n",
       "SEMIO_PFLICHT            0.094251\n",
       "CAMEO_DEUG_2015_8        0.091973\n",
       "ZABEOTYP_5               0.083270\n",
       "LP_FAMILIE_GROB_1.0      0.081244\n",
       "SEMIO_RAT                0.078388\n",
       "GEBAEUDETYP_3.0          0.072888\n",
       "SEMIO_TRADV              0.070067\n",
       "FINANZ_ANLEGER           0.065442\n",
       "FINANZ_UNAUFFAELLIGER    0.062407\n",
       "SEMIO_FAM                0.058992\n",
       "SEMIO_MAT                0.058931\n",
       "REGIOTYP                 0.056766\n",
       "SEMIO_KULT               0.054180\n",
       "                           ...   \n",
       "KBA13_ANZAHL_PKW        -0.065779\n",
       "FINANZTYP_3             -0.070830\n",
       "CAMEO_DEUG_2015_3       -0.071196\n",
       "CAMEO_DEUG_2015_4       -0.074559\n",
       "ANZ_PERSONEN            -0.080783\n",
       "GENERATION              -0.083094\n",
       "NATIONALITAET_KZ_1.0    -0.083872\n",
       "FINANZTYP_2             -0.088069\n",
       "CAMEO_DEUG_2015_2       -0.095109\n",
       "FINANZ_VORSORGER        -0.095279\n",
       "GEBAEUDETYP_1.0         -0.096414\n",
       "ALTERSKATEGORIE_GROB    -0.097687\n",
       "ZABEOTYP_1              -0.098918\n",
       "GREEN_AVANTGARDE        -0.101401\n",
       "MOVEMENT                -0.101401\n",
       "BALLRAUM                -0.105476\n",
       "GEBAEUDETYP_RASTER      -0.106053\n",
       "LP_STATUS_GROB_5.0      -0.111823\n",
       "LIFE_STAGE              -0.112322\n",
       "LP_STATUS_GROB_4.0      -0.127136\n",
       "PLZ8_GBZ                -0.137791\n",
       "INNENSTADT              -0.137906\n",
       "KONSUMNAEHE             -0.149129\n",
       "MIN_GEBAEUDEJAHR        -0.149689\n",
       "KBA05_GBZ               -0.185441\n",
       "PLZ8_ANTG1              -0.187682\n",
       "KBA05_ANTG1             -0.188331\n",
       "WEALTH                  -0.190741\n",
       "FINANZ_MINIMALIST       -0.208146\n",
       "MOBI_REGIO              -0.209104\n",
       "Length: 116, dtype: float64"
      ]
     },
     "execution_count": 274,
     "metadata": {},
     "output_type": "execute_result"
    }
   ],
   "source": [
    "pca_interpretation(pca1,0)"
   ]
  },
  {
   "cell_type": "markdown",
   "metadata": {},
   "source": [
    "The underrepresented cluster is majorly composed of PCA 0 which is mainly large low income earners living in very crowded community with high share of large households (6+ people). and they tend to move a lot maybe because of unstable income. This is apparently the group the company don't want to target."
   ]
  },
  {
   "cell_type": "markdown",
   "metadata": {},
   "source": [
    "### Discussion 3.3: Compare Customer Data to Demographics Data\n",
    "Can we describe segments of the population that are relatively popular with the mail-order company, or relatively unpopular with the company?\n",
    "\n",
    "\n",
    "* From the analysis of the highly concentrated Principle components of the overrepresented cluster(cluster #4), I would recommend the audience that mail-order company might target are high income urban dwellers who have high environmental sustainability awareness when they are young. They are avantgarde whose mindset and ideas are always ahead of the time. They are keen to try cutting-edge things and are big internet users. They are mature upper class households with kids(6-10 people). Location-wise, they live close to urban centers. In a nutshell, they are avantgarde-minded top earners of mature households in the urban region.\n",
    "\n",
    "\n",
    "* The most underrepresented cluster(cluster #0) is mainly composed of PC0 which is mainly low income earners living in very crowded communities full of large housefholds(6+ people) and they tend to move around a lot and do not have a stable location. People in this type of households are relatively unpopular with the company. "
   ]
  },
  {
   "cell_type": "markdown",
   "metadata": {},
   "source": [
    "> Congratulations on making it this far in the project! Before you finish, make sure to check through the entire notebook from top to bottom to make sure that your analysis follows a logical flow and all of your findings are documented in **Discussion** cells. Once you've checked over all of your work, you should export the notebook as an HTML document to submit for evaluation. You can do this from the menu, navigating to **File -> Download as -> HTML (.html)**. You will submit both that document and this notebook for your project submission."
   ]
  },
  {
   "cell_type": "code",
   "execution_count": null,
   "metadata": {},
   "outputs": [],
   "source": []
  }
 ],
 "metadata": {
  "kernelspec": {
   "display_name": "Python 3",
   "language": "python",
   "name": "python3"
  },
  "language_info": {
   "codemirror_mode": {
    "name": "ipython",
    "version": 3
   },
   "file_extension": ".py",
   "mimetype": "text/x-python",
   "name": "python",
   "nbconvert_exporter": "python",
   "pygments_lexer": "ipython3",
   "version": "3.6.5"
  }
 },
 "nbformat": 4,
 "nbformat_minor": 2
}
